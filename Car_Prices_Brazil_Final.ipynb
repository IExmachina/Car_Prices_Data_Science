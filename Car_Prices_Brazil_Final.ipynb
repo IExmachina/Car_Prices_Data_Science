{
  "nbformat": 4,
  "nbformat_minor": 0,
  "metadata": {
    "colab": {
      "name": "Car_Prices_Brazil.ipynb",
      "provenance": []
    },
    "kernelspec": {
      "display_name": "Python 3",
      "name": "python3"
    },
    "language_info": {
      "name": "python"
    }
  },
  "cells": [
    {
      "cell_type": "markdown",
      "metadata": {
        "id": "xJP1OnZw5TeM"
      },
      "source": [
        "#Forecasting car prices - Brazil"
      ]
    },
    {
      "cell_type": "markdown",
      "metadata": {
        "id": "djsp35ej5lFB"
      },
      "source": [
        "####CRISP DM - Methodology for Data Science projects.\n",
        "* Business Understanding\n",
        "* Data Understanding\n",
        "* Data Preparation\n",
        "* Modelling\n",
        "* Evaluation\n",
        "* Deployment"
      ]
    },
    {
      "cell_type": "markdown",
      "metadata": {
        "id": "Okg8_BcC6gsc"
      },
      "source": [
        "#Business Understanding"
      ]
    },
    {
      "cell_type": "markdown",
      "metadata": {
        "id": "Y9NQQUkN6psE"
      },
      "source": [
        "* Forecasting prices.\n",
        "* Likely Regression\n",
        "* Reliable data( Tabela FIPE 2021)\n"
      ]
    },
    {
      "cell_type": "markdown",
      "metadata": {
        "id": "t0mYF8X_7hzT"
      },
      "source": [
        "#Data understanding"
      ]
    },
    {
      "cell_type": "code",
      "metadata": {
        "id": "DdTJHM2H7dce"
      },
      "source": [
        "import pandas as pd\n",
        "import numpy as np\n",
        "import seaborn as sns\n",
        "import matplotlib.pyplot as plt"
      ],
      "execution_count": 1,
      "outputs": []
    },
    {
      "cell_type": "code",
      "metadata": {
        "colab": {
          "base_uri": "https://localhost:8080/",
          "height": 202
        },
        "id": "iFDiBdN4720m",
        "outputId": "509d822e-bb54-457a-e672-c4debd30c1b7"
      },
      "source": [
        "df = pd.read_csv('/content/tabela_fipe.csv')\n",
        "df.head()"
      ],
      "execution_count": 2,
      "outputs": [
        {
          "output_type": "execute_result",
          "data": {
            "text/html": [
              "<div>\n",
              "<style scoped>\n",
              "    .dataframe tbody tr th:only-of-type {\n",
              "        vertical-align: middle;\n",
              "    }\n",
              "\n",
              "    .dataframe tbody tr th {\n",
              "        vertical-align: top;\n",
              "    }\n",
              "\n",
              "    .dataframe thead th {\n",
              "        text-align: right;\n",
              "    }\n",
              "</style>\n",
              "<table border=\"1\" class=\"dataframe\">\n",
              "  <thead>\n",
              "    <tr style=\"text-align: right;\">\n",
              "      <th></th>\n",
              "      <th>Marca</th>\n",
              "      <th>Modelo</th>\n",
              "      <th>Valor</th>\n",
              "      <th>Ano</th>\n",
              "      <th>Combustível</th>\n",
              "      <th>Automático</th>\n",
              "    </tr>\n",
              "  </thead>\n",
              "  <tbody>\n",
              "    <tr>\n",
              "      <th>0</th>\n",
              "      <td>Acura</td>\n",
              "      <td>Integra GS 1.8</td>\n",
              "      <td>11165.0</td>\n",
              "      <td>1992</td>\n",
              "      <td>Gasolina</td>\n",
              "      <td>False</td>\n",
              "    </tr>\n",
              "    <tr>\n",
              "      <th>1</th>\n",
              "      <td>Acura</td>\n",
              "      <td>Integra GS 1.8</td>\n",
              "      <td>10167.0</td>\n",
              "      <td>1991</td>\n",
              "      <td>Gasolina</td>\n",
              "      <td>False</td>\n",
              "    </tr>\n",
              "    <tr>\n",
              "      <th>2</th>\n",
              "      <td>Acura</td>\n",
              "      <td>Legend 3.2/3.5</td>\n",
              "      <td>25574.0</td>\n",
              "      <td>1998</td>\n",
              "      <td>Gasolina</td>\n",
              "      <td>False</td>\n",
              "    </tr>\n",
              "    <tr>\n",
              "      <th>3</th>\n",
              "      <td>Acura</td>\n",
              "      <td>Legend 3.2/3.5</td>\n",
              "      <td>22561.0</td>\n",
              "      <td>1997</td>\n",
              "      <td>Gasolina</td>\n",
              "      <td>False</td>\n",
              "    </tr>\n",
              "    <tr>\n",
              "      <th>4</th>\n",
              "      <td>Acura</td>\n",
              "      <td>Legend 3.2/3.5</td>\n",
              "      <td>21388.0</td>\n",
              "      <td>1996</td>\n",
              "      <td>Gasolina</td>\n",
              "      <td>False</td>\n",
              "    </tr>\n",
              "  </tbody>\n",
              "</table>\n",
              "</div>"
            ],
            "text/plain": [
              "   Marca          Modelo    Valor   Ano Combustível  Automático\n",
              "0  Acura  Integra GS 1.8  11165.0  1992    Gasolina       False\n",
              "1  Acura  Integra GS 1.8  10167.0  1991    Gasolina       False\n",
              "2  Acura  Legend 3.2/3.5  25574.0  1998    Gasolina       False\n",
              "3  Acura  Legend 3.2/3.5  22561.0  1997    Gasolina       False\n",
              "4  Acura  Legend 3.2/3.5  21388.0  1996    Gasolina       False"
            ]
          },
          "metadata": {},
          "execution_count": 2
        }
      ]
    },
    {
      "cell_type": "code",
      "metadata": {
        "colab": {
          "base_uri": "https://localhost:8080/",
          "height": 202
        },
        "id": "lVqeUG4R79HH",
        "outputId": "07d96221-6d01-475f-babf-54e6ef4ee6ee"
      },
      "source": [
        "df.tail()"
      ],
      "execution_count": 3,
      "outputs": [
        {
          "output_type": "execute_result",
          "data": {
            "text/html": [
              "<div>\n",
              "<style scoped>\n",
              "    .dataframe tbody tr th:only-of-type {\n",
              "        vertical-align: middle;\n",
              "    }\n",
              "\n",
              "    .dataframe tbody tr th {\n",
              "        vertical-align: top;\n",
              "    }\n",
              "\n",
              "    .dataframe thead th {\n",
              "        text-align: right;\n",
              "    }\n",
              "</style>\n",
              "<table border=\"1\" class=\"dataframe\">\n",
              "  <thead>\n",
              "    <tr style=\"text-align: right;\">\n",
              "      <th></th>\n",
              "      <th>Marca</th>\n",
              "      <th>Modelo</th>\n",
              "      <th>Valor</th>\n",
              "      <th>Ano</th>\n",
              "      <th>Combustível</th>\n",
              "      <th>Automático</th>\n",
              "    </tr>\n",
              "  </thead>\n",
              "  <tbody>\n",
              "    <tr>\n",
              "      <th>171346</th>\n",
              "      <td>Walk</td>\n",
              "      <td>Buggy Walk Sport 1.6 8V 58cv</td>\n",
              "      <td>19750.0</td>\n",
              "      <td>2009</td>\n",
              "      <td>Gasolina</td>\n",
              "      <td>False</td>\n",
              "    </tr>\n",
              "    <tr>\n",
              "      <th>171347</th>\n",
              "      <td>Walk</td>\n",
              "      <td>Buggy Walk Sport 1.6 8V 58cv</td>\n",
              "      <td>17531.0</td>\n",
              "      <td>2008</td>\n",
              "      <td>Gasolina</td>\n",
              "      <td>False</td>\n",
              "    </tr>\n",
              "    <tr>\n",
              "      <th>171348</th>\n",
              "      <td>Walk</td>\n",
              "      <td>Buggy Walk Sport 1.6 8V 58cv</td>\n",
              "      <td>16836.0</td>\n",
              "      <td>2007</td>\n",
              "      <td>Gasolina</td>\n",
              "      <td>False</td>\n",
              "    </tr>\n",
              "    <tr>\n",
              "      <th>171349</th>\n",
              "      <td>Walk</td>\n",
              "      <td>Buggy Walk Sport 1.6 8V 58cv</td>\n",
              "      <td>16125.0</td>\n",
              "      <td>2006</td>\n",
              "      <td>Gasolina</td>\n",
              "      <td>False</td>\n",
              "    </tr>\n",
              "    <tr>\n",
              "      <th>171350</th>\n",
              "      <td>Walk</td>\n",
              "      <td>Buggy Walk Sport 1.6 8V 58cv</td>\n",
              "      <td>12457.0</td>\n",
              "      <td>2005</td>\n",
              "      <td>Gasolina</td>\n",
              "      <td>False</td>\n",
              "    </tr>\n",
              "  </tbody>\n",
              "</table>\n",
              "</div>"
            ],
            "text/plain": [
              "       Marca                        Modelo  ...  Combustível Automático\n",
              "171346  Walk  Buggy Walk Sport 1.6 8V 58cv  ...     Gasolina      False\n",
              "171347  Walk  Buggy Walk Sport 1.6 8V 58cv  ...     Gasolina      False\n",
              "171348  Walk  Buggy Walk Sport 1.6 8V 58cv  ...     Gasolina      False\n",
              "171349  Walk  Buggy Walk Sport 1.6 8V 58cv  ...     Gasolina      False\n",
              "171350  Walk  Buggy Walk Sport 1.6 8V 58cv  ...     Gasolina      False\n",
              "\n",
              "[5 rows x 6 columns]"
            ]
          },
          "metadata": {},
          "execution_count": 3
        }
      ]
    },
    {
      "cell_type": "code",
      "metadata": {
        "colab": {
          "base_uri": "https://localhost:8080/"
        },
        "id": "BPI7mcRi8EKW",
        "outputId": "3d9f834c-aa0f-4aee-ba91-45f651db43e5"
      },
      "source": [
        "df.shape"
      ],
      "execution_count": 4,
      "outputs": [
        {
          "output_type": "execute_result",
          "data": {
            "text/plain": [
              "(171351, 6)"
            ]
          },
          "metadata": {},
          "execution_count": 4
        }
      ]
    },
    {
      "cell_type": "code",
      "metadata": {
        "colab": {
          "base_uri": "https://localhost:8080/"
        },
        "id": "rxU5M15G8JEG",
        "outputId": "d0ff69e0-5f70-44f2-84e7-c24e7fe24e8a"
      },
      "source": [
        "df.info()"
      ],
      "execution_count": 5,
      "outputs": [
        {
          "output_type": "stream",
          "name": "stdout",
          "text": [
            "<class 'pandas.core.frame.DataFrame'>\n",
            "RangeIndex: 171351 entries, 0 to 171350\n",
            "Data columns (total 6 columns):\n",
            " #   Column       Non-Null Count   Dtype  \n",
            "---  ------       --------------   -----  \n",
            " 0   Marca        171351 non-null  object \n",
            " 1   Modelo       171351 non-null  object \n",
            " 2   Valor        171351 non-null  float64\n",
            " 3   Ano          171351 non-null  object \n",
            " 4   Combustível  171351 non-null  object \n",
            " 5   Automático   171351 non-null  bool   \n",
            "dtypes: bool(1), float64(1), object(4)\n",
            "memory usage: 6.7+ MB\n"
          ]
        }
      ]
    },
    {
      "cell_type": "code",
      "metadata": {
        "colab": {
          "base_uri": "https://localhost:8080/"
        },
        "id": "n0JGaegn8Lsu",
        "outputId": "034fcae1-887a-45d5-bc91-2fe1eb5f8aa8"
      },
      "source": [
        "df.nunique()"
      ],
      "execution_count": 6,
      "outputs": [
        {
          "output_type": "execute_result",
          "data": {
            "text/plain": [
              "Marca             90\n",
              "Modelo          6198\n",
              "Valor          23145\n",
              "Ano               39\n",
              "Combustível        3\n",
              "Automático         2\n",
              "dtype: int64"
            ]
          },
          "metadata": {},
          "execution_count": 6
        }
      ]
    },
    {
      "cell_type": "code",
      "metadata": {
        "id": "xADsfWWj8asN"
      },
      "source": [
        "# The 'Ano'(year) column is as object type. Let's change that.\n",
        "#df['Ano'] = df['Ano'].astype(int)"
      ],
      "execution_count": 7,
      "outputs": []
    },
    {
      "cell_type": "code",
      "metadata": {
        "colab": {
          "base_uri": "https://localhost:8080/"
        },
        "id": "is5DS1Hv9gbQ",
        "outputId": "09c9fea0-32c7-4c33-8357-cb42cb5cd60e"
      },
      "source": [
        "# There is a 'Zero KM' value in the 'Ano' column. The code above return an error.\n",
        "df['Ano'].unique()"
      ],
      "execution_count": 8,
      "outputs": [
        {
          "output_type": "execute_result",
          "data": {
            "text/plain": [
              "array(['1992', '1991', '1998', '1997', '1996', '1995', '1994', '1993',\n",
              "       '2007', '2006', '2005', '2004', '2015', '2014', '2013', '2012',\n",
              "       '2011', '2010', '2009', '2008', 'Zero KM', '2021', '2020', '2019',\n",
              "       '2018', '2017', '2016', '1999', '2003', '2002', '2001', '2000',\n",
              "       '1986', '1985', '1990', '1989', '1988', '1987', '2022'],\n",
              "      dtype=object)"
            ]
          },
          "metadata": {},
          "execution_count": 8
        }
      ]
    },
    {
      "cell_type": "code",
      "metadata": {
        "colab": {
          "base_uri": "https://localhost:8080/",
          "height": 414
        },
        "id": "ujs4hEKe9Wsm",
        "outputId": "78891ba0-2db7-4a9d-f592-de6b8170ebf9"
      },
      "source": [
        "df[df['Ano']== \"Zero KM\"]"
      ],
      "execution_count": 9,
      "outputs": [
        {
          "output_type": "execute_result",
          "data": {
            "text/html": [
              "<div>\n",
              "<style scoped>\n",
              "    .dataframe tbody tr th:only-of-type {\n",
              "        vertical-align: middle;\n",
              "    }\n",
              "\n",
              "    .dataframe tbody tr th {\n",
              "        vertical-align: top;\n",
              "    }\n",
              "\n",
              "    .dataframe thead th {\n",
              "        text-align: right;\n",
              "    }\n",
              "</style>\n",
              "<table border=\"1\" class=\"dataframe\">\n",
              "  <thead>\n",
              "    <tr style=\"text-align: right;\">\n",
              "      <th></th>\n",
              "      <th>Marca</th>\n",
              "      <th>Modelo</th>\n",
              "      <th>Valor</th>\n",
              "      <th>Ano</th>\n",
              "      <th>Combustível</th>\n",
              "      <th>Automático</th>\n",
              "    </tr>\n",
              "  </thead>\n",
              "  <tbody>\n",
              "    <tr>\n",
              "      <th>52</th>\n",
              "      <td>Agrale</td>\n",
              "      <td>MARRUÁ AM 200 2.8 CD TDI Diesel</td>\n",
              "      <td>379862.0</td>\n",
              "      <td>Zero KM</td>\n",
              "      <td>Diesel</td>\n",
              "      <td>False</td>\n",
              "    </tr>\n",
              "    <tr>\n",
              "      <th>67</th>\n",
              "      <td>Agrale</td>\n",
              "      <td>MARRUÁ AM 200 2.8 CS TDI Diesel</td>\n",
              "      <td>355525.0</td>\n",
              "      <td>Zero KM</td>\n",
              "      <td>Diesel</td>\n",
              "      <td>False</td>\n",
              "    </tr>\n",
              "    <tr>\n",
              "      <th>83</th>\n",
              "      <td>Agrale</td>\n",
              "      <td>MARRUÁ AM 200 Escolar 2.8 TDI Diesel</td>\n",
              "      <td>456633.0</td>\n",
              "      <td>Zero KM</td>\n",
              "      <td>Diesel</td>\n",
              "      <td>False</td>\n",
              "    </tr>\n",
              "    <tr>\n",
              "      <th>85</th>\n",
              "      <td>Agrale</td>\n",
              "      <td>MARRUÁ AM 200 Microbus 2.8 TDI Diesel</td>\n",
              "      <td>455566.0</td>\n",
              "      <td>Zero KM</td>\n",
              "      <td>Diesel</td>\n",
              "      <td>False</td>\n",
              "    </tr>\n",
              "    <tr>\n",
              "      <th>423</th>\n",
              "      <td>Audi</td>\n",
              "      <td>A3 Sed. P. Plus Tech 1.4 Flex TFSI Tip.</td>\n",
              "      <td>182545.0</td>\n",
              "      <td>Zero KM</td>\n",
              "      <td>Gasolina</td>\n",
              "      <td>False</td>\n",
              "    </tr>\n",
              "    <tr>\n",
              "      <th>...</th>\n",
              "      <td>...</td>\n",
              "      <td>...</td>\n",
              "      <td>...</td>\n",
              "      <td>...</td>\n",
              "      <td>...</td>\n",
              "      <td>...</td>\n",
              "    </tr>\n",
              "    <tr>\n",
              "      <th>171179</th>\n",
              "      <td>VW - VolksWagen</td>\n",
              "      <td>VIRTUS Sense 1.6 Flex 16V 5p Aut. (PCD)</td>\n",
              "      <td>69990.0</td>\n",
              "      <td>Zero KM</td>\n",
              "      <td>Gasolina</td>\n",
              "      <td>True</td>\n",
              "    </tr>\n",
              "    <tr>\n",
              "      <th>171187</th>\n",
              "      <td>VW - VolksWagen</td>\n",
              "      <td>VOYAGE 1.0 Flex 12V 4p</td>\n",
              "      <td>68751.0</td>\n",
              "      <td>Zero KM</td>\n",
              "      <td>Gasolina</td>\n",
              "      <td>False</td>\n",
              "    </tr>\n",
              "    <tr>\n",
              "      <th>171200</th>\n",
              "      <td>VW - VolksWagen</td>\n",
              "      <td>VOYAGE 1.6 MSI Flex 16V 4p Aut.</td>\n",
              "      <td>80566.0</td>\n",
              "      <td>Zero KM</td>\n",
              "      <td>Gasolina</td>\n",
              "      <td>True</td>\n",
              "    </tr>\n",
              "    <tr>\n",
              "      <th>171205</th>\n",
              "      <td>VW - VolksWagen</td>\n",
              "      <td>VOYAGE 1.6 MSI Flex 8V 4p</td>\n",
              "      <td>74400.0</td>\n",
              "      <td>Zero KM</td>\n",
              "      <td>Gasolina</td>\n",
              "      <td>False</td>\n",
              "    </tr>\n",
              "    <tr>\n",
              "      <th>171320</th>\n",
              "      <td>Wake</td>\n",
              "      <td>Way 1.6 Total Flex 8V Mec.</td>\n",
              "      <td>77540.0</td>\n",
              "      <td>Zero KM</td>\n",
              "      <td>Gasolina</td>\n",
              "      <td>False</td>\n",
              "    </tr>\n",
              "  </tbody>\n",
              "</table>\n",
              "<p>6917 rows × 6 columns</p>\n",
              "</div>"
            ],
            "text/plain": [
              "                  Marca  ... Automático\n",
              "52               Agrale  ...      False\n",
              "67               Agrale  ...      False\n",
              "83               Agrale  ...      False\n",
              "85               Agrale  ...      False\n",
              "423                Audi  ...      False\n",
              "...                 ...  ...        ...\n",
              "171179  VW - VolksWagen  ...       True\n",
              "171187  VW - VolksWagen  ...      False\n",
              "171200  VW - VolksWagen  ...       True\n",
              "171205  VW - VolksWagen  ...      False\n",
              "171320             Wake  ...      False\n",
              "\n",
              "[6917 rows x 6 columns]"
            ]
          },
          "metadata": {},
          "execution_count": 9
        }
      ]
    },
    {
      "cell_type": "code",
      "metadata": {
        "colab": {
          "base_uri": "https://localhost:8080/"
        },
        "id": "ZVFLcnVI_3w9",
        "outputId": "4bb253a7-890e-417c-a48f-34280c9a5809"
      },
      "source": [
        "# Replacing the 'Zero KM' value to 2022, since a zero km model is probably a 2022 model.\n",
        "# And also because the highest number of records is 'Zero KM'. Factories usually try to sell the newest models more.\n",
        "df['Ano'].value_counts()"
      ],
      "execution_count": 10,
      "outputs": [
        {
          "output_type": "execute_result",
          "data": {
            "text/plain": [
              "Zero KM    6917\n",
              "2018       6734\n",
              "2012       6721\n",
              "2015       6688\n",
              "2013       6632\n",
              "2014       6565\n",
              "2016       6431\n",
              "2019       6398\n",
              "2017       6360\n",
              "2020       6216\n",
              "2011       6134\n",
              "2010       5836\n",
              "2009       5665\n",
              "2000       5384\n",
              "1999       5239\n",
              "2008       5101\n",
              "2006       5016\n",
              "2021       5014\n",
              "2005       4953\n",
              "2001       4935\n",
              "2007       4901\n",
              "1998       4876\n",
              "1995       4781\n",
              "1997       4147\n",
              "2002       4081\n",
              "2004       3940\n",
              "1994       3917\n",
              "1996       3761\n",
              "2003       3729\n",
              "1993       3534\n",
              "1992       2527\n",
              "2022       2044\n",
              "1991       1599\n",
              "1989        863\n",
              "1990        829\n",
              "1988        803\n",
              "1987        765\n",
              "1986        740\n",
              "1985        575\n",
              "Name: Ano, dtype: int64"
            ]
          },
          "metadata": {},
          "execution_count": 10
        }
      ]
    },
    {
      "cell_type": "code",
      "metadata": {
        "colab": {
          "base_uri": "https://localhost:8080/"
        },
        "id": "CGvX4fUmAu8d",
        "outputId": "11d08c91-74e7-4173-8244-57fad333527f"
      },
      "source": [
        "df.loc[df['Ano'] ==\"Zero KM\", 'Ano'] = '2022'\n",
        "df['Ano'].value_counts()"
      ],
      "execution_count": 11,
      "outputs": [
        {
          "output_type": "execute_result",
          "data": {
            "text/plain": [
              "2022    8961\n",
              "2018    6734\n",
              "2012    6721\n",
              "2015    6688\n",
              "2013    6632\n",
              "2014    6565\n",
              "2016    6431\n",
              "2019    6398\n",
              "2017    6360\n",
              "2020    6216\n",
              "2011    6134\n",
              "2010    5836\n",
              "2009    5665\n",
              "2000    5384\n",
              "1999    5239\n",
              "2008    5101\n",
              "2006    5016\n",
              "2021    5014\n",
              "2005    4953\n",
              "2001    4935\n",
              "2007    4901\n",
              "1998    4876\n",
              "1995    4781\n",
              "1997    4147\n",
              "2002    4081\n",
              "2004    3940\n",
              "1994    3917\n",
              "1996    3761\n",
              "2003    3729\n",
              "1993    3534\n",
              "1992    2527\n",
              "1991    1599\n",
              "1989     863\n",
              "1990     829\n",
              "1988     803\n",
              "1987     765\n",
              "1986     740\n",
              "1985     575\n",
              "Name: Ano, dtype: int64"
            ]
          },
          "metadata": {},
          "execution_count": 11
        }
      ]
    },
    {
      "cell_type": "code",
      "metadata": {
        "colab": {
          "base_uri": "https://localhost:8080/"
        },
        "id": "ERVNgd6ACRWZ",
        "outputId": "118cfefa-492b-4aed-e6cd-fcba727b8854"
      },
      "source": [
        "df['Ano'] = df['Ano'].astype(int)\n",
        "df.dtypes"
      ],
      "execution_count": 12,
      "outputs": [
        {
          "output_type": "execute_result",
          "data": {
            "text/plain": [
              "Marca           object\n",
              "Modelo          object\n",
              "Valor          float64\n",
              "Ano              int64\n",
              "Combustível     object\n",
              "Automático        bool\n",
              "dtype: object"
            ]
          },
          "metadata": {},
          "execution_count": 12
        }
      ]
    },
    {
      "cell_type": "code",
      "metadata": {
        "colab": {
          "base_uri": "https://localhost:8080/"
        },
        "id": "54WWZ89WDLoV",
        "outputId": "6fd0aa9f-a9f1-4002-83ae-44e9eb6c863c"
      },
      "source": [
        "# Changing the data type of the 'Automático' column to int.\n",
        "df['Automático'] = df['Automático'].astype(int)\n",
        "df.dtypes"
      ],
      "execution_count": 13,
      "outputs": [
        {
          "output_type": "execute_result",
          "data": {
            "text/plain": [
              "Marca           object\n",
              "Modelo          object\n",
              "Valor          float64\n",
              "Ano              int64\n",
              "Combustível     object\n",
              "Automático       int64\n",
              "dtype: object"
            ]
          },
          "metadata": {},
          "execution_count": 13
        }
      ]
    },
    {
      "cell_type": "code",
      "metadata": {
        "colab": {
          "base_uri": "https://localhost:8080/",
          "height": 294
        },
        "id": "4QnKZLaGIHp-",
        "outputId": "c242e79c-73ed-4c35-cf87-ed9253dad8b0"
      },
      "source": [
        "df.describe()"
      ],
      "execution_count": 14,
      "outputs": [
        {
          "output_type": "execute_result",
          "data": {
            "text/html": [
              "<div>\n",
              "<style scoped>\n",
              "    .dataframe tbody tr th:only-of-type {\n",
              "        vertical-align: middle;\n",
              "    }\n",
              "\n",
              "    .dataframe tbody tr th {\n",
              "        vertical-align: top;\n",
              "    }\n",
              "\n",
              "    .dataframe thead th {\n",
              "        text-align: right;\n",
              "    }\n",
              "</style>\n",
              "<table border=\"1\" class=\"dataframe\">\n",
              "  <thead>\n",
              "    <tr style=\"text-align: right;\">\n",
              "      <th></th>\n",
              "      <th>Valor</th>\n",
              "      <th>Ano</th>\n",
              "      <th>Automático</th>\n",
              "    </tr>\n",
              "  </thead>\n",
              "  <tbody>\n",
              "    <tr>\n",
              "      <th>count</th>\n",
              "      <td>1.713510e+05</td>\n",
              "      <td>171351.000000</td>\n",
              "      <td>171351.000000</td>\n",
              "    </tr>\n",
              "    <tr>\n",
              "      <th>mean</th>\n",
              "      <td>1.314815e+05</td>\n",
              "      <td>2008.058932</td>\n",
              "      <td>0.318942</td>\n",
              "    </tr>\n",
              "    <tr>\n",
              "      <th>std</th>\n",
              "      <td>3.870723e+05</td>\n",
              "      <td>9.384163</td>\n",
              "      <td>0.466068</td>\n",
              "    </tr>\n",
              "    <tr>\n",
              "      <th>min</th>\n",
              "      <td>1.674000e+03</td>\n",
              "      <td>1985.000000</td>\n",
              "      <td>0.000000</td>\n",
              "    </tr>\n",
              "    <tr>\n",
              "      <th>25%</th>\n",
              "      <td>1.978200e+04</td>\n",
              "      <td>2000.000000</td>\n",
              "      <td>0.000000</td>\n",
              "    </tr>\n",
              "    <tr>\n",
              "      <th>50%</th>\n",
              "      <td>4.351900e+04</td>\n",
              "      <td>2009.000000</td>\n",
              "      <td>0.000000</td>\n",
              "    </tr>\n",
              "    <tr>\n",
              "      <th>75%</th>\n",
              "      <td>1.029180e+05</td>\n",
              "      <td>2016.000000</td>\n",
              "      <td>1.000000</td>\n",
              "    </tr>\n",
              "    <tr>\n",
              "      <th>max</th>\n",
              "      <td>7.900000e+06</td>\n",
              "      <td>2022.000000</td>\n",
              "      <td>1.000000</td>\n",
              "    </tr>\n",
              "  </tbody>\n",
              "</table>\n",
              "</div>"
            ],
            "text/plain": [
              "              Valor            Ano     Automático\n",
              "count  1.713510e+05  171351.000000  171351.000000\n",
              "mean   1.314815e+05    2008.058932       0.318942\n",
              "std    3.870723e+05       9.384163       0.466068\n",
              "min    1.674000e+03    1985.000000       0.000000\n",
              "25%    1.978200e+04    2000.000000       0.000000\n",
              "50%    4.351900e+04    2009.000000       0.000000\n",
              "75%    1.029180e+05    2016.000000       1.000000\n",
              "max    7.900000e+06    2022.000000       1.000000"
            ]
          },
          "metadata": {},
          "execution_count": 14
        }
      ]
    },
    {
      "cell_type": "markdown",
      "metadata": {
        "id": "spKfPpU7DxbM"
      },
      "source": [
        "###Vizualizing data"
      ]
    },
    {
      "cell_type": "code",
      "metadata": {
        "colab": {
          "base_uri": "https://localhost:8080/",
          "height": 607
        },
        "id": "ttmcIRHYCfVV",
        "outputId": "497806c1-b916-4ae7-8c1e-c6e071e467a6"
      },
      "source": [
        "df.hist(bins=20, figsize=(14, 10));\n",
        "plt.show()"
      ],
      "execution_count": 15,
      "outputs": [
        {
          "output_type": "display_data",
          "data": {
            "image/png": "[encoded data removed]",
            "text/plain": [
              "<Figure size 1008x720 with 4 Axes>"
            ]
          },
          "metadata": {
            "needs_background": "light"
          }
        }
      ]
    },
    {
      "cell_type": "code",
      "metadata": {
        "colab": {
          "base_uri": "https://localhost:8080/",
          "height": 278
        },
        "id": "LUclmaQGCxMt",
        "outputId": "aa8e311a-656a-4452-d323-5c6a20c2285e"
      },
      "source": [
        "sns.countplot(x=df['Automático']);"
      ],
      "execution_count": 16,
      "outputs": [
        {
          "output_type": "display_data",
          "data": {
            "image/png": "[encoded data removed]",
            "text/plain": [
              "<Figure size 432x288 with 1 Axes>"
            ]
          },
          "metadata": {
            "needs_background": "light"
          }
        }
      ]
    },
    {
      "cell_type": "code",
      "metadata": {
        "colab": {
          "base_uri": "https://localhost:8080/"
        },
        "id": "D_nKthBSENAd",
        "outputId": "96c32e66-e4c1-497d-b976-b512a58d3884"
      },
      "source": [
        "df['Automático'].mean()\n",
        "# Only 30% of car models are automatic."
      ],
      "execution_count": 17,
      "outputs": [
        {
          "output_type": "execute_result",
          "data": {
            "text/plain": [
              "0.31894182117408126"
            ]
          },
          "metadata": {},
          "execution_count": 17
        }
      ]
    },
    {
      "cell_type": "code",
      "metadata": {
        "colab": {
          "base_uri": "https://localhost:8080/",
          "height": 278
        },
        "id": "ihHFdaVUEix9",
        "outputId": "32c71b7d-98bd-40de-f91d-3a0207cc7588"
      },
      "source": [
        "sns.countplot(x=df['Combustível']);\n",
        "# The majority of the models are Gasoline fuel type. \n",
        "#That can harm the learning of the algorithms and there for the predction prices on alcohool and diasel cars."
      ],
      "execution_count": 18,
      "outputs": [
        {
          "output_type": "display_data",
          "data": {
            "image/png": "[encoded data removed]",
            "text/plain": [
              "<Figure size 432x288 with 1 Axes>"
            ]
          },
          "metadata": {
            "needs_background": "light"
          }
        }
      ]
    },
    {
      "cell_type": "code",
      "metadata": {
        "colab": {
          "base_uri": "https://localhost:8080/",
          "height": 278
        },
        "id": "2dGnT_Z-E5hk",
        "outputId": "353b30e9-f7ef-454b-f8e2-957b74a82361"
      },
      "source": [
        "sns.barplot(x='Combustível', y='Valor', data=df)\n",
        "plt.show()\n",
        "# Gas tend to be the fuel type of the more expensive cars."
      ],
      "execution_count": 19,
      "outputs": [
        {
          "output_type": "display_data",
          "data": {
            "image/png": "[encoded data removed]",
            "text/plain": [
              "<Figure size 432x288 with 1 Axes>"
            ]
          },
          "metadata": {
            "needs_background": "light"
          }
        }
      ]
    },
    {
      "cell_type": "code",
      "metadata": {
        "colab": {
          "base_uri": "https://localhost:8080/",
          "height": 202
        },
        "id": "htojEe_tFY3U",
        "outputId": "0248035a-838e-4319-835c-2861b790b488"
      },
      "source": [
        "df[df['Valor'] == df['Valor'].max()].head()\n",
        "# lamborghini Aventador is the more expensive car, and its fuel type is gasoline."
      ],
      "execution_count": 20,
      "outputs": [
        {
          "output_type": "execute_result",
          "data": {
            "text/html": [
              "<div>\n",
              "<style scoped>\n",
              "    .dataframe tbody tr th:only-of-type {\n",
              "        vertical-align: middle;\n",
              "    }\n",
              "\n",
              "    .dataframe tbody tr th {\n",
              "        vertical-align: top;\n",
              "    }\n",
              "\n",
              "    .dataframe thead th {\n",
              "        text-align: right;\n",
              "    }\n",
              "</style>\n",
              "<table border=\"1\" class=\"dataframe\">\n",
              "  <thead>\n",
              "    <tr style=\"text-align: right;\">\n",
              "      <th></th>\n",
              "      <th>Marca</th>\n",
              "      <th>Modelo</th>\n",
              "      <th>Valor</th>\n",
              "      <th>Ano</th>\n",
              "      <th>Combustível</th>\n",
              "      <th>Automático</th>\n",
              "    </tr>\n",
              "  </thead>\n",
              "  <tbody>\n",
              "    <tr>\n",
              "      <th>61996</th>\n",
              "      <td>LAMBORGHINI</td>\n",
              "      <td>AVENTADOR 770-4 SVJ ROADSTER V12</td>\n",
              "      <td>7900000.0</td>\n",
              "      <td>2022</td>\n",
              "      <td>Gasolina</td>\n",
              "      <td>0</td>\n",
              "    </tr>\n",
              "    <tr>\n",
              "      <th>62545</th>\n",
              "      <td>LAMBORGHINI</td>\n",
              "      <td>AVENTADOR 770-4 SVJ ROADSTER V12</td>\n",
              "      <td>7900000.0</td>\n",
              "      <td>2022</td>\n",
              "      <td>Gasolina</td>\n",
              "      <td>0</td>\n",
              "    </tr>\n",
              "    <tr>\n",
              "      <th>63728</th>\n",
              "      <td>LAMBORGHINI</td>\n",
              "      <td>AVENTADOR 770-4 SVJ ROADSTER V12</td>\n",
              "      <td>7900000.0</td>\n",
              "      <td>2022</td>\n",
              "      <td>Gasolina</td>\n",
              "      <td>0</td>\n",
              "    </tr>\n",
              "    <tr>\n",
              "      <th>65050</th>\n",
              "      <td>LAMBORGHINI</td>\n",
              "      <td>AVENTADOR 770-4 SVJ ROADSTER V12</td>\n",
              "      <td>7900000.0</td>\n",
              "      <td>2022</td>\n",
              "      <td>Gasolina</td>\n",
              "      <td>0</td>\n",
              "    </tr>\n",
              "    <tr>\n",
              "      <th>66402</th>\n",
              "      <td>LAMBORGHINI</td>\n",
              "      <td>AVENTADOR 770-4 SVJ ROADSTER V12</td>\n",
              "      <td>7900000.0</td>\n",
              "      <td>2022</td>\n",
              "      <td>Gasolina</td>\n",
              "      <td>0</td>\n",
              "    </tr>\n",
              "  </tbody>\n",
              "</table>\n",
              "</div>"
            ],
            "text/plain": [
              "             Marca                            Modelo  ...  Combustível  Automático\n",
              "61996  LAMBORGHINI  AVENTADOR 770-4 SVJ ROADSTER V12  ...     Gasolina           0\n",
              "62545  LAMBORGHINI  AVENTADOR 770-4 SVJ ROADSTER V12  ...     Gasolina           0\n",
              "63728  LAMBORGHINI  AVENTADOR 770-4 SVJ ROADSTER V12  ...     Gasolina           0\n",
              "65050  LAMBORGHINI  AVENTADOR 770-4 SVJ ROADSTER V12  ...     Gasolina           0\n",
              "66402  LAMBORGHINI  AVENTADOR 770-4 SVJ ROADSTER V12  ...     Gasolina           0\n",
              "\n",
              "[5 rows x 6 columns]"
            ]
          },
          "metadata": {},
          "execution_count": 20
        }
      ]
    },
    {
      "cell_type": "code",
      "metadata": {
        "colab": {
          "base_uri": "https://localhost:8080/",
          "height": 228
        },
        "id": "D2gbOgvLHcS0",
        "outputId": "15fff0ad-e1ba-4baf-a95d-799b828a9d63"
      },
      "source": [
        "sns.catplot(y=\"Combustível\", x=\"Valor\", hue=\"Automático\", data=df, aspect = 5)\n",
        "plt.xlabel(\"Valor\",fontsize=20)\n",
        "plt.ylabel(\"Tipo Combustível\",fontsize=20)\n",
        "plt.show()\n",
        "\n",
        "# The super cars so to speak, which are the most expensive, are not automatic for performance reasons. The chart makes sense.\n",
        "# At the same time there are few automatic cars among the cheapest, which also makes a lot of sense."
      ],
      "execution_count": 21,
      "outputs": [
        {
          "output_type": "display_data",
          "data": {
            "image/png": "[encoded data removed]",
            "text/plain": [
              "<Figure size 1865.12x360 with 1 Axes>"
            ]
          },
          "metadata": {
            "needs_background": "light"
          }
        }
      ]
    },
    {
      "cell_type": "code",
      "metadata": {
        "colab": {
          "base_uri": "https://localhost:8080/",
          "height": 615
        },
        "id": "7i7jBBrKI24T",
        "outputId": "08e0a897-c439-4f9d-9316-31a12dd70e17"
      },
      "source": [
        "# Let's get an overview in the car models and brands.\n",
        "for feature in ('Marca', 'Modelo'):\n",
        "    print('-' * 40)\n",
        "    print(f'{feature}: {df[feature].nunique()} unique values')\n",
        "    groups = df[feature].value_counts(normalize=True)[:10]\n",
        "    plt.barh(groups.index, groups.values)\n",
        "    plt.title(f'Largest groups in {feature}')\n",
        "    plt.show()"
      ],
      "execution_count": 22,
      "outputs": [
        {
          "output_type": "stream",
          "name": "stdout",
          "text": [
            "----------------------------------------\n",
            "Marca: 90 unique values\n"
          ]
        },
        {
          "output_type": "display_data",
          "data": {
            "image/png": "[encoded data removed]",
            "text/plain": [
              "<Figure size 432x288 with 1 Axes>"
            ]
          },
          "metadata": {
            "needs_background": "light"
          }
        },
        {
          "output_type": "stream",
          "name": "stdout",
          "text": [
            "----------------------------------------\n",
            "Modelo: 6198 unique values\n"
          ]
        },
        {
          "output_type": "display_data",
          "data": {
            "image/png": "[encoded data removed]",
            "text/plain": [
              "<Figure size 432x288 with 1 Axes>"
            ]
          },
          "metadata": {
            "needs_background": "light"
          }
        }
      ]
    },
    {
      "cell_type": "code",
      "metadata": {
        "colab": {
          "base_uri": "https://localhost:8080/",
          "height": 287
        },
        "id": "dk6yOQE_KKrD",
        "outputId": "4961fdcc-620f-4735-f479-6da859939a49"
      },
      "source": [
        "# Finally, let's se the correlation between the car price and the car year.\n",
        "sns.lineplot(y=\"Valor\", x=\"Ano\", data=df)\n",
        "plt.xlabel(\"Year\",fontsize=20)\n",
        "plt.ylabel(\"Price\",fontsize=20)\n",
        "plt.show()\n"
      ],
      "execution_count": 23,
      "outputs": [
        {
          "output_type": "display_data",
          "data": {
            "image/png": "[encoded data removed]",
            "text/plain": [
              "<Figure size 432x288 with 1 Axes>"
            ]
          },
          "metadata": {
            "needs_background": "light"
          }
        }
      ]
    },
    {
      "cell_type": "code",
      "metadata": {
        "colab": {
          "base_uri": "https://localhost:8080/",
          "height": 291
        },
        "id": "Ol7s6QidLIGc",
        "outputId": "d1facaa7-8547-4b08-b584-ceea3ec8ace5"
      },
      "source": [
        "# Let's see the automatic price \n",
        "sns.lineplot(y=\"Valor\", x=\"Ano\", hue='Automático', data=df)\n",
        "plt.xlabel(\"Year\",fontsize=20)\n",
        "plt.ylabel(\"Price\",fontsize=20)\n",
        "plt.show()"
      ],
      "execution_count": 24,
      "outputs": [
        {
          "output_type": "display_data",
          "data": {
            "image/png": "[encoded data removed]",
            "text/plain": [
              "<Figure size 432x288 with 1 Axes>"
            ]
          },
          "metadata": {
            "needs_background": "light"
          }
        }
      ]
    },
    {
      "cell_type": "code",
      "metadata": {
        "colab": {
          "base_uri": "https://localhost:8080/",
          "height": 287
        },
        "id": "CAoNmU3VL4XD",
        "outputId": "36d197dc-62e2-4a99-aef4-d706e3e38658"
      },
      "source": [
        "# The top 5 brands with the most expensive models.\n",
        "brands = df.groupby('Marca')['Valor'].mean().reset_index()\n",
        "sns.barplot(y=\"Valor\", x=\"Marca\", data=brands.head())      #  head() function to get the top 5\n",
        "plt.xlabel(\"Brand\",fontsize=20)\n",
        "plt.ylabel(\"Price\",fontsize=20)\n",
        "plt.show()\n"
      ],
      "execution_count": 25,
      "outputs": [
        {
          "output_type": "display_data",
          "data": {
            "image/png": "[encoded data removed]",
            "text/plain": [
              "<Figure size 432x288 with 1 Axes>"
            ]
          },
          "metadata": {
            "needs_background": "light"
          }
        }
      ]
    },
    {
      "cell_type": "code",
      "metadata": {
        "colab": {
          "base_uri": "https://localhost:8080/",
          "height": 288
        },
        "id": "IhbpLpN1MPCK",
        "outputId": "0167993a-dce2-4325-8c35-50883db27ea4"
      },
      "source": [
        "# The top 5 brands with the cheapest models.\n",
        "brands = df.groupby('Marca')['Valor'].mean().reset_index()\n",
        "sns.barplot(y=\"Valor\", x=\"Marca\", data=brands.tail())        # tail() function the last 5 \n",
        "plt.xlabel(\"Brand\",fontsize=20)\n",
        "plt.ylabel(\"Price\",fontsize=20)\n",
        "plt.show()\n"
      ],
      "execution_count": 26,
      "outputs": [
        {
          "output_type": "display_data",
          "data": {
            "image/png": "[encoded data removed]",
            "text/plain": [
              "<Figure size 432x288 with 1 Axes>"
            ]
          },
          "metadata": {
            "needs_background": "light"
          }
        }
      ]
    },
    {
      "cell_type": "code",
      "metadata": {
        "colab": {
          "base_uri": "https://localhost:8080/",
          "height": 281
        },
        "id": "JpW1FeYxNqVy",
        "outputId": "149302a4-943f-4670-dadc-4e9272b2ddce"
      },
      "source": [
        "# The top 5 expensive models.\n",
        "models = df.groupby('Modelo')['Valor'].mean().reset_index()\n",
        "plt.barh(models.Modelo.head(), models.Valor.head()) # head() function to get the top 5\n",
        "plt.title('Most expensive models')\n",
        "plt.show()\n"
      ],
      "execution_count": 27,
      "outputs": [
        {
          "output_type": "display_data",
          "data": {
            "image/png": "[encoded data removed]",
            "text/plain": [
              "<Figure size 432x288 with 1 Axes>"
            ]
          },
          "metadata": {
            "needs_background": "light"
          }
        }
      ]
    },
    {
      "cell_type": "code",
      "metadata": {
        "colab": {
          "base_uri": "https://localhost:8080/",
          "height": 281
        },
        "id": "0LPfCml6QWiS",
        "outputId": "981ec94f-18ce-4154-e4ba-3e8cb1c4522c"
      },
      "source": [
        "# The top 5 cheapest models.\n",
        "models = df.groupby('Modelo')['Valor'].mean().reset_index()\n",
        "plt.barh(models.Modelo.tail(), models.Valor.tail()) # tail() function the last 5 \n",
        "plt.title('Cheapest models')\n",
        "plt.show()\n"
      ],
      "execution_count": 28,
      "outputs": [
        {
          "output_type": "display_data",
          "data": {
            "image/png": "[encoded data removed]",
            "text/plain": [
              "<Figure size 432x288 with 1 Axes>"
            ]
          },
          "metadata": {
            "needs_background": "light"
          }
        }
      ]
    },
    {
      "cell_type": "code",
      "metadata": {
        "colab": {
          "base_uri": "https://localhost:8080/",
          "height": 281
        },
        "id": "J7M2EEAZQ3CC",
        "outputId": "fb97012c-cb0d-4086-c432-c619541a816e"
      },
      "source": [
        "# Finally, let's see the correlation between the variables.\n",
        "\n",
        "correlation = df.corr()\n",
        "ax = sns.heatmap(correlation, annot=True, cmap=plt.cm.Blues)\n",
        "l, r = ax.get_ylim()\n",
        "ax.set_ylim(l + 0.5, r - 0.5)\n",
        "plt.yticks(rotation=0)\n",
        "plt.title('Correlation Matrix')\n",
        "\n",
        "plt.show()\n",
        "\n",
        "# There is a small correlation between the Year and the Automatic models, wicth make sense. There is a very few old cars that were automatic."
      ],
      "execution_count": 29,
      "outputs": [
        {
          "output_type": "display_data",
          "data": {
            "image/png": "[encoded data removed]",
            "text/plain": [
              "<Figure size 432x288 with 2 Axes>"
            ]
          },
          "metadata": {
            "needs_background": "light"
          }
        }
      ]
    },
    {
      "cell_type": "markdown",
      "metadata": {
        "id": "XFmFeC7QTweP"
      },
      "source": [
        "After we do some features engineering, we will se this correlation matrix again. "
      ]
    },
    {
      "cell_type": "markdown",
      "metadata": {
        "id": "5XbElI76UH-9"
      },
      "source": [
        "# Data Preparation"
      ]
    },
    {
      "cell_type": "code",
      "metadata": {
        "colab": {
          "base_uri": "https://localhost:8080/",
          "height": 202
        },
        "id": "55QitlbRUN2Q",
        "outputId": "255b16ab-a964-4e2a-d9b9-f0b65ad01fef"
      },
      "source": [
        "df.head()"
      ],
      "execution_count": 30,
      "outputs": [
        {
          "output_type": "execute_result",
          "data": {
            "text/html": [
              "<div>\n",
              "<style scoped>\n",
              "    .dataframe tbody tr th:only-of-type {\n",
              "        vertical-align: middle;\n",
              "    }\n",
              "\n",
              "    .dataframe tbody tr th {\n",
              "        vertical-align: top;\n",
              "    }\n",
              "\n",
              "    .dataframe thead th {\n",
              "        text-align: right;\n",
              "    }\n",
              "</style>\n",
              "<table border=\"1\" class=\"dataframe\">\n",
              "  <thead>\n",
              "    <tr style=\"text-align: right;\">\n",
              "      <th></th>\n",
              "      <th>Marca</th>\n",
              "      <th>Modelo</th>\n",
              "      <th>Valor</th>\n",
              "      <th>Ano</th>\n",
              "      <th>Combustível</th>\n",
              "      <th>Automático</th>\n",
              "    </tr>\n",
              "  </thead>\n",
              "  <tbody>\n",
              "    <tr>\n",
              "      <th>0</th>\n",
              "      <td>Acura</td>\n",
              "      <td>Integra GS 1.8</td>\n",
              "      <td>11165.0</td>\n",
              "      <td>1992</td>\n",
              "      <td>Gasolina</td>\n",
              "      <td>0</td>\n",
              "    </tr>\n",
              "    <tr>\n",
              "      <th>1</th>\n",
              "      <td>Acura</td>\n",
              "      <td>Integra GS 1.8</td>\n",
              "      <td>10167.0</td>\n",
              "      <td>1991</td>\n",
              "      <td>Gasolina</td>\n",
              "      <td>0</td>\n",
              "    </tr>\n",
              "    <tr>\n",
              "      <th>2</th>\n",
              "      <td>Acura</td>\n",
              "      <td>Legend 3.2/3.5</td>\n",
              "      <td>25574.0</td>\n",
              "      <td>1998</td>\n",
              "      <td>Gasolina</td>\n",
              "      <td>0</td>\n",
              "    </tr>\n",
              "    <tr>\n",
              "      <th>3</th>\n",
              "      <td>Acura</td>\n",
              "      <td>Legend 3.2/3.5</td>\n",
              "      <td>22561.0</td>\n",
              "      <td>1997</td>\n",
              "      <td>Gasolina</td>\n",
              "      <td>0</td>\n",
              "    </tr>\n",
              "    <tr>\n",
              "      <th>4</th>\n",
              "      <td>Acura</td>\n",
              "      <td>Legend 3.2/3.5</td>\n",
              "      <td>21388.0</td>\n",
              "      <td>1996</td>\n",
              "      <td>Gasolina</td>\n",
              "      <td>0</td>\n",
              "    </tr>\n",
              "  </tbody>\n",
              "</table>\n",
              "</div>"
            ],
            "text/plain": [
              "   Marca          Modelo    Valor   Ano Combustível  Automático\n",
              "0  Acura  Integra GS 1.8  11165.0  1992    Gasolina           0\n",
              "1  Acura  Integra GS 1.8  10167.0  1991    Gasolina           0\n",
              "2  Acura  Legend 3.2/3.5  25574.0  1998    Gasolina           0\n",
              "3  Acura  Legend 3.2/3.5  22561.0  1997    Gasolina           0\n",
              "4  Acura  Legend 3.2/3.5  21388.0  1996    Gasolina           0"
            ]
          },
          "metadata": {},
          "execution_count": 30
        }
      ]
    },
    {
      "cell_type": "code",
      "metadata": {
        "id": "YkBZGq5deV9f"
      },
      "source": [
        "# I will take only 50% of the data for the model.\n",
        "df_int = df.copy()\n",
        "df = df.sample(frac=0.5)"
      ],
      "execution_count": 31,
      "outputs": []
    },
    {
      "cell_type": "code",
      "metadata": {
        "colab": {
          "base_uri": "https://localhost:8080/",
          "height": 414
        },
        "id": "zgqx-6afAjIS",
        "outputId": "1ac86d40-7e50-40c3-9c44-a31bec81b764"
      },
      "source": [
        "# I need to find a way to replace this very large amount of car models.\n",
        "# This will not be good for algorithm performance as well.\n",
        "brands = df.groupby('Marca')['Modelo'].count().reset_index()\n",
        "brands = brands.sort_values(by='Modelo', ascending=False)\n",
        "brands"
      ],
      "execution_count": 32,
      "outputs": [
        {
          "output_type": "execute_result",
          "data": {
            "text/html": [
              "<div>\n",
              "<style scoped>\n",
              "    .dataframe tbody tr th:only-of-type {\n",
              "        vertical-align: middle;\n",
              "    }\n",
              "\n",
              "    .dataframe tbody tr th {\n",
              "        vertical-align: top;\n",
              "    }\n",
              "\n",
              "    .dataframe thead th {\n",
              "        text-align: right;\n",
              "    }\n",
              "</style>\n",
              "<table border=\"1\" class=\"dataframe\">\n",
              "  <thead>\n",
              "    <tr style=\"text-align: right;\">\n",
              "      <th></th>\n",
              "      <th>Marca</th>\n",
              "      <th>Modelo</th>\n",
              "    </tr>\n",
              "  </thead>\n",
              "  <tbody>\n",
              "    <tr>\n",
              "      <th>32</th>\n",
              "      <td>GM - Chevrolet</td>\n",
              "      <td>16538</td>\n",
              "    </tr>\n",
              "    <tr>\n",
              "      <th>61</th>\n",
              "      <td>Mercedes-Benz</td>\n",
              "      <td>12241</td>\n",
              "    </tr>\n",
              "    <tr>\n",
              "      <th>51</th>\n",
              "      <td>Land Rover</td>\n",
              "      <td>7289</td>\n",
              "    </tr>\n",
              "    <tr>\n",
              "      <th>46</th>\n",
              "      <td>Kia Motors</td>\n",
              "      <td>5978</td>\n",
              "    </tr>\n",
              "    <tr>\n",
              "      <th>72</th>\n",
              "      <td>Renault</td>\n",
              "      <td>5782</td>\n",
              "    </tr>\n",
              "    <tr>\n",
              "      <th>...</th>\n",
              "      <td>...</td>\n",
              "      <td>...</td>\n",
              "    </tr>\n",
              "    <tr>\n",
              "      <th>13</th>\n",
              "      <td>CHANGAN</td>\n",
              "      <td>4</td>\n",
              "    </tr>\n",
              "    <tr>\n",
              "      <th>31</th>\n",
              "      <td>GEELY</td>\n",
              "      <td>3</td>\n",
              "    </tr>\n",
              "    <tr>\n",
              "      <th>0</th>\n",
              "      <td>AM Gen</td>\n",
              "      <td>3</td>\n",
              "    </tr>\n",
              "    <tr>\n",
              "      <th>71</th>\n",
              "      <td>RELY</td>\n",
              "      <td>2</td>\n",
              "    </tr>\n",
              "    <tr>\n",
              "      <th>18</th>\n",
              "      <td>Cross Lander</td>\n",
              "      <td>2</td>\n",
              "    </tr>\n",
              "  </tbody>\n",
              "</table>\n",
              "<p>90 rows × 2 columns</p>\n",
              "</div>"
            ],
            "text/plain": [
              "             Marca  Modelo\n",
              "32  GM - Chevrolet   16538\n",
              "61   Mercedes-Benz   12241\n",
              "51      Land Rover    7289\n",
              "46      Kia Motors    5978\n",
              "72         Renault    5782\n",
              "..             ...     ...\n",
              "13         CHANGAN       4\n",
              "31           GEELY       3\n",
              "0           AM Gen       3\n",
              "71            RELY       2\n",
              "18    Cross Lander       2\n",
              "\n",
              "[90 rows x 2 columns]"
            ]
          },
          "metadata": {},
          "execution_count": 32
        }
      ]
    },
    {
      "cell_type": "markdown",
      "metadata": {
        "id": "Ok_mOC79FfZA"
      },
      "source": [
        "**I have an idea.**\n",
        "**I'm going to separate cars into 4 categories. Class 1 for entry cars, class 2 for popular cars, class 3 for more expensive cars and class 4 for super cars.**\n",
        "**I'll separate them by quartile values.**\n",
        "\n",
        "\n"
      ]
    },
    {
      "cell_type": "code",
      "metadata": {
        "colab": {
          "base_uri": "https://localhost:8080/"
        },
        "id": "yFEGpI65E5w_",
        "outputId": "f6bc2115-0459-4869-8e2d-42a950d4c2d8"
      },
      "source": [
        "df['Valor'].describe().astype(int)"
      ],
      "execution_count": 33,
      "outputs": [
        {
          "output_type": "execute_result",
          "data": {
            "text/plain": [
              "count      85676\n",
              "mean      131758\n",
              "std       388477\n",
              "min         1674\n",
              "25%        19790\n",
              "50%        43715\n",
              "75%       102925\n",
              "max      7900000\n",
              "Name: Valor, dtype: int64"
            ]
          },
          "metadata": {},
          "execution_count": 33
        }
      ]
    },
    {
      "cell_type": "code",
      "metadata": {
        "id": "m2ueXS9dDr6X"
      },
      "source": [
        "car_class = []\n",
        "for i, row in df.iterrows():\n",
        "  if row['Valor'] <= 19782:\n",
        "    car_class.append(1)\n",
        "  elif row['Valor'] <= 43519:\n",
        "    car_class.append(2)\n",
        "  elif row['Valor'] <= 102918:\n",
        "    car_class.append(3)\n",
        "  elif row['Valor'] <= 7900000:\n",
        "    car_class.append(4)\n"
      ],
      "execution_count": 34,
      "outputs": []
    },
    {
      "cell_type": "code",
      "metadata": {
        "colab": {
          "base_uri": "https://localhost:8080/"
        },
        "id": "eUv96KXKJmCD",
        "outputId": "9731320d-bfd3-4497-bdcd-3e6d4eedb936"
      },
      "source": [
        "len(car_class), len(df)\n",
        "# Same lenght, witch is good."
      ],
      "execution_count": 35,
      "outputs": [
        {
          "output_type": "execute_result",
          "data": {
            "text/plain": [
              "(85676, 85676)"
            ]
          },
          "metadata": {},
          "execution_count": 35
        }
      ]
    },
    {
      "cell_type": "code",
      "metadata": {
        "id": "AaXRy9rLJ0Lt"
      },
      "source": [
        "df['Car_class'] = car_class"
      ],
      "execution_count": 36,
      "outputs": []
    },
    {
      "cell_type": "code",
      "metadata": {
        "colab": {
          "base_uri": "https://localhost:8080/",
          "height": 202
        },
        "id": "Tlr0278cKdyp",
        "outputId": "81042e38-ae73-4cd6-d47e-124a2bd27440"
      },
      "source": [
        "df.loc[df['Valor'] == 7900000].head()\n",
        "# Class 4 (super_car).\n",
        "# Success!"
      ],
      "execution_count": 37,
      "outputs": [
        {
          "output_type": "execute_result",
          "data": {
            "text/html": [
              "<div>\n",
              "<style scoped>\n",
              "    .dataframe tbody tr th:only-of-type {\n",
              "        vertical-align: middle;\n",
              "    }\n",
              "\n",
              "    .dataframe tbody tr th {\n",
              "        vertical-align: top;\n",
              "    }\n",
              "\n",
              "    .dataframe thead th {\n",
              "        text-align: right;\n",
              "    }\n",
              "</style>\n",
              "<table border=\"1\" class=\"dataframe\">\n",
              "  <thead>\n",
              "    <tr style=\"text-align: right;\">\n",
              "      <th></th>\n",
              "      <th>Marca</th>\n",
              "      <th>Modelo</th>\n",
              "      <th>Valor</th>\n",
              "      <th>Ano</th>\n",
              "      <th>Combustível</th>\n",
              "      <th>Automático</th>\n",
              "      <th>Car_class</th>\n",
              "    </tr>\n",
              "  </thead>\n",
              "  <tbody>\n",
              "    <tr>\n",
              "      <th>62545</th>\n",
              "      <td>LAMBORGHINI</td>\n",
              "      <td>AVENTADOR 770-4 SVJ ROADSTER V12</td>\n",
              "      <td>7900000.0</td>\n",
              "      <td>2022</td>\n",
              "      <td>Gasolina</td>\n",
              "      <td>0</td>\n",
              "      <td>4</td>\n",
              "    </tr>\n",
              "    <tr>\n",
              "      <th>111729</th>\n",
              "      <td>LAMBORGHINI</td>\n",
              "      <td>AVENTADOR 770-4 SVJ ROADSTER V12</td>\n",
              "      <td>7900000.0</td>\n",
              "      <td>2022</td>\n",
              "      <td>Gasolina</td>\n",
              "      <td>0</td>\n",
              "      <td>4</td>\n",
              "    </tr>\n",
              "    <tr>\n",
              "      <th>137810</th>\n",
              "      <td>LAMBORGHINI</td>\n",
              "      <td>AVENTADOR 770-4 SVJ ROADSTER V12</td>\n",
              "      <td>7900000.0</td>\n",
              "      <td>2022</td>\n",
              "      <td>Gasolina</td>\n",
              "      <td>0</td>\n",
              "      <td>4</td>\n",
              "    </tr>\n",
              "    <tr>\n",
              "      <th>100317</th>\n",
              "      <td>LAMBORGHINI</td>\n",
              "      <td>AVENTADOR 770-4 SVJ ROADSTER V12</td>\n",
              "      <td>7900000.0</td>\n",
              "      <td>2022</td>\n",
              "      <td>Gasolina</td>\n",
              "      <td>0</td>\n",
              "      <td>4</td>\n",
              "    </tr>\n",
              "    <tr>\n",
              "      <th>117905</th>\n",
              "      <td>LAMBORGHINI</td>\n",
              "      <td>AVENTADOR 770-4 SVJ ROADSTER V12</td>\n",
              "      <td>7900000.0</td>\n",
              "      <td>2022</td>\n",
              "      <td>Gasolina</td>\n",
              "      <td>0</td>\n",
              "      <td>4</td>\n",
              "    </tr>\n",
              "  </tbody>\n",
              "</table>\n",
              "</div>"
            ],
            "text/plain": [
              "              Marca                            Modelo  ...  Automático  Car_class\n",
              "62545   LAMBORGHINI  AVENTADOR 770-4 SVJ ROADSTER V12  ...           0          4\n",
              "111729  LAMBORGHINI  AVENTADOR 770-4 SVJ ROADSTER V12  ...           0          4\n",
              "137810  LAMBORGHINI  AVENTADOR 770-4 SVJ ROADSTER V12  ...           0          4\n",
              "100317  LAMBORGHINI  AVENTADOR 770-4 SVJ ROADSTER V12  ...           0          4\n",
              "117905  LAMBORGHINI  AVENTADOR 770-4 SVJ ROADSTER V12  ...           0          4\n",
              "\n",
              "[5 rows x 7 columns]"
            ]
          },
          "metadata": {},
          "execution_count": 37
        }
      ]
    },
    {
      "cell_type": "code",
      "metadata": {
        "id": "kNI1MSbBLodF"
      },
      "source": [
        "# Now I will create a column with a code for each brand, to identify the brands after the onehotencoder that will be applied.\n",
        "df_brand = df.copy()"
      ],
      "execution_count": 38,
      "outputs": []
    },
    {
      "cell_type": "code",
      "metadata": {
        "id": "yEPzR2eGhT5w"
      },
      "source": [
        "from sklearn.preprocessing import LabelEncoder\n",
        "label = LabelEncoder()\n",
        "df_brand['Marca'] = label.fit_transform(df_brand['Marca'])"
      ],
      "execution_count": 39,
      "outputs": []
    },
    {
      "cell_type": "code",
      "metadata": {
        "id": "YhPv97kPZh36"
      },
      "source": [
        "brand_column = df_brand['Marca']"
      ],
      "execution_count": 40,
      "outputs": []
    },
    {
      "cell_type": "code",
      "metadata": {
        "id": "Uv0ZaUo2fD_d"
      },
      "source": [
        "df['Brand_code'] = brand_column"
      ],
      "execution_count": 41,
      "outputs": []
    },
    {
      "cell_type": "code",
      "metadata": {
        "colab": {
          "base_uri": "https://localhost:8080/",
          "height": 202
        },
        "id": "8Gc02U_9fRlM",
        "outputId": "57abe139-db7d-4304-b7c9-45eb164a0e22"
      },
      "source": [
        "df.head()\n",
        "# Done!"
      ],
      "execution_count": 42,
      "outputs": [
        {
          "output_type": "execute_result",
          "data": {
            "text/html": [
              "<div>\n",
              "<style scoped>\n",
              "    .dataframe tbody tr th:only-of-type {\n",
              "        vertical-align: middle;\n",
              "    }\n",
              "\n",
              "    .dataframe tbody tr th {\n",
              "        vertical-align: top;\n",
              "    }\n",
              "\n",
              "    .dataframe thead th {\n",
              "        text-align: right;\n",
              "    }\n",
              "</style>\n",
              "<table border=\"1\" class=\"dataframe\">\n",
              "  <thead>\n",
              "    <tr style=\"text-align: right;\">\n",
              "      <th></th>\n",
              "      <th>Marca</th>\n",
              "      <th>Modelo</th>\n",
              "      <th>Valor</th>\n",
              "      <th>Ano</th>\n",
              "      <th>Combustível</th>\n",
              "      <th>Automático</th>\n",
              "      <th>Car_class</th>\n",
              "      <th>Brand_code</th>\n",
              "    </tr>\n",
              "  </thead>\n",
              "  <tbody>\n",
              "    <tr>\n",
              "      <th>124904</th>\n",
              "      <td>Lexus</td>\n",
              "      <td>RX-450h F-Sport 3.5 24V V6 Aut.(Hybrid)</td>\n",
              "      <td>486479.0</td>\n",
              "      <td>2022</td>\n",
              "      <td>Gasolina</td>\n",
              "      <td>1</td>\n",
              "      <td>4</td>\n",
              "      <td>52</td>\n",
              "    </tr>\n",
              "    <tr>\n",
              "      <th>28782</th>\n",
              "      <td>GM - Chevrolet</td>\n",
              "      <td>Corsa Wind 1.0 MPFI / EFI 2p</td>\n",
              "      <td>8611.0</td>\n",
              "      <td>2000</td>\n",
              "      <td>Álcool</td>\n",
              "      <td>0</td>\n",
              "      <td>1</td>\n",
              "      <td>32</td>\n",
              "    </tr>\n",
              "    <tr>\n",
              "      <th>34564</th>\n",
              "      <td>Honda</td>\n",
              "      <td>Fit LXL 1.4/ 1.4 Flex 8V/16V 5p Aut.</td>\n",
              "      <td>21789.0</td>\n",
              "      <td>2004</td>\n",
              "      <td>Gasolina</td>\n",
              "      <td>1</td>\n",
              "      <td>2</td>\n",
              "      <td>37</td>\n",
              "    </tr>\n",
              "    <tr>\n",
              "      <th>76429</th>\n",
              "      <td>Kia Motors</td>\n",
              "      <td>Cerato 1.6 16V Flex Aut.</td>\n",
              "      <td>51086.0</td>\n",
              "      <td>2014</td>\n",
              "      <td>Gasolina</td>\n",
              "      <td>1</td>\n",
              "      <td>3</td>\n",
              "      <td>46</td>\n",
              "    </tr>\n",
              "    <tr>\n",
              "      <th>160120</th>\n",
              "      <td>Suzuki</td>\n",
              "      <td>Jimny 4SUN 1.3 16V</td>\n",
              "      <td>54587.0</td>\n",
              "      <td>2014</td>\n",
              "      <td>Gasolina</td>\n",
              "      <td>0</td>\n",
              "      <td>3</td>\n",
              "      <td>81</td>\n",
              "    </tr>\n",
              "  </tbody>\n",
              "</table>\n",
              "</div>"
            ],
            "text/plain": [
              "                 Marca  ... Brand_code\n",
              "124904           Lexus  ...         52\n",
              "28782   GM - Chevrolet  ...         32\n",
              "34564            Honda  ...         37\n",
              "76429       Kia Motors  ...         46\n",
              "160120          Suzuki  ...         81\n",
              "\n",
              "[5 rows x 8 columns]"
            ]
          },
          "metadata": {},
          "execution_count": 42
        }
      ]
    },
    {
      "cell_type": "code",
      "metadata": {
        "id": "r2zVLQ601XW4"
      },
      "source": [
        "# Saving the data with the new coloumns.\n",
        "df.to_csv('Car_prices_brazil_clean.csv', index=False)"
      ],
      "execution_count": 43,
      "outputs": []
    },
    {
      "cell_type": "code",
      "metadata": {
        "colab": {
          "base_uri": "https://localhost:8080/"
        },
        "id": "n2dxaScFpB8l",
        "outputId": "13bc3507-052e-485a-aaff-dbe6aceb061b"
      },
      "source": [
        "df.dtypes"
      ],
      "execution_count": 44,
      "outputs": [
        {
          "output_type": "execute_result",
          "data": {
            "text/plain": [
              "Marca           object\n",
              "Modelo          object\n",
              "Valor          float64\n",
              "Ano              int64\n",
              "Combustível     object\n",
              "Automático       int64\n",
              "Car_class        int64\n",
              "Brand_code       int64\n",
              "dtype: object"
            ]
          },
          "metadata": {},
          "execution_count": 44
        }
      ]
    },
    {
      "cell_type": "code",
      "metadata": {
        "colab": {
          "base_uri": "https://localhost:8080/",
          "height": 202
        },
        "id": "1ryPIFxRzmOU",
        "outputId": "9fcf1b2a-3ae6-476c-b001-a89fa285474a"
      },
      "source": [
        "# Let's see the correlation now with the new columns.\n",
        "df.corr()"
      ],
      "execution_count": 45,
      "outputs": [
        {
          "output_type": "execute_result",
          "data": {
            "text/html": [
              "<div>\n",
              "<style scoped>\n",
              "    .dataframe tbody tr th:only-of-type {\n",
              "        vertical-align: middle;\n",
              "    }\n",
              "\n",
              "    .dataframe tbody tr th {\n",
              "        vertical-align: top;\n",
              "    }\n",
              "\n",
              "    .dataframe thead th {\n",
              "        text-align: right;\n",
              "    }\n",
              "</style>\n",
              "<table border=\"1\" class=\"dataframe\">\n",
              "  <thead>\n",
              "    <tr style=\"text-align: right;\">\n",
              "      <th></th>\n",
              "      <th>Valor</th>\n",
              "      <th>Ano</th>\n",
              "      <th>Automático</th>\n",
              "      <th>Car_class</th>\n",
              "      <th>Brand_code</th>\n",
              "    </tr>\n",
              "  </thead>\n",
              "  <tbody>\n",
              "    <tr>\n",
              "      <th>Valor</th>\n",
              "      <td>1.000000</td>\n",
              "      <td>0.291965</td>\n",
              "      <td>0.055837</td>\n",
              "      <td>0.360394</td>\n",
              "      <td>0.037736</td>\n",
              "    </tr>\n",
              "    <tr>\n",
              "      <th>Ano</th>\n",
              "      <td>0.291965</td>\n",
              "      <td>1.000000</td>\n",
              "      <td>0.412653</td>\n",
              "      <td>0.754897</td>\n",
              "      <td>0.077526</td>\n",
              "    </tr>\n",
              "    <tr>\n",
              "      <th>Automático</th>\n",
              "      <td>0.055837</td>\n",
              "      <td>0.412653</td>\n",
              "      <td>1.000000</td>\n",
              "      <td>0.366727</td>\n",
              "      <td>0.049392</td>\n",
              "    </tr>\n",
              "    <tr>\n",
              "      <th>Car_class</th>\n",
              "      <td>0.360394</td>\n",
              "      <td>0.754897</td>\n",
              "      <td>0.366727</td>\n",
              "      <td>1.000000</td>\n",
              "      <td>0.080383</td>\n",
              "    </tr>\n",
              "    <tr>\n",
              "      <th>Brand_code</th>\n",
              "      <td>0.037736</td>\n",
              "      <td>0.077526</td>\n",
              "      <td>0.049392</td>\n",
              "      <td>0.080383</td>\n",
              "      <td>1.000000</td>\n",
              "    </tr>\n",
              "  </tbody>\n",
              "</table>\n",
              "</div>"
            ],
            "text/plain": [
              "               Valor       Ano  Automático  Car_class  Brand_code\n",
              "Valor       1.000000  0.291965    0.055837   0.360394    0.037736\n",
              "Ano         0.291965  1.000000    0.412653   0.754897    0.077526\n",
              "Automático  0.055837  0.412653    1.000000   0.366727    0.049392\n",
              "Car_class   0.360394  0.754897    0.366727   1.000000    0.080383\n",
              "Brand_code  0.037736  0.077526    0.049392   0.080383    1.000000"
            ]
          },
          "metadata": {},
          "execution_count": 45
        }
      ]
    },
    {
      "cell_type": "code",
      "metadata": {
        "colab": {
          "base_uri": "https://localhost:8080/",
          "height": 282
        },
        "id": "0GnuaWYQ1Grm",
        "outputId": "7f481415-7737-4aee-a87e-ce9a20b648fe"
      },
      "source": [
        "correlation = df.corr()\n",
        "ax = sns.heatmap(correlation, annot=True, cmap=plt.cm.Blues)\n",
        "l, r = ax.get_ylim()\n",
        "ax.set_ylim(l + 0.5, r - 0.5)\n",
        "plt.yticks(rotation=0)\n",
        "plt.title('Correlation Matrix')\n",
        "\n",
        "plt.show()\n"
      ],
      "execution_count": 46,
      "outputs": [
        {
          "output_type": "display_data",
          "data": {
            "image/png": "[encoded data removed]",
            "text/plain": [
              "<Figure size 432x288 with 2 Axes>"
            ]
          },
          "metadata": {
            "needs_background": "light"
          }
        }
      ]
    },
    {
      "cell_type": "markdown",
      "metadata": {
        "id": "mRSgOyOUiQoi"
      },
      "source": [
        "Perfect! Now I can use only numerical for the algorthmns."
      ]
    },
    {
      "cell_type": "markdown",
      "metadata": {
        "id": "e-EpBTXVLrTj"
      },
      "source": [
        "###Preparing the features"
      ]
    },
    {
      "cell_type": "markdown",
      "metadata": {
        "id": "18YQcDEv5s3m"
      },
      "source": [
        "####Separating the features"
      ]
    },
    {
      "cell_type": "code",
      "metadata": {
        "id": "zO737aAmUlcZ"
      },
      "source": [
        "# Getting the predictive features in the numpy array format, wicht is necessary for the Machine learning models.\n",
        "X = df.iloc[:, 3:].values\n"
      ],
      "execution_count": 47,
      "outputs": []
    },
    {
      "cell_type": "code",
      "metadata": {
        "colab": {
          "base_uri": "https://localhost:8080/"
        },
        "id": "KarE23ZcUwyK",
        "outputId": "2ac9067e-3015-4de6-a6ea-cec8d7bb61b6"
      },
      "source": [
        "# Getting the target feature.\n",
        "y = df['Valor'].values\n",
        "y"
      ],
      "execution_count": 48,
      "outputs": [
        {
          "output_type": "execute_result",
          "data": {
            "text/plain": [
              "array([486479.,   8611.,  21789., ..., 275120.,  29452.,  36562.])"
            ]
          },
          "metadata": {},
          "execution_count": 48
        }
      ]
    },
    {
      "cell_type": "markdown",
      "metadata": {
        "id": "QmKcu1R76ACQ"
      },
      "source": [
        "####Using the Label Encoder"
      ]
    },
    {
      "cell_type": "code",
      "metadata": {
        "colab": {
          "base_uri": "https://localhost:8080/"
        },
        "id": "x9qXi-2eWCPd",
        "outputId": "bf92b52e-2890-4fdc-83f2-1906aea16a30"
      },
      "source": [
        "from sklearn.preprocessing import LabelEncoder\n",
        "# Using the LabelEncoder to the \"Combustível\" column.\n",
        "\n",
        "label_encoder_combustivel = LabelEncoder()\n",
        "X[:,1] = label_encoder_combustivel.fit_transform(X[:,1])\n",
        "\n",
        "X\n"
      ],
      "execution_count": 49,
      "outputs": [
        {
          "output_type": "execute_result",
          "data": {
            "text/plain": [
              "array([[2022, 1, 1, 4, 52],\n",
              "       [2000, 2, 0, 1, 32],\n",
              "       [2004, 1, 1, 2, 37],\n",
              "       ...,\n",
              "       [2019, 1, 1, 4, 46],\n",
              "       [2008, 1, 0, 2, 32],\n",
              "       [2015, 1, 0, 2, 65]], dtype=object)"
            ]
          },
          "metadata": {},
          "execution_count": 49
        }
      ]
    },
    {
      "cell_type": "markdown",
      "metadata": {
        "id": "rWNnIxqK6KvR"
      },
      "source": [
        "####Using the Standard Scaler"
      ]
    },
    {
      "cell_type": "code",
      "metadata": {
        "id": "KDrGSAe-XoJh"
      },
      "source": [
        "# Standard Scaler will be used with some algorithmns.\n",
        "from sklearn.preprocessing import StandardScaler\n",
        "\n",
        "scaler = StandardScaler()\n",
        "X_scaler = scaler.fit_transform(X)\n",
        "scaler_y = StandardScaler()\n",
        "y_scaler = scaler_y.fit_transform(y.reshape(-1, 1))"
      ],
      "execution_count": 50,
      "outputs": []
    },
    {
      "cell_type": "code",
      "metadata": {
        "colab": {
          "base_uri": "https://localhost:8080/"
        },
        "id": "9sWN1Zefaj2o",
        "outputId": "aae4a3e8-4f45-40ed-bebf-0315dab07b9a"
      },
      "source": [
        "X_scaler.shape, y_scaler.shape\n",
        "# Ok!"
      ],
      "execution_count": 51,
      "outputs": [
        {
          "output_type": "execute_result",
          "data": {
            "text/plain": [
              "((85676, 5), (85676, 1))"
            ]
          },
          "metadata": {},
          "execution_count": 51
        }
      ]
    },
    {
      "cell_type": "code",
      "metadata": {
        "colab": {
          "base_uri": "https://localhost:8080/"
        },
        "id": "d1oxBzoZqDM7",
        "outputId": "0d9eb9ad-2b7e-4fc6-b7aa-f9df4746e232"
      },
      "source": [
        "X.shape, y.shape\n",
        "# Ok!"
      ],
      "execution_count": 52,
      "outputs": [
        {
          "output_type": "execute_result",
          "data": {
            "text/plain": [
              "((85676, 5), (85676,))"
            ]
          },
          "metadata": {},
          "execution_count": 52
        }
      ]
    },
    {
      "cell_type": "markdown",
      "metadata": {
        "id": "TuH5AwvH6V5G"
      },
      "source": [
        "####Using the Normalizer"
      ]
    },
    {
      "cell_type": "code",
      "metadata": {
        "id": "TZc739DV6aGI"
      },
      "source": [
        "from sklearn.preprocessing import Normalizer\n",
        "\n",
        "X_normalize = X.copy()\n",
        "X_normalize = Normalizer().fit_transform(X)"
      ],
      "execution_count": 53,
      "outputs": []
    },
    {
      "cell_type": "code",
      "metadata": {
        "colab": {
          "base_uri": "https://localhost:8080/"
        },
        "id": "uCUNbOT-6uy3",
        "outputId": "6a53824c-9d4d-4f08-ce22-2dd1505ad33d"
      },
      "source": [
        "X_normalize"
      ],
      "execution_count": 54,
      "outputs": [
        {
          "output_type": "execute_result",
          "data": {
            "text/plain": [
              "array([[9.99667280e-01, 4.94395292e-04, 4.94395292e-04, 1.97758117e-03,\n",
              "        2.57085552e-02],\n",
              "       [9.99871400e-01, 9.99871400e-04, 0.00000000e+00, 4.99935700e-04,\n",
              "        1.59979424e-02],\n",
              "       [9.99828854e-01, 4.98916594e-04, 4.98916594e-04, 9.97833188e-04,\n",
              "        1.84599140e-02],\n",
              "       ...,\n",
              "       [9.99738350e-01, 4.95165106e-04, 4.95165106e-04, 1.98066043e-03,\n",
              "        2.27775949e-02],\n",
              "       [9.99872422e-01, 4.97944433e-04, 0.00000000e+00, 9.95888867e-04,\n",
              "        1.59342219e-02],\n",
              "       [9.99479500e-01, 4.96019603e-04, 0.00000000e+00, 9.92039206e-04,\n",
              "        3.22412742e-02]])"
            ]
          },
          "metadata": {},
          "execution_count": 54
        }
      ]
    },
    {
      "cell_type": "code",
      "metadata": {
        "colab": {
          "base_uri": "https://localhost:8080/"
        },
        "id": "gOYEFhmH6xk5",
        "outputId": "043b5633-c86a-478e-d608-f02ed2be5b78"
      },
      "source": [
        "X_normalize.shape, y.shape\n",
        "# ok"
      ],
      "execution_count": 55,
      "outputs": [
        {
          "output_type": "execute_result",
          "data": {
            "text/plain": [
              "((85676, 5), (85676,))"
            ]
          },
          "metadata": {},
          "execution_count": 55
        }
      ]
    },
    {
      "cell_type": "markdown",
      "metadata": {
        "id": "cYbd-jW-o0hk"
      },
      "source": [
        "####Created Variables\n",
        "\n",
        "* The variables \"X\" and \"y\" will be used with the Linear Regression, Decision tree and Random forest models.\n",
        "* The variables X_scale and y_scale will be used with Neural Network and XGBoost models.\n",
        "* The variables X_normalize, and y will be use to test if its better for the Neural Network and XGB than the standard scale.\n",
        "They work diferentily to performe the normalization of the data.\n"
      ]
    },
    {
      "cell_type": "markdown",
      "metadata": {
        "id": "KVqUTCCHqdFD"
      },
      "source": [
        "# Modelling"
      ]
    },
    {
      "cell_type": "code",
      "metadata": {
        "id": "m_-SZmgaqj6E"
      },
      "source": [
        "# Importing GridSearch and Cross Val to find out the best parameters and train the models.\n",
        "from sklearn.model_selection import GridSearchCV\n",
        "from sklearn.model_selection import cross_val_score, KFold\n",
        "\n",
        "# Importing the algorithmns\n",
        "from sklearn.linear_model import LinearRegression\n",
        "from sklearn.preprocessing import PolynomialFeatures\n",
        "from sklearn.tree import DecisionTreeRegressor\n",
        "from sklearn.ensemble import RandomForestRegressor\n",
        "from xgboost import XGBRegressor\n",
        "from sklearn.neural_network import MLPRegressor\n",
        "\n",
        "# Importing the metric tu evaluate\n",
        "from sklearn.metrics import mean_absolute_error"
      ],
      "execution_count": 56,
      "outputs": []
    },
    {
      "cell_type": "markdown",
      "metadata": {
        "id": "dXclBf-6sFYt"
      },
      "source": [
        "####Grid Search\n",
        "OBS: We will not use the Grid on the Linear Regression and Polynomial models.\n",
        "Just go with the default parameters."
      ]
    },
    {
      "cell_type": "code",
      "metadata": {
        "colab": {
          "base_uri": "https://localhost:8080/"
        },
        "id": "_TpGBh2oyH0N",
        "outputId": "b1678d57-06c6-4a39-f63e-28a7c745dac9"
      },
      "source": [
        "# Multi Linear Regression\n",
        "lr = LinearRegression()\n",
        "lr.fit(X_scaler,y_scaler.ravel())\n",
        "pre = lr.predict(X_scaler)\n",
        "lr.score(X_scaler, y_scaler.ravel())"
      ],
      "execution_count": null,
      "outputs": [
        {
          "output_type": "execute_result",
          "data": {
            "text/plain": [
              "0.1511988842022427"
            ]
          },
          "metadata": {},
          "execution_count": 57
        }
      ]
    },
    {
      "cell_type": "code",
      "metadata": {
        "colab": {
          "base_uri": "https://localhost:8080/"
        },
        "id": "pfUIsVsA15Hn",
        "outputId": "15ac1210-a7ca-4221-80fe-c89c62ae55c1"
      },
      "source": [
        "# Linear Regression Polynomial\n",
        "poly_x = PolynomialFeatures(degree = 6)   # The best degree I found\n",
        "X_poly = poly_x.fit_transform(X)\n",
        "\n",
        "\n",
        "lr_poly = LinearRegression()\n",
        "lr_poly.fit(X_poly, y)\n",
        "lr_poly.score(X_poly, y)"
      ],
      "execution_count": null,
      "outputs": [
        {
          "output_type": "execute_result",
          "data": {
            "text/plain": [
              "0.46098681040077166"
            ]
          },
          "metadata": {},
          "execution_count": 58
        }
      ]
    },
    {
      "cell_type": "code",
      "metadata": {
        "colab": {
          "base_uri": "https://localhost:8080/"
        },
        "id": "i3j-XAm-sH8D",
        "outputId": "80b5fc9f-dacb-44ac-9ea0-c07221feecf7"
      },
      "source": [
        "# Decision Tree Regressor\n",
        "parameters = {'criterion': ['mse'],\n",
        "              'splitter': ['best', 'random'],\n",
        "              'min_samples_split': [2, 20, 60, 100],\n",
        "              'min_samples_leaf': [1, 5, 20, 60]}\n",
        "\n",
        "tree_grid = GridSearchCV(estimator=DecisionTreeRegressor(), param_grid=parameters)\n",
        "tree_grid.fit(X, y)\n",
        "best_parameters = tree_grid.best_params_\n",
        "best_result = tree_grid.best_score_\n",
        "print(best_parameters)\n",
        "print(best_result)\n",
        "\n"
      ],
      "execution_count": null,
      "outputs": [
        {
          "name": "stdout",
          "output_type": "stream",
          "text": [
            "{'criterion': 'mse', 'min_samples_leaf': 5, 'min_samples_split': 2, 'splitter': 'best'}\n",
            "0.8779697796806216\n"
          ]
        }
      ]
    },
    {
      "cell_type": "code",
      "metadata": {
        "colab": {
          "base_uri": "https://localhost:8080/"
        },
        "id": "tXty8T8c7_dY",
        "outputId": "531b8701-2663-46fc-bd3c-3985e1fbf651"
      },
      "source": [
        "tree = DecisionTreeRegressor(criterion='mse', min_samples_leaf=1, min_samples_split=20, splitter='best')\n",
        "tree.fit(X, y)"
      ],
      "execution_count": 57,
      "outputs": [
        {
          "output_type": "execute_result",
          "data": {
            "text/plain": [
              "DecisionTreeRegressor(ccp_alpha=0.0, criterion='mse', max_depth=None,\n",
              "                      max_features=None, max_leaf_nodes=None,\n",
              "                      min_impurity_decrease=0.0, min_impurity_split=None,\n",
              "                      min_samples_leaf=1, min_samples_split=20,\n",
              "                      min_weight_fraction_leaf=0.0, presort='deprecated',\n",
              "                      random_state=None, splitter='best')"
            ]
          },
          "metadata": {},
          "execution_count": 57
        }
      ]
    },
    {
      "cell_type": "code",
      "metadata": {
        "colab": {
          "base_uri": "https://localhost:8080/"
        },
        "id": "JmSgepXRuG5O",
        "outputId": "a82d845b-d536-4308-867a-e9ea1da2f193"
      },
      "source": [
        "# Random Forest Regressor\n",
        "parameters = {'criterion': ['mse'],\n",
        "              'n_estimators': [100, 150],\n",
        "              'min_samples_split':[2, 10],\n",
        "              'min_samples_leaf':[1, 10]}\n",
        "\n",
        "Rforest_grid = GridSearchCV(estimator=RandomForestRegressor(), param_grid=parameters)\n",
        "Rforest_grid.fit(X, y)\n",
        "best_parameters = Rforest_grid.best_params_\n",
        "best_result = Rforest_grid.best_score_\n",
        "print(best_parameters)\n",
        "print(best_result)"
      ],
      "execution_count": null,
      "outputs": [
        {
          "name": "stdout",
          "output_type": "stream",
          "text": [
            "{'criterion': 'mse', 'min_samples_leaf': 1, 'min_samples_split': 10, 'n_estimators': 150}\n",
            "0.8777852540162996\n"
          ]
        }
      ]
    },
    {
      "cell_type": "code",
      "metadata": {
        "colab": {
          "base_uri": "https://localhost:8080/"
        },
        "id": "53dk1i967zNJ",
        "outputId": "398434d9-571d-4df3-8f3e-6f6a4f3fc252"
      },
      "source": [
        "Rforest = RandomForestRegressor(criterion='mse', min_samples_leaf=1, min_samples_split=10, n_estimators=150)\n",
        "Rforest.fit(X,y)"
      ],
      "execution_count": 58,
      "outputs": [
        {
          "output_type": "execute_result",
          "data": {
            "text/plain": [
              "RandomForestRegressor(bootstrap=True, ccp_alpha=0.0, criterion='mse',\n",
              "                      max_depth=None, max_features='auto', max_leaf_nodes=None,\n",
              "                      max_samples=None, min_impurity_decrease=0.0,\n",
              "                      min_impurity_split=None, min_samples_leaf=1,\n",
              "                      min_samples_split=10, min_weight_fraction_leaf=0.0,\n",
              "                      n_estimators=150, n_jobs=None, oob_score=False,\n",
              "                      random_state=None, verbose=0, warm_start=False)"
            ]
          },
          "metadata": {},
          "execution_count": 58
        }
      ]
    },
    {
      "cell_type": "code",
      "metadata": {
        "colab": {
          "base_uri": "https://localhost:8080/"
        },
        "id": "heFdcDVDp8HM",
        "outputId": "cfdabed3-3149-4ad9-a56f-60da629fbdb4"
      },
      "source": [
        "# XGBRegressor\n",
        "from sklearn.model_selection import train_test_split\n",
        "from xgboost import XGBRegressor\n",
        "\n",
        "X_train_xgb, X_test_xgb, y_train_xgb, y_test_xgb = train_test_split(X_scaler, y_scaler.ravel(), test_size=0.15, random_state=1)\n",
        "\n",
        "parameters = {'n_estimators': [1000, 1500], 'learning_rate': [0.01, 0.05, 0.10],\n",
        "              'n_jobs': [8], 'early_stopping_rounds':[5, 6, 7]}\n",
        "\n",
        "xgb_grid = GridSearchCV(estimator=XGBRegressor(), param_grid=parameters)\n",
        "xgb_grid.fit(X_scaler, y_scaler.ravel())\n",
        "best_parameters = xgb_grid.best_params_\n",
        "best_result = xgb_grid.best_score_\n",
        "print(best_parameters)\n",
        "print(best_result)\n",
        "\n",
        "\n",
        "# A experiment that a did.\n",
        "\"\"\"xgb = XGBRegressor(n_estimators=500, learning_rate=0.05, n_jobs=6)\n",
        "xgb.fit(X_train_xgb, y_train_xgb, \n",
        "             early_stopping_rounds=5, \n",
        "             eval_set=[(X_test_xgb, y_test_xgb)], \n",
        "             verbose=False)\n",
        "xgb.score(X_scaler, y_scaler.ravel())\"\"\""
      ],
      "execution_count": null,
      "outputs": [
        {
          "name": "stdout",
          "output_type": "stream",
          "text": [
            "[02:10:20] WARNING: /workspace/src/objective/regression_obj.cu:152: reg:linear is now deprecated in favor of reg:squarederror.\n",
            "[02:10:41] WARNING: /workspace/src/objective/regression_obj.cu:152: reg:linear is now deprecated in favor of reg:squarederror.\n",
            "[02:11:02] WARNING: /workspace/src/objective/regression_obj.cu:152: reg:linear is now deprecated in favor of reg:squarederror.\n",
            "[02:11:23] WARNING: /workspace/src/objective/regression_obj.cu:152: reg:linear is now deprecated in favor of reg:squarederror.\n",
            "[02:11:44] WARNING: /workspace/src/objective/regression_obj.cu:152: reg:linear is now deprecated in favor of reg:squarederror.\n",
            "[02:12:05] WARNING: /workspace/src/objective/regression_obj.cu:152: reg:linear is now deprecated in favor of reg:squarederror.\n",
            "[02:12:36] WARNING: /workspace/src/objective/regression_obj.cu:152: reg:linear is now deprecated in favor of reg:squarederror.\n",
            "[02:13:07] WARNING: /workspace/src/objective/regression_obj.cu:152: reg:linear is now deprecated in favor of reg:squarederror.\n",
            "[02:13:38] WARNING: /workspace/src/objective/regression_obj.cu:152: reg:linear is now deprecated in favor of reg:squarederror.\n",
            "[02:14:08] WARNING: /workspace/src/objective/regression_obj.cu:152: reg:linear is now deprecated in favor of reg:squarederror.\n",
            "[02:14:40] WARNING: /workspace/src/objective/regression_obj.cu:152: reg:linear is now deprecated in favor of reg:squarederror.\n",
            "[02:15:00] WARNING: /workspace/src/objective/regression_obj.cu:152: reg:linear is now deprecated in favor of reg:squarederror.\n",
            "[02:15:21] WARNING: /workspace/src/objective/regression_obj.cu:152: reg:linear is now deprecated in favor of reg:squarederror.\n",
            "[02:15:42] WARNING: /workspace/src/objective/regression_obj.cu:152: reg:linear is now deprecated in favor of reg:squarederror.\n",
            "[02:16:02] WARNING: /workspace/src/objective/regression_obj.cu:152: reg:linear is now deprecated in favor of reg:squarederror.\n",
            "[02:16:23] WARNING: /workspace/src/objective/regression_obj.cu:152: reg:linear is now deprecated in favor of reg:squarederror.\n",
            "[02:16:53] WARNING: /workspace/src/objective/regression_obj.cu:152: reg:linear is now deprecated in favor of reg:squarederror.\n",
            "[02:17:24] WARNING: /workspace/src/objective/regression_obj.cu:152: reg:linear is now deprecated in favor of reg:squarederror.\n",
            "[02:17:55] WARNING: /workspace/src/objective/regression_obj.cu:152: reg:linear is now deprecated in favor of reg:squarederror.\n",
            "[02:18:26] WARNING: /workspace/src/objective/regression_obj.cu:152: reg:linear is now deprecated in favor of reg:squarederror.\n",
            "[02:18:57] WARNING: /workspace/src/objective/regression_obj.cu:152: reg:linear is now deprecated in favor of reg:squarederror.\n",
            "[02:19:18] WARNING: /workspace/src/objective/regression_obj.cu:152: reg:linear is now deprecated in favor of reg:squarederror.\n",
            "[02:19:38] WARNING: /workspace/src/objective/regression_obj.cu:152: reg:linear is now deprecated in favor of reg:squarederror.\n",
            "[02:19:59] WARNING: /workspace/src/objective/regression_obj.cu:152: reg:linear is now deprecated in favor of reg:squarederror.\n",
            "[02:20:19] WARNING: /workspace/src/objective/regression_obj.cu:152: reg:linear is now deprecated in favor of reg:squarederror.\n",
            "[02:20:40] WARNING: /workspace/src/objective/regression_obj.cu:152: reg:linear is now deprecated in favor of reg:squarederror.\n",
            "[02:21:11] WARNING: /workspace/src/objective/regression_obj.cu:152: reg:linear is now deprecated in favor of reg:squarederror.\n",
            "[02:21:41] WARNING: /workspace/src/objective/regression_obj.cu:152: reg:linear is now deprecated in favor of reg:squarederror.\n",
            "[02:22:12] WARNING: /workspace/src/objective/regression_obj.cu:152: reg:linear is now deprecated in favor of reg:squarederror.\n",
            "[02:22:43] WARNING: /workspace/src/objective/regression_obj.cu:152: reg:linear is now deprecated in favor of reg:squarederror.\n",
            "[02:23:14] WARNING: /workspace/src/objective/regression_obj.cu:152: reg:linear is now deprecated in favor of reg:squarederror.\n",
            "[02:23:35] WARNING: /workspace/src/objective/regression_obj.cu:152: reg:linear is now deprecated in favor of reg:squarederror.\n",
            "[02:23:56] WARNING: /workspace/src/objective/regression_obj.cu:152: reg:linear is now deprecated in favor of reg:squarederror.\n",
            "[02:24:16] WARNING: /workspace/src/objective/regression_obj.cu:152: reg:linear is now deprecated in favor of reg:squarederror.\n",
            "[02:24:37] WARNING: /workspace/src/objective/regression_obj.cu:152: reg:linear is now deprecated in favor of reg:squarederror.\n",
            "[02:24:58] WARNING: /workspace/src/objective/regression_obj.cu:152: reg:linear is now deprecated in favor of reg:squarederror.\n",
            "[02:25:29] WARNING: /workspace/src/objective/regression_obj.cu:152: reg:linear is now deprecated in favor of reg:squarederror.\n",
            "[02:26:00] WARNING: /workspace/src/objective/regression_obj.cu:152: reg:linear is now deprecated in favor of reg:squarederror.\n",
            "[02:26:31] WARNING: /workspace/src/objective/regression_obj.cu:152: reg:linear is now deprecated in favor of reg:squarederror.\n",
            "[02:27:02] WARNING: /workspace/src/objective/regression_obj.cu:152: reg:linear is now deprecated in favor of reg:squarederror.\n",
            "[02:27:33] WARNING: /workspace/src/objective/regression_obj.cu:152: reg:linear is now deprecated in favor of reg:squarederror.\n",
            "[02:27:54] WARNING: /workspace/src/objective/regression_obj.cu:152: reg:linear is now deprecated in favor of reg:squarederror.\n",
            "[02:28:14] WARNING: /workspace/src/objective/regression_obj.cu:152: reg:linear is now deprecated in favor of reg:squarederror.\n",
            "[02:28:35] WARNING: /workspace/src/objective/regression_obj.cu:152: reg:linear is now deprecated in favor of reg:squarederror.\n",
            "[02:28:55] WARNING: /workspace/src/objective/regression_obj.cu:152: reg:linear is now deprecated in favor of reg:squarederror.\n",
            "[02:29:16] WARNING: /workspace/src/objective/regression_obj.cu:152: reg:linear is now deprecated in favor of reg:squarederror.\n",
            "[02:29:47] WARNING: /workspace/src/objective/regression_obj.cu:152: reg:linear is now deprecated in favor of reg:squarederror.\n",
            "[02:30:18] WARNING: /workspace/src/objective/regression_obj.cu:152: reg:linear is now deprecated in favor of reg:squarederror.\n",
            "[02:30:49] WARNING: /workspace/src/objective/regression_obj.cu:152: reg:linear is now deprecated in favor of reg:squarederror.\n",
            "[02:31:20] WARNING: /workspace/src/objective/regression_obj.cu:152: reg:linear is now deprecated in favor of reg:squarederror.\n",
            "[02:31:50] WARNING: /workspace/src/objective/regression_obj.cu:152: reg:linear is now deprecated in favor of reg:squarederror.\n",
            "[02:32:11] WARNING: /workspace/src/objective/regression_obj.cu:152: reg:linear is now deprecated in favor of reg:squarederror.\n",
            "[02:32:32] WARNING: /workspace/src/objective/regression_obj.cu:152: reg:linear is now deprecated in favor of reg:squarederror.\n",
            "[02:32:52] WARNING: /workspace/src/objective/regression_obj.cu:152: reg:linear is now deprecated in favor of reg:squarederror.\n",
            "[02:33:13] WARNING: /workspace/src/objective/regression_obj.cu:152: reg:linear is now deprecated in favor of reg:squarederror.\n",
            "[02:33:33] WARNING: /workspace/src/objective/regression_obj.cu:152: reg:linear is now deprecated in favor of reg:squarederror.\n",
            "[02:34:04] WARNING: /workspace/src/objective/regression_obj.cu:152: reg:linear is now deprecated in favor of reg:squarederror.\n",
            "[02:34:35] WARNING: /workspace/src/objective/regression_obj.cu:152: reg:linear is now deprecated in favor of reg:squarederror.\n",
            "[02:35:06] WARNING: /workspace/src/objective/regression_obj.cu:152: reg:linear is now deprecated in favor of reg:squarederror.\n",
            "[02:35:37] WARNING: /workspace/src/objective/regression_obj.cu:152: reg:linear is now deprecated in favor of reg:squarederror.\n",
            "[02:36:07] WARNING: /workspace/src/objective/regression_obj.cu:152: reg:linear is now deprecated in favor of reg:squarederror.\n",
            "[02:36:28] WARNING: /workspace/src/objective/regression_obj.cu:152: reg:linear is now deprecated in favor of reg:squarederror.\n",
            "[02:36:49] WARNING: /workspace/src/objective/regression_obj.cu:152: reg:linear is now deprecated in favor of reg:squarederror.\n",
            "[02:37:10] WARNING: /workspace/src/objective/regression_obj.cu:152: reg:linear is now deprecated in favor of reg:squarederror.\n",
            "[02:37:31] WARNING: /workspace/src/objective/regression_obj.cu:152: reg:linear is now deprecated in favor of reg:squarederror.\n",
            "[02:37:52] WARNING: /workspace/src/objective/regression_obj.cu:152: reg:linear is now deprecated in favor of reg:squarederror.\n",
            "[02:38:23] WARNING: /workspace/src/objective/regression_obj.cu:152: reg:linear is now deprecated in favor of reg:squarederror.\n",
            "[02:38:53] WARNING: /workspace/src/objective/regression_obj.cu:152: reg:linear is now deprecated in favor of reg:squarederror.\n",
            "[02:39:24] WARNING: /workspace/src/objective/regression_obj.cu:152: reg:linear is now deprecated in favor of reg:squarederror.\n",
            "[02:39:55] WARNING: /workspace/src/objective/regression_obj.cu:152: reg:linear is now deprecated in favor of reg:squarederror.\n",
            "[02:40:26] WARNING: /workspace/src/objective/regression_obj.cu:152: reg:linear is now deprecated in favor of reg:squarederror.\n",
            "[02:40:47] WARNING: /workspace/src/objective/regression_obj.cu:152: reg:linear is now deprecated in favor of reg:squarederror.\n",
            "[02:41:08] WARNING: /workspace/src/objective/regression_obj.cu:152: reg:linear is now deprecated in favor of reg:squarederror.\n",
            "[02:41:28] WARNING: /workspace/src/objective/regression_obj.cu:152: reg:linear is now deprecated in favor of reg:squarederror.\n",
            "[02:41:49] WARNING: /workspace/src/objective/regression_obj.cu:152: reg:linear is now deprecated in favor of reg:squarederror.\n",
            "[02:42:09] WARNING: /workspace/src/objective/regression_obj.cu:152: reg:linear is now deprecated in favor of reg:squarederror.\n",
            "[02:42:40] WARNING: /workspace/src/objective/regression_obj.cu:152: reg:linear is now deprecated in favor of reg:squarederror.\n",
            "[02:43:11] WARNING: /workspace/src/objective/regression_obj.cu:152: reg:linear is now deprecated in favor of reg:squarederror.\n",
            "[02:43:42] WARNING: /workspace/src/objective/regression_obj.cu:152: reg:linear is now deprecated in favor of reg:squarederror.\n",
            "[02:44:13] WARNING: /workspace/src/objective/regression_obj.cu:152: reg:linear is now deprecated in favor of reg:squarederror.\n",
            "[02:44:44] WARNING: /workspace/src/objective/regression_obj.cu:152: reg:linear is now deprecated in favor of reg:squarederror.\n",
            "[02:45:04] WARNING: /workspace/src/objective/regression_obj.cu:152: reg:linear is now deprecated in favor of reg:squarederror.\n",
            "[02:45:25] WARNING: /workspace/src/objective/regression_obj.cu:152: reg:linear is now deprecated in favor of reg:squarederror.\n",
            "[02:45:46] WARNING: /workspace/src/objective/regression_obj.cu:152: reg:linear is now deprecated in favor of reg:squarederror.\n",
            "[02:46:06] WARNING: /workspace/src/objective/regression_obj.cu:152: reg:linear is now deprecated in favor of reg:squarederror.\n",
            "[02:46:27] WARNING: /workspace/src/objective/regression_obj.cu:152: reg:linear is now deprecated in favor of reg:squarederror.\n",
            "[02:46:57] WARNING: /workspace/src/objective/regression_obj.cu:152: reg:linear is now deprecated in favor of reg:squarederror.\n",
            "[02:47:28] WARNING: /workspace/src/objective/regression_obj.cu:152: reg:linear is now deprecated in favor of reg:squarederror.\n",
            "[02:47:59] WARNING: /workspace/src/objective/regression_obj.cu:152: reg:linear is now deprecated in favor of reg:squarederror.\n",
            "[02:48:30] WARNING: /workspace/src/objective/regression_obj.cu:152: reg:linear is now deprecated in favor of reg:squarederror.\n",
            "[02:49:01] WARNING: /workspace/src/objective/regression_obj.cu:152: reg:linear is now deprecated in favor of reg:squarederror.\n",
            "{'early_stopping_rounds': 5, 'learning_rate': 0.1, 'n_estimators': 1500, 'n_jobs': 8}\n",
            "0.8735924481903037\n"
          ]
        },
        {
          "data": {
            "application/vnd.google.colaboratory.intrinsic+json": {
              "type": "string"
            },
            "text/plain": [
              "'xgb = XGBRegressor(n_estimators=500, learning_rate=0.05, n_jobs=6)\\nxgb.fit(X_train_xgb, y_train_xgb, \\n             early_stopping_rounds=5, \\n             eval_set=[(X_test_xgb, y_test_xgb)], \\n             verbose=False)\\nxgb.score(X_scaler, y_scaler.ravel())'"
            ]
          },
          "execution_count": 68,
          "metadata": {},
          "output_type": "execute_result"
        }
      ]
    },
    {
      "cell_type": "code",
      "metadata": {
        "colab": {
          "base_uri": "https://localhost:8080/"
        },
        "id": "8ws9JIm3lcjO",
        "outputId": "b35c7f8e-9313-4091-80de-3235fe3340d9"
      },
      "source": [
        "xgb = XGBRegressor(n_estimators=1700, learning_rate=0.05, n_jobs=8, early_stopping_rounds=5)\n",
        "xgb.fit(X_scaler, y_scaler.ravel())"
      ],
      "execution_count": 86,
      "outputs": [
        {
          "output_type": "stream",
          "name": "stdout",
          "text": [
            "[23:26:12] WARNING: /workspace/src/objective/regression_obj.cu:152: reg:linear is now deprecated in favor of reg:squarederror.\n"
          ]
        },
        {
          "output_type": "execute_result",
          "data": {
            "text/plain": [
              "XGBRegressor(base_score=0.5, booster='gbtree', colsample_bylevel=1,\n",
              "             colsample_bynode=1, colsample_bytree=1, early_stopping_rounds=5,\n",
              "             gamma=0, importance_type='gain', learning_rate=0.05,\n",
              "             max_delta_step=0, max_depth=3, min_child_weight=1, missing=None,\n",
              "             n_estimators=1700, n_jobs=8, nthread=None, objective='reg:linear',\n",
              "             random_state=0, reg_alpha=0, reg_lambda=1, scale_pos_weight=1,\n",
              "             seed=None, silent=None, subsample=1, verbosity=1)"
            ]
          },
          "metadata": {},
          "execution_count": 86
        }
      ]
    },
    {
      "cell_type": "code",
      "metadata": {
        "colab": {
          "base_uri": "https://localhost:8080/"
        },
        "id": "emhG-3MaECbW",
        "outputId": "12b92517-bcd6-4b6b-8c19-131bfe80f2b6"
      },
      "source": [
        "# Neural Network\n",
        "\n",
        "\n",
        "nn = MLPRegressor(max_iter=1500, hidden_layer_sizes=(80,80), tol=0.0001, batch_size=56)\n",
        "nn.fit(X_scaler, y_scaler.ravel())"
      ],
      "execution_count": null,
      "outputs": [
        {
          "data": {
            "text/plain": [
              "MLPRegressor(activation='relu', alpha=0.0001, batch_size=56, beta_1=0.9,\n",
              "             beta_2=0.999, early_stopping=False, epsilon=1e-08,\n",
              "             hidden_layer_sizes=(80, 80), learning_rate='constant',\n",
              "             learning_rate_init=0.001, max_fun=15000, max_iter=1500,\n",
              "             momentum=0.9, n_iter_no_change=10, nesterovs_momentum=True,\n",
              "             power_t=0.5, random_state=None, shuffle=True, solver='adam',\n",
              "             tol=0.0001, validation_fraction=0.1, verbose=False,\n",
              "             warm_start=False)"
            ]
          },
          "execution_count": 63,
          "metadata": {},
          "output_type": "execute_result"
        }
      ]
    },
    {
      "cell_type": "code",
      "metadata": {
        "colab": {
          "base_uri": "https://localhost:8080/"
        },
        "id": "dQTOu4Bdwe9-",
        "outputId": "eac3a9fb-5c92-4051-8693-17a9900a9ff5"
      },
      "source": [
        "nn.score(X_scaler, y_scaler.ravel())"
      ],
      "execution_count": null,
      "outputs": [
        {
          "data": {
            "text/plain": [
              "0.8503156380627529"
            ]
          },
          "execution_count": 64,
          "metadata": {},
          "output_type": "execute_result"
        }
      ]
    },
    {
      "cell_type": "code",
      "metadata": {
        "id": "f4FCnlN6zSJZ"
      },
      "source": [
        "# I will save just the models taht a choose.\n",
        "import pickle\n",
        "with open('Car_prices_models_before_cross.pkl', mode = 'wb') as f:\n",
        "  pickle.dump([tree, Rforest, xgb], f)"
      ],
      "execution_count": 60,
      "outputs": []
    },
    {
      "cell_type": "markdown",
      "metadata": {
        "id": "FAbOgxm8nKAF"
      },
      "source": [
        "#Evaluation"
      ]
    },
    {
      "cell_type": "markdown",
      "metadata": {
        "id": "R0a2sLpwSM9R"
      },
      "source": [
        "###Cross Validation"
      ]
    },
    {
      "cell_type": "code",
      "metadata": {
        "colab": {
          "base_uri": "https://localhost:8080/"
        },
        "id": "UavGGq_RZRgm",
        "outputId": "41ca5dde-b475-4c96-b254-b4941cfa8a76"
      },
      "source": [
        "# loading the models\n",
        "import pickle\n",
        "with open('Car_prices_models_before_cross.pkl', 'rb') as f:\n",
        "  tree, Rforest, xgb = pickle.load(f)"
      ],
      "execution_count": 61,
      "outputs": [
        {
          "output_type": "stream",
          "name": "stdout",
          "text": [
            "[20:55:14] WARNING: /workspace/src/objective/regression_obj.cu:152: reg:linear is now deprecated in favor of reg:squarederror.\n"
          ]
        }
      ]
    },
    {
      "cell_type": "code",
      "metadata": {
        "colab": {
          "base_uri": "https://localhost:8080/"
        },
        "id": "9OrieP3dR4lo",
        "outputId": "294d58c8-7de8-4959-96c8-15fccc0dd117"
      },
      "source": [
        "results_tree = []\n",
        "results_random_forest = []\n",
        "results_nn = []\n",
        "results_xgb = []\n",
        "\n",
        "\n",
        "for i in range(10):\n",
        "  print(i)\n",
        "  kfold = KFold(n_splits=10, shuffle=True, random_state=i)\n",
        "\n",
        "  # Tree\n",
        "  scores = cross_val_score(tree, X, y, cv = kfold)\n",
        "  results_tree.append(scores.mean())\n",
        "\n",
        "  # Random Forest\n",
        "  scores = cross_val_score(Rforest, X, y, cv = kfold)\n",
        "  results_random_forest.append(scores.mean())\n",
        "\n",
        "  \"\"\"# Neural Network Regressor\n",
        "  scores = cross_val_score(nn, X_scaler, y_scaler.ravel(), cv = kfold)   # takes to long.\n",
        "  results_nn.append(scores.mean())\"\"\"\n",
        "\n",
        "  # XGBRegressor\n",
        "  scores = cross_val_score(xgb, X_scaler, y_scaler.ravel(), cv = kfold)\n",
        "  results_xgb.append(scores.mean())"
      ],
      "execution_count": 62,
      "outputs": [
        {
          "output_type": "stream",
          "name": "stdout",
          "text": [
            "0\n",
            "[21:41:14] WARNING: /workspace/src/objective/regression_obj.cu:152: reg:linear is now deprecated in favor of reg:squarederror.\n",
            "[21:41:51] WARNING: /workspace/src/objective/regression_obj.cu:152: reg:linear is now deprecated in favor of reg:squarederror.\n",
            "[21:42:27] WARNING: /workspace/src/objective/regression_obj.cu:152: reg:linear is now deprecated in favor of reg:squarederror.\n",
            "[21:43:03] WARNING: /workspace/src/objective/regression_obj.cu:152: reg:linear is now deprecated in favor of reg:squarederror.\n",
            "[21:43:39] WARNING: /workspace/src/objective/regression_obj.cu:152: reg:linear is now deprecated in favor of reg:squarederror.\n",
            "[21:44:15] WARNING: /workspace/src/objective/regression_obj.cu:152: reg:linear is now deprecated in favor of reg:squarederror.\n",
            "[21:44:52] WARNING: /workspace/src/objective/regression_obj.cu:152: reg:linear is now deprecated in favor of reg:squarederror.\n",
            "[21:45:28] WARNING: /workspace/src/objective/regression_obj.cu:152: reg:linear is now deprecated in favor of reg:squarederror.\n",
            "[21:46:04] WARNING: /workspace/src/objective/regression_obj.cu:152: reg:linear is now deprecated in favor of reg:squarederror.\n",
            "[21:46:40] WARNING: /workspace/src/objective/regression_obj.cu:152: reg:linear is now deprecated in favor of reg:squarederror.\n",
            "1\n",
            "[21:48:42] WARNING: /workspace/src/objective/regression_obj.cu:152: reg:linear is now deprecated in favor of reg:squarederror.\n",
            "[21:49:18] WARNING: /workspace/src/objective/regression_obj.cu:152: reg:linear is now deprecated in favor of reg:squarederror.\n",
            "[21:49:54] WARNING: /workspace/src/objective/regression_obj.cu:152: reg:linear is now deprecated in favor of reg:squarederror.\n",
            "[21:50:30] WARNING: /workspace/src/objective/regression_obj.cu:152: reg:linear is now deprecated in favor of reg:squarederror.\n",
            "[21:51:06] WARNING: /workspace/src/objective/regression_obj.cu:152: reg:linear is now deprecated in favor of reg:squarederror.\n",
            "[21:51:42] WARNING: /workspace/src/objective/regression_obj.cu:152: reg:linear is now deprecated in favor of reg:squarederror.\n",
            "[21:52:18] WARNING: /workspace/src/objective/regression_obj.cu:152: reg:linear is now deprecated in favor of reg:squarederror.\n",
            "[21:52:54] WARNING: /workspace/src/objective/regression_obj.cu:152: reg:linear is now deprecated in favor of reg:squarederror.\n",
            "[21:53:30] WARNING: /workspace/src/objective/regression_obj.cu:152: reg:linear is now deprecated in favor of reg:squarederror.\n",
            "[21:54:06] WARNING: /workspace/src/objective/regression_obj.cu:152: reg:linear is now deprecated in favor of reg:squarederror.\n",
            "2\n",
            "[21:56:07] WARNING: /workspace/src/objective/regression_obj.cu:152: reg:linear is now deprecated in favor of reg:squarederror.\n",
            "[21:56:43] WARNING: /workspace/src/objective/regression_obj.cu:152: reg:linear is now deprecated in favor of reg:squarederror.\n",
            "[21:57:19] WARNING: /workspace/src/objective/regression_obj.cu:152: reg:linear is now deprecated in favor of reg:squarederror.\n",
            "[21:57:55] WARNING: /workspace/src/objective/regression_obj.cu:152: reg:linear is now deprecated in favor of reg:squarederror.\n",
            "[21:58:32] WARNING: /workspace/src/objective/regression_obj.cu:152: reg:linear is now deprecated in favor of reg:squarederror.\n",
            "[21:59:08] WARNING: /workspace/src/objective/regression_obj.cu:152: reg:linear is now deprecated in favor of reg:squarederror.\n",
            "[21:59:44] WARNING: /workspace/src/objective/regression_obj.cu:152: reg:linear is now deprecated in favor of reg:squarederror.\n",
            "[22:00:20] WARNING: /workspace/src/objective/regression_obj.cu:152: reg:linear is now deprecated in favor of reg:squarederror.\n",
            "[22:00:57] WARNING: /workspace/src/objective/regression_obj.cu:152: reg:linear is now deprecated in favor of reg:squarederror.\n",
            "[22:01:33] WARNING: /workspace/src/objective/regression_obj.cu:152: reg:linear is now deprecated in favor of reg:squarederror.\n",
            "3\n",
            "[22:03:35] WARNING: /workspace/src/objective/regression_obj.cu:152: reg:linear is now deprecated in favor of reg:squarederror.\n",
            "[22:04:11] WARNING: /workspace/src/objective/regression_obj.cu:152: reg:linear is now deprecated in favor of reg:squarederror.\n",
            "[22:04:47] WARNING: /workspace/src/objective/regression_obj.cu:152: reg:linear is now deprecated in favor of reg:squarederror.\n",
            "[22:05:23] WARNING: /workspace/src/objective/regression_obj.cu:152: reg:linear is now deprecated in favor of reg:squarederror.\n",
            "[22:05:59] WARNING: /workspace/src/objective/regression_obj.cu:152: reg:linear is now deprecated in favor of reg:squarederror.\n",
            "[22:06:36] WARNING: /workspace/src/objective/regression_obj.cu:152: reg:linear is now deprecated in favor of reg:squarederror.\n",
            "[22:07:12] WARNING: /workspace/src/objective/regression_obj.cu:152: reg:linear is now deprecated in favor of reg:squarederror.\n",
            "[22:07:48] WARNING: /workspace/src/objective/regression_obj.cu:152: reg:linear is now deprecated in favor of reg:squarederror.\n",
            "[22:08:24] WARNING: /workspace/src/objective/regression_obj.cu:152: reg:linear is now deprecated in favor of reg:squarederror.\n",
            "[22:09:01] WARNING: /workspace/src/objective/regression_obj.cu:152: reg:linear is now deprecated in favor of reg:squarederror.\n",
            "4\n",
            "[22:11:02] WARNING: /workspace/src/objective/regression_obj.cu:152: reg:linear is now deprecated in favor of reg:squarederror.\n",
            "[22:11:38] WARNING: /workspace/src/objective/regression_obj.cu:152: reg:linear is now deprecated in favor of reg:squarederror.\n",
            "[22:12:14] WARNING: /workspace/src/objective/regression_obj.cu:152: reg:linear is now deprecated in favor of reg:squarederror.\n",
            "[22:12:50] WARNING: /workspace/src/objective/regression_obj.cu:152: reg:linear is now deprecated in favor of reg:squarederror.\n",
            "[22:13:26] WARNING: /workspace/src/objective/regression_obj.cu:152: reg:linear is now deprecated in favor of reg:squarederror.\n",
            "[22:14:02] WARNING: /workspace/src/objective/regression_obj.cu:152: reg:linear is now deprecated in favor of reg:squarederror.\n",
            "[22:14:39] WARNING: /workspace/src/objective/regression_obj.cu:152: reg:linear is now deprecated in favor of reg:squarederror.\n",
            "[22:15:15] WARNING: /workspace/src/objective/regression_obj.cu:152: reg:linear is now deprecated in favor of reg:squarederror.\n",
            "[22:15:51] WARNING: /workspace/src/objective/regression_obj.cu:152: reg:linear is now deprecated in favor of reg:squarederror.\n",
            "[22:16:27] WARNING: /workspace/src/objective/regression_obj.cu:152: reg:linear is now deprecated in favor of reg:squarederror.\n",
            "5\n",
            "[22:18:28] WARNING: /workspace/src/objective/regression_obj.cu:152: reg:linear is now deprecated in favor of reg:squarederror.\n",
            "[22:19:05] WARNING: /workspace/src/objective/regression_obj.cu:152: reg:linear is now deprecated in favor of reg:squarederror.\n",
            "[22:19:41] WARNING: /workspace/src/objective/regression_obj.cu:152: reg:linear is now deprecated in favor of reg:squarederror.\n",
            "[22:20:17] WARNING: /workspace/src/objective/regression_obj.cu:152: reg:linear is now deprecated in favor of reg:squarederror.\n",
            "[22:20:53] WARNING: /workspace/src/objective/regression_obj.cu:152: reg:linear is now deprecated in favor of reg:squarederror.\n",
            "[22:21:29] WARNING: /workspace/src/objective/regression_obj.cu:152: reg:linear is now deprecated in favor of reg:squarederror.\n",
            "[22:22:05] WARNING: /workspace/src/objective/regression_obj.cu:152: reg:linear is now deprecated in favor of reg:squarederror.\n",
            "[22:22:41] WARNING: /workspace/src/objective/regression_obj.cu:152: reg:linear is now deprecated in favor of reg:squarederror.\n",
            "[22:23:17] WARNING: /workspace/src/objective/regression_obj.cu:152: reg:linear is now deprecated in favor of reg:squarederror.\n",
            "[22:23:53] WARNING: /workspace/src/objective/regression_obj.cu:152: reg:linear is now deprecated in favor of reg:squarederror.\n",
            "6\n",
            "[22:25:56] WARNING: /workspace/src/objective/regression_obj.cu:152: reg:linear is now deprecated in favor of reg:squarederror.\n",
            "[22:26:33] WARNING: /workspace/src/objective/regression_obj.cu:152: reg:linear is now deprecated in favor of reg:squarederror.\n",
            "[22:27:09] WARNING: /workspace/src/objective/regression_obj.cu:152: reg:linear is now deprecated in favor of reg:squarederror.\n",
            "[22:27:45] WARNING: /workspace/src/objective/regression_obj.cu:152: reg:linear is now deprecated in favor of reg:squarederror.\n",
            "[22:28:21] WARNING: /workspace/src/objective/regression_obj.cu:152: reg:linear is now deprecated in favor of reg:squarederror.\n",
            "[22:28:57] WARNING: /workspace/src/objective/regression_obj.cu:152: reg:linear is now deprecated in favor of reg:squarederror.\n",
            "[22:29:34] WARNING: /workspace/src/objective/regression_obj.cu:152: reg:linear is now deprecated in favor of reg:squarederror.\n",
            "[22:30:10] WARNING: /workspace/src/objective/regression_obj.cu:152: reg:linear is now deprecated in favor of reg:squarederror.\n",
            "[22:30:47] WARNING: /workspace/src/objective/regression_obj.cu:152: reg:linear is now deprecated in favor of reg:squarederror.\n",
            "[22:31:23] WARNING: /workspace/src/objective/regression_obj.cu:152: reg:linear is now deprecated in favor of reg:squarederror.\n",
            "7\n",
            "[22:33:25] WARNING: /workspace/src/objective/regression_obj.cu:152: reg:linear is now deprecated in favor of reg:squarederror.\n",
            "[22:34:01] WARNING: /workspace/src/objective/regression_obj.cu:152: reg:linear is now deprecated in favor of reg:squarederror.\n",
            "[22:34:37] WARNING: /workspace/src/objective/regression_obj.cu:152: reg:linear is now deprecated in favor of reg:squarederror.\n",
            "[22:35:13] WARNING: /workspace/src/objective/regression_obj.cu:152: reg:linear is now deprecated in favor of reg:squarederror.\n",
            "[22:35:50] WARNING: /workspace/src/objective/regression_obj.cu:152: reg:linear is now deprecated in favor of reg:squarederror.\n",
            "[22:36:26] WARNING: /workspace/src/objective/regression_obj.cu:152: reg:linear is now deprecated in favor of reg:squarederror.\n",
            "[22:37:02] WARNING: /workspace/src/objective/regression_obj.cu:152: reg:linear is now deprecated in favor of reg:squarederror.\n",
            "[22:37:38] WARNING: /workspace/src/objective/regression_obj.cu:152: reg:linear is now deprecated in favor of reg:squarederror.\n",
            "[22:38:14] WARNING: /workspace/src/objective/regression_obj.cu:152: reg:linear is now deprecated in favor of reg:squarederror.\n",
            "[22:38:50] WARNING: /workspace/src/objective/regression_obj.cu:152: reg:linear is now deprecated in favor of reg:squarederror.\n",
            "8\n",
            "[22:40:51] WARNING: /workspace/src/objective/regression_obj.cu:152: reg:linear is now deprecated in favor of reg:squarederror.\n",
            "[22:41:28] WARNING: /workspace/src/objective/regression_obj.cu:152: reg:linear is now deprecated in favor of reg:squarederror.\n",
            "[22:42:04] WARNING: /workspace/src/objective/regression_obj.cu:152: reg:linear is now deprecated in favor of reg:squarederror.\n",
            "[22:42:40] WARNING: /workspace/src/objective/regression_obj.cu:152: reg:linear is now deprecated in favor of reg:squarederror.\n",
            "[22:43:16] WARNING: /workspace/src/objective/regression_obj.cu:152: reg:linear is now deprecated in favor of reg:squarederror.\n",
            "[22:43:52] WARNING: /workspace/src/objective/regression_obj.cu:152: reg:linear is now deprecated in favor of reg:squarederror.\n",
            "[22:44:29] WARNING: /workspace/src/objective/regression_obj.cu:152: reg:linear is now deprecated in favor of reg:squarederror.\n",
            "[22:45:05] WARNING: /workspace/src/objective/regression_obj.cu:152: reg:linear is now deprecated in favor of reg:squarederror.\n",
            "[22:45:41] WARNING: /workspace/src/objective/regression_obj.cu:152: reg:linear is now deprecated in favor of reg:squarederror.\n",
            "[22:46:18] WARNING: /workspace/src/objective/regression_obj.cu:152: reg:linear is now deprecated in favor of reg:squarederror.\n",
            "9\n",
            "[22:48:20] WARNING: /workspace/src/objective/regression_obj.cu:152: reg:linear is now deprecated in favor of reg:squarederror.\n",
            "[22:48:56] WARNING: /workspace/src/objective/regression_obj.cu:152: reg:linear is now deprecated in favor of reg:squarederror.\n",
            "[22:49:32] WARNING: /workspace/src/objective/regression_obj.cu:152: reg:linear is now deprecated in favor of reg:squarederror.\n",
            "[22:50:08] WARNING: /workspace/src/objective/regression_obj.cu:152: reg:linear is now deprecated in favor of reg:squarederror.\n",
            "[22:50:44] WARNING: /workspace/src/objective/regression_obj.cu:152: reg:linear is now deprecated in favor of reg:squarederror.\n",
            "[22:51:20] WARNING: /workspace/src/objective/regression_obj.cu:152: reg:linear is now deprecated in favor of reg:squarederror.\n",
            "[22:51:56] WARNING: /workspace/src/objective/regression_obj.cu:152: reg:linear is now deprecated in favor of reg:squarederror.\n",
            "[22:52:33] WARNING: /workspace/src/objective/regression_obj.cu:152: reg:linear is now deprecated in favor of reg:squarederror.\n",
            "[22:53:09] WARNING: /workspace/src/objective/regression_obj.cu:152: reg:linear is now deprecated in favor of reg:squarederror.\n",
            "[22:53:45] WARNING: /workspace/src/objective/regression_obj.cu:152: reg:linear is now deprecated in favor of reg:squarederror.\n"
          ]
        }
      ]
    },
    {
      "cell_type": "code",
      "metadata": {
        "id": "LZRQrMekSqvE",
        "colab": {
          "base_uri": "https://localhost:8080/",
          "height": 355
        },
        "outputId": "e9370f29-a5bd-43c9-e77e-0d7295fb317e"
      },
      "source": [
        "model_results = pd.DataFrame({'Decision Tree Regressor': results_tree, 'Random Forest Regressor': results_random_forest,\n",
        "                              'XGBRegressor':results_xgb})\n",
        "model_results"
      ],
      "execution_count": 63,
      "outputs": [
        {
          "output_type": "execute_result",
          "data": {
            "text/html": [
              "<div>\n",
              "<style scoped>\n",
              "    .dataframe tbody tr th:only-of-type {\n",
              "        vertical-align: middle;\n",
              "    }\n",
              "\n",
              "    .dataframe tbody tr th {\n",
              "        vertical-align: top;\n",
              "    }\n",
              "\n",
              "    .dataframe thead th {\n",
              "        text-align: right;\n",
              "    }\n",
              "</style>\n",
              "<table border=\"1\" class=\"dataframe\">\n",
              "  <thead>\n",
              "    <tr style=\"text-align: right;\">\n",
              "      <th></th>\n",
              "      <th>Decision Tree Regressor</th>\n",
              "      <th>Random Forest Regressor</th>\n",
              "      <th>XGBRegressor</th>\n",
              "    </tr>\n",
              "  </thead>\n",
              "  <tbody>\n",
              "    <tr>\n",
              "      <th>0</th>\n",
              "      <td>0.873646</td>\n",
              "      <td>0.875945</td>\n",
              "      <td>0.869196</td>\n",
              "    </tr>\n",
              "    <tr>\n",
              "      <th>1</th>\n",
              "      <td>0.874592</td>\n",
              "      <td>0.877232</td>\n",
              "      <td>0.869518</td>\n",
              "    </tr>\n",
              "    <tr>\n",
              "      <th>2</th>\n",
              "      <td>0.875179</td>\n",
              "      <td>0.876225</td>\n",
              "      <td>0.868487</td>\n",
              "    </tr>\n",
              "    <tr>\n",
              "      <th>3</th>\n",
              "      <td>0.876093</td>\n",
              "      <td>0.877481</td>\n",
              "      <td>0.869486</td>\n",
              "    </tr>\n",
              "    <tr>\n",
              "      <th>4</th>\n",
              "      <td>0.875358</td>\n",
              "      <td>0.877145</td>\n",
              "      <td>0.869937</td>\n",
              "    </tr>\n",
              "    <tr>\n",
              "      <th>5</th>\n",
              "      <td>0.874419</td>\n",
              "      <td>0.876142</td>\n",
              "      <td>0.868353</td>\n",
              "    </tr>\n",
              "    <tr>\n",
              "      <th>6</th>\n",
              "      <td>0.873926</td>\n",
              "      <td>0.876006</td>\n",
              "      <td>0.868239</td>\n",
              "    </tr>\n",
              "    <tr>\n",
              "      <th>7</th>\n",
              "      <td>0.873915</td>\n",
              "      <td>0.875637</td>\n",
              "      <td>0.868683</td>\n",
              "    </tr>\n",
              "    <tr>\n",
              "      <th>8</th>\n",
              "      <td>0.874577</td>\n",
              "      <td>0.876363</td>\n",
              "      <td>0.868882</td>\n",
              "    </tr>\n",
              "    <tr>\n",
              "      <th>9</th>\n",
              "      <td>0.874166</td>\n",
              "      <td>0.876185</td>\n",
              "      <td>0.869395</td>\n",
              "    </tr>\n",
              "  </tbody>\n",
              "</table>\n",
              "</div>"
            ],
            "text/plain": [
              "   Decision Tree Regressor  Random Forest Regressor  XGBRegressor\n",
              "0                 0.873646                 0.875945      0.869196\n",
              "1                 0.874592                 0.877232      0.869518\n",
              "2                 0.875179                 0.876225      0.868487\n",
              "3                 0.876093                 0.877481      0.869486\n",
              "4                 0.875358                 0.877145      0.869937\n",
              "5                 0.874419                 0.876142      0.868353\n",
              "6                 0.873926                 0.876006      0.868239\n",
              "7                 0.873915                 0.875637      0.868683\n",
              "8                 0.874577                 0.876363      0.868882\n",
              "9                 0.874166                 0.876185      0.869395"
            ]
          },
          "metadata": {},
          "execution_count": 63
        }
      ]
    },
    {
      "cell_type": "code",
      "metadata": {
        "id": "g_lXy-Vm2y8W"
      },
      "source": [
        "model_results.to_csv(\"Model_Results.csv\", index=False)"
      ],
      "execution_count": 64,
      "outputs": []
    },
    {
      "cell_type": "code",
      "metadata": {
        "id": "1JR1Qmt03AxB"
      },
      "source": [
        "import pickle\n",
        "with open('Car_prices_models.pkl', mode = 'wb') as f:\n",
        "  pickle.dump([tree, Rforest, xgb], f)"
      ],
      "execution_count": 67,
      "outputs": []
    },
    {
      "cell_type": "markdown",
      "metadata": {
        "id": "blbexOZ-Vjk2"
      },
      "source": [
        "#Evaluation"
      ]
    },
    {
      "cell_type": "code",
      "metadata": {
        "id": "jA_6BDrSVkzx",
        "colab": {
          "base_uri": "https://localhost:8080/",
          "height": 294
        },
        "outputId": "c2c1646b-92b5-4ce9-f65d-3b5341daa265"
      },
      "source": [
        "model_results.describe()"
      ],
      "execution_count": 68,
      "outputs": [
        {
          "output_type": "execute_result",
          "data": {
            "text/html": [
              "<div>\n",
              "<style scoped>\n",
              "    .dataframe tbody tr th:only-of-type {\n",
              "        vertical-align: middle;\n",
              "    }\n",
              "\n",
              "    .dataframe tbody tr th {\n",
              "        vertical-align: top;\n",
              "    }\n",
              "\n",
              "    .dataframe thead th {\n",
              "        text-align: right;\n",
              "    }\n",
              "</style>\n",
              "<table border=\"1\" class=\"dataframe\">\n",
              "  <thead>\n",
              "    <tr style=\"text-align: right;\">\n",
              "      <th></th>\n",
              "      <th>Decision Tree Regressor</th>\n",
              "      <th>Random Forest Regressor</th>\n",
              "      <th>XGBRegressor</th>\n",
              "    </tr>\n",
              "  </thead>\n",
              "  <tbody>\n",
              "    <tr>\n",
              "      <th>count</th>\n",
              "      <td>10.000000</td>\n",
              "      <td>10.000000</td>\n",
              "      <td>10.000000</td>\n",
              "    </tr>\n",
              "    <tr>\n",
              "      <th>mean</th>\n",
              "      <td>0.874587</td>\n",
              "      <td>0.876436</td>\n",
              "      <td>0.869018</td>\n",
              "    </tr>\n",
              "    <tr>\n",
              "      <th>std</th>\n",
              "      <td>0.000760</td>\n",
              "      <td>0.000623</td>\n",
              "      <td>0.000572</td>\n",
              "    </tr>\n",
              "    <tr>\n",
              "      <th>min</th>\n",
              "      <td>0.873646</td>\n",
              "      <td>0.875637</td>\n",
              "      <td>0.868239</td>\n",
              "    </tr>\n",
              "    <tr>\n",
              "      <th>25%</th>\n",
              "      <td>0.873986</td>\n",
              "      <td>0.876040</td>\n",
              "      <td>0.868536</td>\n",
              "    </tr>\n",
              "    <tr>\n",
              "      <th>50%</th>\n",
              "      <td>0.874498</td>\n",
              "      <td>0.876205</td>\n",
              "      <td>0.869039</td>\n",
              "    </tr>\n",
              "    <tr>\n",
              "      <th>75%</th>\n",
              "      <td>0.875033</td>\n",
              "      <td>0.876950</td>\n",
              "      <td>0.869463</td>\n",
              "    </tr>\n",
              "    <tr>\n",
              "      <th>max</th>\n",
              "      <td>0.876093</td>\n",
              "      <td>0.877481</td>\n",
              "      <td>0.869937</td>\n",
              "    </tr>\n",
              "  </tbody>\n",
              "</table>\n",
              "</div>"
            ],
            "text/plain": [
              "       Decision Tree Regressor  Random Forest Regressor  XGBRegressor\n",
              "count                10.000000                10.000000     10.000000\n",
              "mean                  0.874587                 0.876436      0.869018\n",
              "std                   0.000760                 0.000623      0.000572\n",
              "min                   0.873646                 0.875637      0.868239\n",
              "25%                   0.873986                 0.876040      0.868536\n",
              "50%                   0.874498                 0.876205      0.869039\n",
              "75%                   0.875033                 0.876950      0.869463\n",
              "max                   0.876093                 0.877481      0.869937"
            ]
          },
          "metadata": {},
          "execution_count": 68
        }
      ]
    },
    {
      "cell_type": "code",
      "metadata": {
        "id": "tty4udUfdA2A",
        "colab": {
          "base_uri": "https://localhost:8080/"
        },
        "outputId": "c42cb7da-8d1b-4c41-fd66-1dd59d48d0dd"
      },
      "source": [
        "model_results.var()"
      ],
      "execution_count": 69,
      "outputs": [
        {
          "output_type": "execute_result",
          "data": {
            "text/plain": [
              "Decision Tree Regressor    5.769667e-07\n",
              "Random Forest Regressor    3.881283e-07\n",
              "XGBRegressor               3.276037e-07\n",
              "dtype: float64"
            ]
          },
          "metadata": {},
          "execution_count": 69
        }
      ]
    },
    {
      "cell_type": "code",
      "metadata": {
        "id": "ZbQwK1fYdORQ",
        "colab": {
          "base_uri": "https://localhost:8080/"
        },
        "outputId": "a77b8465-2aeb-433c-ab22-fe97abd19f4e"
      },
      "source": [
        "(model_results.std() / model_results.mean()) * 100"
      ],
      "execution_count": 70,
      "outputs": [
        {
          "output_type": "execute_result",
          "data": {
            "text/plain": [
              "Decision Tree Regressor    0.086850\n",
              "Random Forest Regressor    0.071083\n",
              "XGBRegressor               0.065864\n",
              "dtype: float64"
            ]
          },
          "metadata": {},
          "execution_count": 70
        }
      ]
    },
    {
      "cell_type": "markdown",
      "metadata": {
        "id": "-FEpbZ3ekVwO"
      },
      "source": [
        "###Training and evaluating the models."
      ]
    },
    {
      "cell_type": "code",
      "metadata": {
        "id": "QyW6wEXOefZ2"
      },
      "source": [
        "from sklearn.metrics import mean_absolute_error, mean_squared_error"
      ],
      "execution_count": 71,
      "outputs": []
    },
    {
      "cell_type": "code",
      "metadata": {
        "id": "MeXvBx0_kUdv"
      },
      "source": [
        "from sklearn.model_selection import train_test_split\n",
        "# to the XGBRegressor model\n",
        "X_train_xgb, X_test_xgb, y_train_xgb, y_test_xgb = train_test_split(X_scaler, y_scaler.ravel(), test_size=0.15, random_state=1)\n",
        "# to the trees models\n",
        "X_train, X_test, y_train, y_test = train_test_split(X, y, test_size= 0.15, random_state=1)"
      ],
      "execution_count": 73,
      "outputs": []
    },
    {
      "cell_type": "code",
      "metadata": {
        "id": "lEnvwvrTfHq9",
        "colab": {
          "base_uri": "https://localhost:8080/"
        },
        "outputId": "750c4300-d5e6-49cf-f3f4-1e7d2c8a9dca"
      },
      "source": [
        "# Deccision Tree\n",
        "tree_prediction = tree.predict(X_test)\n",
        "print(f'The MAE is : {mean_absolute_error(tree_prediction,y_test)}') \n",
        "print(f'The MSE is: {mean_squared_error(tree_prediction,y_test)}')\n",
        "print(f'The accuracy score is: {tree.score(X_test, y_test)}')\n"
      ],
      "execution_count": 87,
      "outputs": [
        {
          "output_type": "stream",
          "name": "stdout",
          "text": [
            "The MAE is : 34130.73827962067\n",
            "The MSE is: 19802191049.12442\n",
            "The accuracy score is: 0.8776135642180292\n"
          ]
        }
      ]
    },
    {
      "cell_type": "code",
      "metadata": {
        "id": "bWYbDXOyh3lR",
        "colab": {
          "base_uri": "https://localhost:8080/"
        },
        "outputId": "8c5679aa-bdae-4fd8-cef4-152e5bc5ea87"
      },
      "source": [
        "# Random forest\n",
        "Rforest_prediction = Rforest.predict(X_test)\n",
        "print(f'The MAE is : {mean_absolute_error(Rforest_prediction,y_test)}') \n",
        "print(f'The MSE is: {mean_squared_error(Rforest_prediction,y_test)}')\n",
        "print(f'The accuracy score is: {Rforest.score(X_test, y_test)}')"
      ],
      "execution_count": 80,
      "outputs": [
        {
          "output_type": "stream",
          "name": "stdout",
          "text": [
            "The MAE is : 33903.29631557246\n",
            "The MSE is: 19361019759.28592\n",
            "The accuracy score is:0.8803402009623533\n"
          ]
        }
      ]
    },
    {
      "cell_type": "code",
      "metadata": {
        "id": "-X9gF3d5lg3-",
        "colab": {
          "base_uri": "https://localhost:8080/"
        },
        "outputId": "663fcc0f-393f-4790-a665-4b6300393677"
      },
      "source": [
        "# Random forest\n",
        "xgb_prediction = xgb.predict(X_test_xgb)\n",
        "print(f'The MAE is : {mean_absolute_error(xgb_prediction,y_test_xgb)}') \n",
        "print(f'The MSE is: {mean_squared_error(xgb_prediction,y_test_xgb)}')\n",
        "print(f'The accuracy score is: {xgb.score(X_test_xgb, y_test_xgb)}')"
      ],
      "execution_count": 88,
      "outputs": [
        {
          "output_type": "stream",
          "name": "stdout",
          "text": [
            "The MAE is : 0.10156722101588592\n",
            "The MSE is: 0.13878319730082386\n",
            "The accuracy score is: 0.870555791635621\n"
          ]
        }
      ]
    },
    {
      "cell_type": "code",
      "metadata": {
        "id": "9WQKZC9gQzgC"
      },
      "source": [
        ""
      ],
      "execution_count": 84,
      "outputs": []
    },
    {
      "cell_type": "markdown",
      "metadata": {
        "id": "64STDoeYxrx8"
      },
      "source": [
        "## Normality test\n",
        "\n",
        "- Shapiro: https://en.wikipedia.org/wiki/Shapiro%E2%80%93Wilk_test\n",
        "\n",
        "The null hypothesis(H0) here is that the results are in the normal distribution. Let's see if we confirm that."
      ]
    },
    {
      "cell_type": "code",
      "metadata": {
        "id": "ndH2AhnqR3RH"
      },
      "source": [
        "alpha = 0.05"
      ],
      "execution_count": 90,
      "outputs": []
    },
    {
      "cell_type": "code",
      "metadata": {
        "id": "gyL_8kqZSFWi"
      },
      "source": [
        "from scipy.stats import shapiro"
      ],
      "execution_count": 91,
      "outputs": []
    },
    {
      "cell_type": "code",
      "metadata": {
        "colab": {
          "base_uri": "https://localhost:8080/"
        },
        "id": "WAwEoVkXSK_m",
        "outputId": "99607931-fe64-458d-978e-a4c6e8829797"
      },
      "source": [
        "shapiro(results_tree), shapiro(results_random_forest), shapiro(results_xgb)\n",
        "# The second number in the tuples is the p-value\n",
        "# We can see that we confirm the H0 for all the results, in other words, all the results are in normal distribution and we accept de null hypothesis."
      ],
      "execution_count": 93,
      "outputs": [
        {
          "output_type": "execute_result",
          "data": {
            "text/plain": [
              "((0.9370733499526978, 0.52093106508255),\n",
              " (0.8812723159790039, 0.13495342433452606),\n",
              " (0.9474812746047974, 0.6388062834739685))"
            ]
          },
          "metadata": {},
          "execution_count": 93
        }
      ]
    },
    {
      "cell_type": "code",
      "metadata": {
        "colab": {
          "base_uri": "https://localhost:8080/",
          "height": 368
        },
        "id": "15p59hhhTgci",
        "outputId": "cf1d2260-2715-44c5-9cad-1bbe2b17d755"
      },
      "source": [
        "# Let's check with plots\n",
        "sns.displot(results_tree, kind = 'kde');"
      ],
      "execution_count": 94,
      "outputs": [
        {
          "output_type": "display_data",
          "data": {
            "image/png": "[encoded data removed]",
            "text/plain": [
              "<Figure size 360x360 with 1 Axes>"
            ]
          },
          "metadata": {
            "needs_background": "light"
          }
        }
      ]
    },
    {
      "cell_type": "code",
      "metadata": {
        "colab": {
          "base_uri": "https://localhost:8080/",
          "height": 368
        },
        "id": "gOFsxA4YTmmY",
        "outputId": "09666d94-9223-41f3-c7ab-2ea8ca0d787c"
      },
      "source": [
        "sns.displot(results_random_forest, kind = 'kde');"
      ],
      "execution_count": 96,
      "outputs": [
        {
          "output_type": "display_data",
          "data": {
            "image/png": "[encoded data removed]",
            "text/plain": [
              "<Figure size 360x360 with 1 Axes>"
            ]
          },
          "metadata": {
            "needs_background": "light"
          }
        }
      ]
    },
    {
      "cell_type": "code",
      "metadata": {
        "colab": {
          "base_uri": "https://localhost:8080/",
          "height": 368
        },
        "id": "66GWUmMvUzjP",
        "outputId": "4e269b62-5068-4f5f-e572-b12180c4e362"
      },
      "source": [
        "sns.displot(results_xgb, kind = 'kde');"
      ],
      "execution_count": 97,
      "outputs": [
        {
          "output_type": "display_data",
          "data": {
            "image/png": "[encoded data removed]",
            "text/plain": [
              "<Figure size 360x360 with 1 Axes>"
            ]
          },
          "metadata": {
            "needs_background": "light"
          }
        }
      ]
    },
    {
      "cell_type": "markdown",
      "metadata": {
        "id": "cIm93qdJVVNf"
      },
      "source": [
        "# Hypothesis test with ANOVA and Tukey\n",
        "\n",
        "Let's do a hypothesis test between the results of the algorithms to know which one has the best result statistically. To finally choose the best model.\n",
        "This in case there is a difference between them.\n",
        "So the null hypothesis here is that the algorithms have the same performance and the alternative hypothesis is that the algorithms do not have the same performance, that is, one is statistically better than the other."
      ]
    },
    {
      "cell_type": "code",
      "metadata": {
        "id": "TNh0wytFU7L4"
      },
      "source": [
        "from scipy.stats import f_oneway"
      ],
      "execution_count": 99,
      "outputs": []
    },
    {
      "cell_type": "code",
      "metadata": {
        "colab": {
          "base_uri": "https://localhost:8080/"
        },
        "id": "AgWYdffEVm4A",
        "outputId": "70f13950-2daf-4624-c5b8-c99e22bae25f"
      },
      "source": [
        "_, p = f_oneway(results_tree, results_random_forest, results_xgb)\n",
        "p"
      ],
      "execution_count": 100,
      "outputs": [
        {
          "output_type": "execute_result",
          "data": {
            "text/plain": [
              "5.707498463181552e-20"
            ]
          },
          "metadata": {},
          "execution_count": 100
        }
      ]
    },
    {
      "cell_type": "code",
      "metadata": {
        "colab": {
          "base_uri": "https://localhost:8080/"
        },
        "id": "L_zuQgPlVuoX",
        "outputId": "c06d696b-9122-43ec-811c-77f75d4469c1"
      },
      "source": [
        "alpha = 0.05\n",
        "if p <= alpha:\n",
        "  print('Null Hypothesis Rejected. Data is different')\n",
        "else:\n",
        "  print('Alternative hypothesis rejected. Results are the same')"
      ],
      "execution_count": 101,
      "outputs": [
        {
          "output_type": "stream",
          "name": "stdout",
          "text": [
            "Null Hypothesis Rejected. Data is different\n"
          ]
        }
      ]
    },
    {
      "cell_type": "code",
      "metadata": {
        "id": "ocIy2FfzV7To"
      },
      "source": [
        "model_results_2 = {'accuracy': np.concatenate([results_tree, results_random_forest, results_xgb]),\n",
        "                   'Model': ['Decision Tree', 'Decision Tree', 'Decision Tree', 'Decision Tree', 'Decision Tree','Decision Tree','Decision Tree','Decision Tree','Decision Tree','Decision Tree' ,\n",
        "                             'Random Forest', 'Random Forest', 'Random Forest', 'Random Forest', 'Random Forest', 'Random Forest', 'Random Forest', 'Random Forest','Random Forest', 'Random Forest',\n",
        "                             'XGBRegressor', 'XGBRegressor', 'XGBRegressor', 'XGBRegressor', 'XGBRegressor', 'XGBRegressor', 'XGBRegressor', 'XGBRegressor', 'XGBRegressor', 'XGBRegressor']}"
      ],
      "execution_count": 105,
      "outputs": []
    },
    {
      "cell_type": "code",
      "metadata": {
        "colab": {
          "base_uri": "https://localhost:8080/",
          "height": 968
        },
        "id": "mbL6E4V8Yi71",
        "outputId": "d09ba7a7-bcd3-4fe9-9394-d8c685022e29"
      },
      "source": [
        " model_results_2 = pd.DataFrame(model_results_2)\n",
        " model_results_2"
      ],
      "execution_count": 106,
      "outputs": [
        {
          "output_type": "execute_result",
          "data": {
            "text/html": [
              "<div>\n",
              "<style scoped>\n",
              "    .dataframe tbody tr th:only-of-type {\n",
              "        vertical-align: middle;\n",
              "    }\n",
              "\n",
              "    .dataframe tbody tr th {\n",
              "        vertical-align: top;\n",
              "    }\n",
              "\n",
              "    .dataframe thead th {\n",
              "        text-align: right;\n",
              "    }\n",
              "</style>\n",
              "<table border=\"1\" class=\"dataframe\">\n",
              "  <thead>\n",
              "    <tr style=\"text-align: right;\">\n",
              "      <th></th>\n",
              "      <th>accuracy</th>\n",
              "      <th>Model</th>\n",
              "    </tr>\n",
              "  </thead>\n",
              "  <tbody>\n",
              "    <tr>\n",
              "      <th>0</th>\n",
              "      <td>0.873646</td>\n",
              "      <td>Decision Tree</td>\n",
              "    </tr>\n",
              "    <tr>\n",
              "      <th>1</th>\n",
              "      <td>0.874592</td>\n",
              "      <td>Decision Tree</td>\n",
              "    </tr>\n",
              "    <tr>\n",
              "      <th>2</th>\n",
              "      <td>0.875179</td>\n",
              "      <td>Decision Tree</td>\n",
              "    </tr>\n",
              "    <tr>\n",
              "      <th>3</th>\n",
              "      <td>0.876093</td>\n",
              "      <td>Decision Tree</td>\n",
              "    </tr>\n",
              "    <tr>\n",
              "      <th>4</th>\n",
              "      <td>0.875358</td>\n",
              "      <td>Decision Tree</td>\n",
              "    </tr>\n",
              "    <tr>\n",
              "      <th>5</th>\n",
              "      <td>0.874419</td>\n",
              "      <td>Decision Tree</td>\n",
              "    </tr>\n",
              "    <tr>\n",
              "      <th>6</th>\n",
              "      <td>0.873926</td>\n",
              "      <td>Decision Tree</td>\n",
              "    </tr>\n",
              "    <tr>\n",
              "      <th>7</th>\n",
              "      <td>0.873915</td>\n",
              "      <td>Decision Tree</td>\n",
              "    </tr>\n",
              "    <tr>\n",
              "      <th>8</th>\n",
              "      <td>0.874577</td>\n",
              "      <td>Decision Tree</td>\n",
              "    </tr>\n",
              "    <tr>\n",
              "      <th>9</th>\n",
              "      <td>0.874166</td>\n",
              "      <td>Decision Tree</td>\n",
              "    </tr>\n",
              "    <tr>\n",
              "      <th>10</th>\n",
              "      <td>0.875945</td>\n",
              "      <td>Random Forest</td>\n",
              "    </tr>\n",
              "    <tr>\n",
              "      <th>11</th>\n",
              "      <td>0.877232</td>\n",
              "      <td>Random Forest</td>\n",
              "    </tr>\n",
              "    <tr>\n",
              "      <th>12</th>\n",
              "      <td>0.876225</td>\n",
              "      <td>Random Forest</td>\n",
              "    </tr>\n",
              "    <tr>\n",
              "      <th>13</th>\n",
              "      <td>0.877481</td>\n",
              "      <td>Random Forest</td>\n",
              "    </tr>\n",
              "    <tr>\n",
              "      <th>14</th>\n",
              "      <td>0.877145</td>\n",
              "      <td>Random Forest</td>\n",
              "    </tr>\n",
              "    <tr>\n",
              "      <th>15</th>\n",
              "      <td>0.876142</td>\n",
              "      <td>Random Forest</td>\n",
              "    </tr>\n",
              "    <tr>\n",
              "      <th>16</th>\n",
              "      <td>0.876006</td>\n",
              "      <td>Random Forest</td>\n",
              "    </tr>\n",
              "    <tr>\n",
              "      <th>17</th>\n",
              "      <td>0.875637</td>\n",
              "      <td>Random Forest</td>\n",
              "    </tr>\n",
              "    <tr>\n",
              "      <th>18</th>\n",
              "      <td>0.876363</td>\n",
              "      <td>Random Forest</td>\n",
              "    </tr>\n",
              "    <tr>\n",
              "      <th>19</th>\n",
              "      <td>0.876185</td>\n",
              "      <td>Random Forest</td>\n",
              "    </tr>\n",
              "    <tr>\n",
              "      <th>20</th>\n",
              "      <td>0.869196</td>\n",
              "      <td>XGBRegressor</td>\n",
              "    </tr>\n",
              "    <tr>\n",
              "      <th>21</th>\n",
              "      <td>0.869518</td>\n",
              "      <td>XGBRegressor</td>\n",
              "    </tr>\n",
              "    <tr>\n",
              "      <th>22</th>\n",
              "      <td>0.868487</td>\n",
              "      <td>XGBRegressor</td>\n",
              "    </tr>\n",
              "    <tr>\n",
              "      <th>23</th>\n",
              "      <td>0.869486</td>\n",
              "      <td>XGBRegressor</td>\n",
              "    </tr>\n",
              "    <tr>\n",
              "      <th>24</th>\n",
              "      <td>0.869937</td>\n",
              "      <td>XGBRegressor</td>\n",
              "    </tr>\n",
              "    <tr>\n",
              "      <th>25</th>\n",
              "      <td>0.868353</td>\n",
              "      <td>XGBRegressor</td>\n",
              "    </tr>\n",
              "    <tr>\n",
              "      <th>26</th>\n",
              "      <td>0.868239</td>\n",
              "      <td>XGBRegressor</td>\n",
              "    </tr>\n",
              "    <tr>\n",
              "      <th>27</th>\n",
              "      <td>0.868683</td>\n",
              "      <td>XGBRegressor</td>\n",
              "    </tr>\n",
              "    <tr>\n",
              "      <th>28</th>\n",
              "      <td>0.868882</td>\n",
              "      <td>XGBRegressor</td>\n",
              "    </tr>\n",
              "    <tr>\n",
              "      <th>29</th>\n",
              "      <td>0.869395</td>\n",
              "      <td>XGBRegressor</td>\n",
              "    </tr>\n",
              "  </tbody>\n",
              "</table>\n",
              "</div>"
            ],
            "text/plain": [
              "    accuracy          Model\n",
              "0   0.873646  Decision Tree\n",
              "1   0.874592  Decision Tree\n",
              "2   0.875179  Decision Tree\n",
              "3   0.876093  Decision Tree\n",
              "4   0.875358  Decision Tree\n",
              "5   0.874419  Decision Tree\n",
              "6   0.873926  Decision Tree\n",
              "7   0.873915  Decision Tree\n",
              "8   0.874577  Decision Tree\n",
              "9   0.874166  Decision Tree\n",
              "10  0.875945  Random Forest\n",
              "11  0.877232  Random Forest\n",
              "12  0.876225  Random Forest\n",
              "13  0.877481  Random Forest\n",
              "14  0.877145  Random Forest\n",
              "15  0.876142  Random Forest\n",
              "16  0.876006  Random Forest\n",
              "17  0.875637  Random Forest\n",
              "18  0.876363  Random Forest\n",
              "19  0.876185  Random Forest\n",
              "20  0.869196   XGBRegressor\n",
              "21  0.869518   XGBRegressor\n",
              "22  0.868487   XGBRegressor\n",
              "23  0.869486   XGBRegressor\n",
              "24  0.869937   XGBRegressor\n",
              "25  0.868353   XGBRegressor\n",
              "26  0.868239   XGBRegressor\n",
              "27  0.868683   XGBRegressor\n",
              "28  0.868882   XGBRegressor\n",
              "29  0.869395   XGBRegressor"
            ]
          },
          "metadata": {},
          "execution_count": 106
        }
      ]
    },
    {
      "cell_type": "code",
      "metadata": {
        "id": "pnF-r3pxbJZP"
      },
      "source": [
        "from statsmodels.stats.multicomp import MultiComparison"
      ],
      "execution_count": 108,
      "outputs": []
    },
    {
      "cell_type": "code",
      "metadata": {
        "id": "epc6TluwbRZ-"
      },
      "source": [
        "model_comparison = MultiComparison(model_results_2['accuracy'], model_results_2['Model'])"
      ],
      "execution_count": 109,
      "outputs": []
    },
    {
      "cell_type": "code",
      "metadata": {
        "colab": {
          "base_uri": "https://localhost:8080/"
        },
        "id": "jR-8z3UWbZJ5",
        "outputId": "8131ca9d-777b-4d54-c3de-9889dcff71d0"
      },
      "source": [
        "statistic_test = model_comparison.tukeyhsd()\n",
        "print(statistic_test)"
      ],
      "execution_count": 110,
      "outputs": [
        {
          "output_type": "stream",
          "name": "stdout",
          "text": [
            "       Multiple Comparison of Means - Tukey HSD, FWER=0.05       \n",
            "=================================================================\n",
            "    group1        group2    meandiff p-adj  lower   upper  reject\n",
            "-----------------------------------------------------------------\n",
            "Decision Tree Random Forest   0.0018 0.001  0.0011  0.0026   True\n",
            "Decision Tree  XGBRegressor  -0.0056 0.001 -0.0063 -0.0048   True\n",
            "Random Forest  XGBRegressor  -0.0074 0.001 -0.0081 -0.0067   True\n",
            "-----------------------------------------------------------------\n"
          ]
        }
      ]
    },
    {
      "cell_type": "code",
      "metadata": {
        "colab": {
          "base_uri": "https://localhost:8080/",
          "height": 390
        },
        "id": "PsSepwzAclT9",
        "outputId": "b44f863b-c9f1-4b91-be7f-ddaf8297dff2"
      },
      "source": [
        "statistic_test.plot_simultaneous();"
      ],
      "execution_count": 111,
      "outputs": [
        {
          "output_type": "display_data",
          "data": {
            "image/png": "[encoded data removed]",
            "text/plain": [
              "<Figure size 720x432 with 1 Axes>"
            ]
          },
          "metadata": {
            "needs_background": "light"
          }
        }
      ]
    },
    {
      "cell_type": "markdown",
      "metadata": {
        "id": "XMVHQzMxZgjd"
      },
      "source": [
        "####We see that the result is True for all algorithms. Which means their results differ statistically.\n",
        "####With that, we will deploy the Random forest model, as we proved that it really was the best model."
      ]
    },
    {
      "cell_type": "code",
      "metadata": {
        "id": "rQZOSVxhZ4Cg"
      },
      "source": [
        "# Saving the best model, the Random Forest Regressor.\n",
        "import pickle\n",
        "with open('Car_price_Rforest_regressor.pkl', mode = 'wb') as f:\n",
        "  pickle.dump([Rforest], f)"
      ],
      "execution_count": 112,
      "outputs": []
    }
  ]
}
