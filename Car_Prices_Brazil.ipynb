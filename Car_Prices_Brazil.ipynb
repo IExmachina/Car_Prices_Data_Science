{
  "nbformat": 4,
  "nbformat_minor": 0,
  "metadata": {
    "colab": {
      "name": "Car_Prices_Brazil.ipynb",
      "provenance": []
    },
    "kernelspec": {
      "display_name": "Python 3",
      "name": "python3"
    },
    "language_info": {
      "name": "python"
    }
  },
  "cells": [
    {
      "cell_type": "markdown",
      "metadata": {
        "id": "xJP1OnZw5TeM"
      },
      "source": [
        "#Forecasting car prices - Brazil"
      ]
    },
    {
      "cell_type": "markdown",
      "metadata": {
        "id": "djsp35ej5lFB"
      },
      "source": [
        "####CRISP DM - Methodology for Data Science projects.\n",
        "* Business Understanding\n",
        "* Data Understanding\n",
        "* Data Preparation\n",
        "* Modelling\n",
        "* Evaluation\n",
        "* Deployment"
      ]
    },
    {
      "cell_type": "markdown",
      "metadata": {
        "id": "Okg8_BcC6gsc"
      },
      "source": [
        "#Business Understanding"
      ]
    },
    {
      "cell_type": "markdown",
      "metadata": {
        "id": "Y9NQQUkN6psE"
      },
      "source": [
        "* Forecasting prices.\n",
        "* Likely Regression\n",
        "* Reliable data( Tabela FIPE 2021)\n"
      ]
    },
    {
      "cell_type": "markdown",
      "metadata": {
        "id": "t0mYF8X_7hzT"
      },
      "source": [
        "#Data understanding"
      ]
    },
    {
      "cell_type": "code",
      "metadata": {
        "id": "DdTJHM2H7dce"
      },
      "source": [
        "import pandas as pd\n",
        "import numpy as np\n",
        "import seaborn as sns\n",
        "import matplotlib.pyplot as plt"
      ],
      "execution_count": null,
      "outputs": []
    },
    {
      "cell_type": "code",
      "metadata": {
        "colab": {
          "base_uri": "https://localhost:8080/",
          "height": 202
        },
        "id": "iFDiBdN4720m",
        "outputId": "4f7726ba-d6ec-459e-b2ab-580114d5f527"
      },
      "source": [
        "df = pd.read_csv('/content/tabela_fipe.csv')\n",
        "df.head()"
      ],
      "execution_count": null,
      "outputs": [
        {
          "data": {
            "text/html": [
              "<div>\n",
              "<style scoped>\n",
              "    .dataframe tbody tr th:only-of-type {\n",
              "        vertical-align: middle;\n",
              "    }\n",
              "\n",
              "    .dataframe tbody tr th {\n",
              "        vertical-align: top;\n",
              "    }\n",
              "\n",
              "    .dataframe thead th {\n",
              "        text-align: right;\n",
              "    }\n",
              "</style>\n",
              "<table border=\"1\" class=\"dataframe\">\n",
              "  <thead>\n",
              "    <tr style=\"text-align: right;\">\n",
              "      <th></th>\n",
              "      <th>Marca</th>\n",
              "      <th>Modelo</th>\n",
              "      <th>Valor</th>\n",
              "      <th>Ano</th>\n",
              "      <th>Combustível</th>\n",
              "      <th>Automático</th>\n",
              "    </tr>\n",
              "  </thead>\n",
              "  <tbody>\n",
              "    <tr>\n",
              "      <th>0</th>\n",
              "      <td>Acura</td>\n",
              "      <td>Integra GS 1.8</td>\n",
              "      <td>11165.0</td>\n",
              "      <td>1992</td>\n",
              "      <td>Gasolina</td>\n",
              "      <td>False</td>\n",
              "    </tr>\n",
              "    <tr>\n",
              "      <th>1</th>\n",
              "      <td>Acura</td>\n",
              "      <td>Integra GS 1.8</td>\n",
              "      <td>10167.0</td>\n",
              "      <td>1991</td>\n",
              "      <td>Gasolina</td>\n",
              "      <td>False</td>\n",
              "    </tr>\n",
              "    <tr>\n",
              "      <th>2</th>\n",
              "      <td>Acura</td>\n",
              "      <td>Legend 3.2/3.5</td>\n",
              "      <td>25574.0</td>\n",
              "      <td>1998</td>\n",
              "      <td>Gasolina</td>\n",
              "      <td>False</td>\n",
              "    </tr>\n",
              "    <tr>\n",
              "      <th>3</th>\n",
              "      <td>Acura</td>\n",
              "      <td>Legend 3.2/3.5</td>\n",
              "      <td>22561.0</td>\n",
              "      <td>1997</td>\n",
              "      <td>Gasolina</td>\n",
              "      <td>False</td>\n",
              "    </tr>\n",
              "    <tr>\n",
              "      <th>4</th>\n",
              "      <td>Acura</td>\n",
              "      <td>Legend 3.2/3.5</td>\n",
              "      <td>21388.0</td>\n",
              "      <td>1996</td>\n",
              "      <td>Gasolina</td>\n",
              "      <td>False</td>\n",
              "    </tr>\n",
              "  </tbody>\n",
              "</table>\n",
              "</div>"
            ],
            "text/plain": [
              "   Marca          Modelo    Valor   Ano Combustível  Automático\n",
              "0  Acura  Integra GS 1.8  11165.0  1992    Gasolina       False\n",
              "1  Acura  Integra GS 1.8  10167.0  1991    Gasolina       False\n",
              "2  Acura  Legend 3.2/3.5  25574.0  1998    Gasolina       False\n",
              "3  Acura  Legend 3.2/3.5  22561.0  1997    Gasolina       False\n",
              "4  Acura  Legend 3.2/3.5  21388.0  1996    Gasolina       False"
            ]
          },
          "execution_count": 2,
          "metadata": {},
          "output_type": "execute_result"
        }
      ]
    },
    {
      "cell_type": "code",
      "metadata": {
        "colab": {
          "base_uri": "https://localhost:8080/",
          "height": 202
        },
        "id": "lVqeUG4R79HH",
        "outputId": "6e5d4d3c-3d5e-4ab7-fc10-e7e686e882b6"
      },
      "source": [
        "df.tail()"
      ],
      "execution_count": null,
      "outputs": [
        {
          "data": {
            "text/html": [
              "<div>\n",
              "<style scoped>\n",
              "    .dataframe tbody tr th:only-of-type {\n",
              "        vertical-align: middle;\n",
              "    }\n",
              "\n",
              "    .dataframe tbody tr th {\n",
              "        vertical-align: top;\n",
              "    }\n",
              "\n",
              "    .dataframe thead th {\n",
              "        text-align: right;\n",
              "    }\n",
              "</style>\n",
              "<table border=\"1\" class=\"dataframe\">\n",
              "  <thead>\n",
              "    <tr style=\"text-align: right;\">\n",
              "      <th></th>\n",
              "      <th>Marca</th>\n",
              "      <th>Modelo</th>\n",
              "      <th>Valor</th>\n",
              "      <th>Ano</th>\n",
              "      <th>Combustível</th>\n",
              "      <th>Automático</th>\n",
              "    </tr>\n",
              "  </thead>\n",
              "  <tbody>\n",
              "    <tr>\n",
              "      <th>171346</th>\n",
              "      <td>Walk</td>\n",
              "      <td>Buggy Walk Sport 1.6 8V 58cv</td>\n",
              "      <td>19750.0</td>\n",
              "      <td>2009</td>\n",
              "      <td>Gasolina</td>\n",
              "      <td>False</td>\n",
              "    </tr>\n",
              "    <tr>\n",
              "      <th>171347</th>\n",
              "      <td>Walk</td>\n",
              "      <td>Buggy Walk Sport 1.6 8V 58cv</td>\n",
              "      <td>17531.0</td>\n",
              "      <td>2008</td>\n",
              "      <td>Gasolina</td>\n",
              "      <td>False</td>\n",
              "    </tr>\n",
              "    <tr>\n",
              "      <th>171348</th>\n",
              "      <td>Walk</td>\n",
              "      <td>Buggy Walk Sport 1.6 8V 58cv</td>\n",
              "      <td>16836.0</td>\n",
              "      <td>2007</td>\n",
              "      <td>Gasolina</td>\n",
              "      <td>False</td>\n",
              "    </tr>\n",
              "    <tr>\n",
              "      <th>171349</th>\n",
              "      <td>Walk</td>\n",
              "      <td>Buggy Walk Sport 1.6 8V 58cv</td>\n",
              "      <td>16125.0</td>\n",
              "      <td>2006</td>\n",
              "      <td>Gasolina</td>\n",
              "      <td>False</td>\n",
              "    </tr>\n",
              "    <tr>\n",
              "      <th>171350</th>\n",
              "      <td>Walk</td>\n",
              "      <td>Buggy Walk Sport 1.6 8V 58cv</td>\n",
              "      <td>12457.0</td>\n",
              "      <td>2005</td>\n",
              "      <td>Gasolina</td>\n",
              "      <td>False</td>\n",
              "    </tr>\n",
              "  </tbody>\n",
              "</table>\n",
              "</div>"
            ],
            "text/plain": [
              "       Marca                        Modelo  ...  Combustível Automático\n",
              "171346  Walk  Buggy Walk Sport 1.6 8V 58cv  ...     Gasolina      False\n",
              "171347  Walk  Buggy Walk Sport 1.6 8V 58cv  ...     Gasolina      False\n",
              "171348  Walk  Buggy Walk Sport 1.6 8V 58cv  ...     Gasolina      False\n",
              "171349  Walk  Buggy Walk Sport 1.6 8V 58cv  ...     Gasolina      False\n",
              "171350  Walk  Buggy Walk Sport 1.6 8V 58cv  ...     Gasolina      False\n",
              "\n",
              "[5 rows x 6 columns]"
            ]
          },
          "execution_count": 3,
          "metadata": {},
          "output_type": "execute_result"
        }
      ]
    },
    {
      "cell_type": "code",
      "metadata": {
        "colab": {
          "base_uri": "https://localhost:8080/"
        },
        "id": "BPI7mcRi8EKW",
        "outputId": "5c87e711-a567-49b4-f5f0-745dab94c113"
      },
      "source": [
        "df.shape"
      ],
      "execution_count": null,
      "outputs": [
        {
          "data": {
            "text/plain": [
              "(171351, 6)"
            ]
          },
          "execution_count": 4,
          "metadata": {},
          "output_type": "execute_result"
        }
      ]
    },
    {
      "cell_type": "code",
      "metadata": {
        "colab": {
          "base_uri": "https://localhost:8080/"
        },
        "id": "rxU5M15G8JEG",
        "outputId": "e9cf8320-3a7f-49d9-972e-d9fb51dca3d0"
      },
      "source": [
        "df.info()"
      ],
      "execution_count": null,
      "outputs": [
        {
          "name": "stdout",
          "output_type": "stream",
          "text": [
            "<class 'pandas.core.frame.DataFrame'>\n",
            "RangeIndex: 171351 entries, 0 to 171350\n",
            "Data columns (total 6 columns):\n",
            " #   Column       Non-Null Count   Dtype  \n",
            "---  ------       --------------   -----  \n",
            " 0   Marca        171351 non-null  object \n",
            " 1   Modelo       171351 non-null  object \n",
            " 2   Valor        171351 non-null  float64\n",
            " 3   Ano          171351 non-null  object \n",
            " 4   Combustível  171351 non-null  object \n",
            " 5   Automático   171351 non-null  bool   \n",
            "dtypes: bool(1), float64(1), object(4)\n",
            "memory usage: 6.7+ MB\n"
          ]
        }
      ]
    },
    {
      "cell_type": "code",
      "metadata": {
        "colab": {
          "base_uri": "https://localhost:8080/"
        },
        "id": "n0JGaegn8Lsu",
        "outputId": "0f685f05-23d0-4df2-e42d-ce4354768350"
      },
      "source": [
        "df.nunique()"
      ],
      "execution_count": null,
      "outputs": [
        {
          "data": {
            "text/plain": [
              "Marca             90\n",
              "Modelo          6198\n",
              "Valor          23145\n",
              "Ano               39\n",
              "Combustível        3\n",
              "Automático         2\n",
              "dtype: int64"
            ]
          },
          "execution_count": 6,
          "metadata": {},
          "output_type": "execute_result"
        }
      ]
    },
    {
      "cell_type": "code",
      "metadata": {
        "id": "xADsfWWj8asN"
      },
      "source": [
        "# The 'Ano'(year) column is as object type. Let's change that.\n",
        "#df['Ano'] = df['Ano'].astype(int)"
      ],
      "execution_count": null,
      "outputs": []
    },
    {
      "cell_type": "code",
      "metadata": {
        "colab": {
          "base_uri": "https://localhost:8080/"
        },
        "id": "is5DS1Hv9gbQ",
        "outputId": "a9e59aa9-e5d5-4e0d-f662-1caf717753d9"
      },
      "source": [
        "# There is a 'Zero KM' value in the 'Ano' column. The code above return an error.\n",
        "df['Ano'].unique()"
      ],
      "execution_count": null,
      "outputs": [
        {
          "data": {
            "text/plain": [
              "array(['1992', '1991', '1998', '1997', '1996', '1995', '1994', '1993',\n",
              "       '2007', '2006', '2005', '2004', '2015', '2014', '2013', '2012',\n",
              "       '2011', '2010', '2009', '2008', 'Zero KM', '2021', '2020', '2019',\n",
              "       '2018', '2017', '2016', '1999', '2003', '2002', '2001', '2000',\n",
              "       '1986', '1985', '1990', '1989', '1988', '1987', '2022'],\n",
              "      dtype=object)"
            ]
          },
          "execution_count": 8,
          "metadata": {},
          "output_type": "execute_result"
        }
      ]
    },
    {
      "cell_type": "code",
      "metadata": {
        "colab": {
          "base_uri": "https://localhost:8080/",
          "height": 414
        },
        "id": "ujs4hEKe9Wsm",
        "outputId": "09695fa7-cb2e-47d6-b624-0c2634eb82fe"
      },
      "source": [
        "df[df['Ano']== \"Zero KM\"]"
      ],
      "execution_count": null,
      "outputs": [
        {
          "data": {
            "text/html": [
              "<div>\n",
              "<style scoped>\n",
              "    .dataframe tbody tr th:only-of-type {\n",
              "        vertical-align: middle;\n",
              "    }\n",
              "\n",
              "    .dataframe tbody tr th {\n",
              "        vertical-align: top;\n",
              "    }\n",
              "\n",
              "    .dataframe thead th {\n",
              "        text-align: right;\n",
              "    }\n",
              "</style>\n",
              "<table border=\"1\" class=\"dataframe\">\n",
              "  <thead>\n",
              "    <tr style=\"text-align: right;\">\n",
              "      <th></th>\n",
              "      <th>Marca</th>\n",
              "      <th>Modelo</th>\n",
              "      <th>Valor</th>\n",
              "      <th>Ano</th>\n",
              "      <th>Combustível</th>\n",
              "      <th>Automático</th>\n",
              "    </tr>\n",
              "  </thead>\n",
              "  <tbody>\n",
              "    <tr>\n",
              "      <th>52</th>\n",
              "      <td>Agrale</td>\n",
              "      <td>MARRUÁ AM 200 2.8 CD TDI Diesel</td>\n",
              "      <td>379862.0</td>\n",
              "      <td>Zero KM</td>\n",
              "      <td>Diesel</td>\n",
              "      <td>False</td>\n",
              "    </tr>\n",
              "    <tr>\n",
              "      <th>67</th>\n",
              "      <td>Agrale</td>\n",
              "      <td>MARRUÁ AM 200 2.8 CS TDI Diesel</td>\n",
              "      <td>355525.0</td>\n",
              "      <td>Zero KM</td>\n",
              "      <td>Diesel</td>\n",
              "      <td>False</td>\n",
              "    </tr>\n",
              "    <tr>\n",
              "      <th>83</th>\n",
              "      <td>Agrale</td>\n",
              "      <td>MARRUÁ AM 200 Escolar 2.8 TDI Diesel</td>\n",
              "      <td>456633.0</td>\n",
              "      <td>Zero KM</td>\n",
              "      <td>Diesel</td>\n",
              "      <td>False</td>\n",
              "    </tr>\n",
              "    <tr>\n",
              "      <th>85</th>\n",
              "      <td>Agrale</td>\n",
              "      <td>MARRUÁ AM 200 Microbus 2.8 TDI Diesel</td>\n",
              "      <td>455566.0</td>\n",
              "      <td>Zero KM</td>\n",
              "      <td>Diesel</td>\n",
              "      <td>False</td>\n",
              "    </tr>\n",
              "    <tr>\n",
              "      <th>423</th>\n",
              "      <td>Audi</td>\n",
              "      <td>A3 Sed. P. Plus Tech 1.4 Flex TFSI Tip.</td>\n",
              "      <td>182545.0</td>\n",
              "      <td>Zero KM</td>\n",
              "      <td>Gasolina</td>\n",
              "      <td>False</td>\n",
              "    </tr>\n",
              "    <tr>\n",
              "      <th>...</th>\n",
              "      <td>...</td>\n",
              "      <td>...</td>\n",
              "      <td>...</td>\n",
              "      <td>...</td>\n",
              "      <td>...</td>\n",
              "      <td>...</td>\n",
              "    </tr>\n",
              "    <tr>\n",
              "      <th>171179</th>\n",
              "      <td>VW - VolksWagen</td>\n",
              "      <td>VIRTUS Sense 1.6 Flex 16V 5p Aut. (PCD)</td>\n",
              "      <td>69990.0</td>\n",
              "      <td>Zero KM</td>\n",
              "      <td>Gasolina</td>\n",
              "      <td>True</td>\n",
              "    </tr>\n",
              "    <tr>\n",
              "      <th>171187</th>\n",
              "      <td>VW - VolksWagen</td>\n",
              "      <td>VOYAGE 1.0 Flex 12V 4p</td>\n",
              "      <td>68751.0</td>\n",
              "      <td>Zero KM</td>\n",
              "      <td>Gasolina</td>\n",
              "      <td>False</td>\n",
              "    </tr>\n",
              "    <tr>\n",
              "      <th>171200</th>\n",
              "      <td>VW - VolksWagen</td>\n",
              "      <td>VOYAGE 1.6 MSI Flex 16V 4p Aut.</td>\n",
              "      <td>80566.0</td>\n",
              "      <td>Zero KM</td>\n",
              "      <td>Gasolina</td>\n",
              "      <td>True</td>\n",
              "    </tr>\n",
              "    <tr>\n",
              "      <th>171205</th>\n",
              "      <td>VW - VolksWagen</td>\n",
              "      <td>VOYAGE 1.6 MSI Flex 8V 4p</td>\n",
              "      <td>74400.0</td>\n",
              "      <td>Zero KM</td>\n",
              "      <td>Gasolina</td>\n",
              "      <td>False</td>\n",
              "    </tr>\n",
              "    <tr>\n",
              "      <th>171320</th>\n",
              "      <td>Wake</td>\n",
              "      <td>Way 1.6 Total Flex 8V Mec.</td>\n",
              "      <td>77540.0</td>\n",
              "      <td>Zero KM</td>\n",
              "      <td>Gasolina</td>\n",
              "      <td>False</td>\n",
              "    </tr>\n",
              "  </tbody>\n",
              "</table>\n",
              "<p>6917 rows × 6 columns</p>\n",
              "</div>"
            ],
            "text/plain": [
              "                  Marca  ... Automático\n",
              "52               Agrale  ...      False\n",
              "67               Agrale  ...      False\n",
              "83               Agrale  ...      False\n",
              "85               Agrale  ...      False\n",
              "423                Audi  ...      False\n",
              "...                 ...  ...        ...\n",
              "171179  VW - VolksWagen  ...       True\n",
              "171187  VW - VolksWagen  ...      False\n",
              "171200  VW - VolksWagen  ...       True\n",
              "171205  VW - VolksWagen  ...      False\n",
              "171320             Wake  ...      False\n",
              "\n",
              "[6917 rows x 6 columns]"
            ]
          },
          "execution_count": 9,
          "metadata": {},
          "output_type": "execute_result"
        }
      ]
    },
    {
      "cell_type": "code",
      "metadata": {
        "colab": {
          "base_uri": "https://localhost:8080/"
        },
        "id": "ZVFLcnVI_3w9",
        "outputId": "4f63b73a-17bc-432e-f935-3fe1ce82c1e3"
      },
      "source": [
        "# Replacing the 'Zero KM' value to 2022, since a zero km model is probably a 2022 model.\n",
        "# And also because the highest number of records is 'Zero KM'. Factories usually try to sell the newest models more.\n",
        "df['Ano'].value_counts()"
      ],
      "execution_count": null,
      "outputs": [
        {
          "data": {
            "text/plain": [
              "Zero KM    6917\n",
              "2018       6734\n",
              "2012       6721\n",
              "2015       6688\n",
              "2013       6632\n",
              "2014       6565\n",
              "2016       6431\n",
              "2019       6398\n",
              "2017       6360\n",
              "2020       6216\n",
              "2011       6134\n",
              "2010       5836\n",
              "2009       5665\n",
              "2000       5384\n",
              "1999       5239\n",
              "2008       5101\n",
              "2006       5016\n",
              "2021       5014\n",
              "2005       4953\n",
              "2001       4935\n",
              "2007       4901\n",
              "1998       4876\n",
              "1995       4781\n",
              "1997       4147\n",
              "2002       4081\n",
              "2004       3940\n",
              "1994       3917\n",
              "1996       3761\n",
              "2003       3729\n",
              "1993       3534\n",
              "1992       2527\n",
              "2022       2044\n",
              "1991       1599\n",
              "1989        863\n",
              "1990        829\n",
              "1988        803\n",
              "1987        765\n",
              "1986        740\n",
              "1985        575\n",
              "Name: Ano, dtype: int64"
            ]
          },
          "execution_count": 10,
          "metadata": {},
          "output_type": "execute_result"
        }
      ]
    },
    {
      "cell_type": "code",
      "metadata": {
        "colab": {
          "base_uri": "https://localhost:8080/"
        },
        "id": "CGvX4fUmAu8d",
        "outputId": "48d5b18b-bcbd-4e5a-9e7f-5a325a829874"
      },
      "source": [
        "df.loc[df['Ano'] ==\"Zero KM\", 'Ano'] = '2022'\n",
        "df['Ano'].value_counts()"
      ],
      "execution_count": null,
      "outputs": [
        {
          "data": {
            "text/plain": [
              "2022    8961\n",
              "2018    6734\n",
              "2012    6721\n",
              "2015    6688\n",
              "2013    6632\n",
              "2014    6565\n",
              "2016    6431\n",
              "2019    6398\n",
              "2017    6360\n",
              "2020    6216\n",
              "2011    6134\n",
              "2010    5836\n",
              "2009    5665\n",
              "2000    5384\n",
              "1999    5239\n",
              "2008    5101\n",
              "2006    5016\n",
              "2021    5014\n",
              "2005    4953\n",
              "2001    4935\n",
              "2007    4901\n",
              "1998    4876\n",
              "1995    4781\n",
              "1997    4147\n",
              "2002    4081\n",
              "2004    3940\n",
              "1994    3917\n",
              "1996    3761\n",
              "2003    3729\n",
              "1993    3534\n",
              "1992    2527\n",
              "1991    1599\n",
              "1989     863\n",
              "1990     829\n",
              "1988     803\n",
              "1987     765\n",
              "1986     740\n",
              "1985     575\n",
              "Name: Ano, dtype: int64"
            ]
          },
          "execution_count": 11,
          "metadata": {},
          "output_type": "execute_result"
        }
      ]
    },
    {
      "cell_type": "code",
      "metadata": {
        "colab": {
          "base_uri": "https://localhost:8080/"
        },
        "id": "ERVNgd6ACRWZ",
        "outputId": "ed08c4c4-eb03-48e3-b935-1822b638cf96"
      },
      "source": [
        "df['Ano'] = df['Ano'].astype(int)\n",
        "df.dtypes"
      ],
      "execution_count": null,
      "outputs": [
        {
          "data": {
            "text/plain": [
              "Marca           object\n",
              "Modelo          object\n",
              "Valor          float64\n",
              "Ano              int64\n",
              "Combustível     object\n",
              "Automático        bool\n",
              "dtype: object"
            ]
          },
          "execution_count": 12,
          "metadata": {},
          "output_type": "execute_result"
        }
      ]
    },
    {
      "cell_type": "code",
      "metadata": {
        "colab": {
          "base_uri": "https://localhost:8080/"
        },
        "id": "54WWZ89WDLoV",
        "outputId": "ddaecb91-e421-4099-82d3-433adef09e48"
      },
      "source": [
        "# Changing the data type of the 'Automático' column to int.\n",
        "df['Automático'] = df['Automático'].astype(int)\n",
        "df.dtypes"
      ],
      "execution_count": null,
      "outputs": [
        {
          "data": {
            "text/plain": [
              "Marca           object\n",
              "Modelo          object\n",
              "Valor          float64\n",
              "Ano              int64\n",
              "Combustível     object\n",
              "Automático       int64\n",
              "dtype: object"
            ]
          },
          "execution_count": 13,
          "metadata": {},
          "output_type": "execute_result"
        }
      ]
    },
    {
      "cell_type": "code",
      "metadata": {
        "colab": {
          "base_uri": "https://localhost:8080/",
          "height": 294
        },
        "id": "4QnKZLaGIHp-",
        "outputId": "3d5988ea-b117-4765-d359-6c45cf9648f5"
      },
      "source": [
        "df.describe()"
      ],
      "execution_count": null,
      "outputs": [
        {
          "data": {
            "text/html": [
              "<div>\n",
              "<style scoped>\n",
              "    .dataframe tbody tr th:only-of-type {\n",
              "        vertical-align: middle;\n",
              "    }\n",
              "\n",
              "    .dataframe tbody tr th {\n",
              "        vertical-align: top;\n",
              "    }\n",
              "\n",
              "    .dataframe thead th {\n",
              "        text-align: right;\n",
              "    }\n",
              "</style>\n",
              "<table border=\"1\" class=\"dataframe\">\n",
              "  <thead>\n",
              "    <tr style=\"text-align: right;\">\n",
              "      <th></th>\n",
              "      <th>Valor</th>\n",
              "      <th>Ano</th>\n",
              "      <th>Automático</th>\n",
              "    </tr>\n",
              "  </thead>\n",
              "  <tbody>\n",
              "    <tr>\n",
              "      <th>count</th>\n",
              "      <td>1.713510e+05</td>\n",
              "      <td>171351.000000</td>\n",
              "      <td>171351.000000</td>\n",
              "    </tr>\n",
              "    <tr>\n",
              "      <th>mean</th>\n",
              "      <td>1.314815e+05</td>\n",
              "      <td>2008.058932</td>\n",
              "      <td>0.318942</td>\n",
              "    </tr>\n",
              "    <tr>\n",
              "      <th>std</th>\n",
              "      <td>3.870723e+05</td>\n",
              "      <td>9.384163</td>\n",
              "      <td>0.466068</td>\n",
              "    </tr>\n",
              "    <tr>\n",
              "      <th>min</th>\n",
              "      <td>1.674000e+03</td>\n",
              "      <td>1985.000000</td>\n",
              "      <td>0.000000</td>\n",
              "    </tr>\n",
              "    <tr>\n",
              "      <th>25%</th>\n",
              "      <td>1.978200e+04</td>\n",
              "      <td>2000.000000</td>\n",
              "      <td>0.000000</td>\n",
              "    </tr>\n",
              "    <tr>\n",
              "      <th>50%</th>\n",
              "      <td>4.351900e+04</td>\n",
              "      <td>2009.000000</td>\n",
              "      <td>0.000000</td>\n",
              "    </tr>\n",
              "    <tr>\n",
              "      <th>75%</th>\n",
              "      <td>1.029180e+05</td>\n",
              "      <td>2016.000000</td>\n",
              "      <td>1.000000</td>\n",
              "    </tr>\n",
              "    <tr>\n",
              "      <th>max</th>\n",
              "      <td>7.900000e+06</td>\n",
              "      <td>2022.000000</td>\n",
              "      <td>1.000000</td>\n",
              "    </tr>\n",
              "  </tbody>\n",
              "</table>\n",
              "</div>"
            ],
            "text/plain": [
              "              Valor            Ano     Automático\n",
              "count  1.713510e+05  171351.000000  171351.000000\n",
              "mean   1.314815e+05    2008.058932       0.318942\n",
              "std    3.870723e+05       9.384163       0.466068\n",
              "min    1.674000e+03    1985.000000       0.000000\n",
              "25%    1.978200e+04    2000.000000       0.000000\n",
              "50%    4.351900e+04    2009.000000       0.000000\n",
              "75%    1.029180e+05    2016.000000       1.000000\n",
              "max    7.900000e+06    2022.000000       1.000000"
            ]
          },
          "execution_count": 14,
          "metadata": {},
          "output_type": "execute_result"
        }
      ]
    },
    {
      "cell_type": "markdown",
      "metadata": {
        "id": "spKfPpU7DxbM"
      },
      "source": [
        "###Vizualizing data"
      ]
    },
    {
      "cell_type": "code",
      "metadata": {
        "colab": {
          "base_uri": "https://localhost:8080/",
          "height": 607
        },
        "id": "ttmcIRHYCfVV",
        "outputId": "bc4a77f7-dc35-4500-da92-7d9ce1bacf0a"
      },
      "source": [
        "df.hist(bins=20, figsize=(14, 10));\n",
        "plt.show()"
      ],
      "execution_count": null,
      "outputs": [
        {
          "data": {
            "image/png": "[encoded data removed]",
            "text/plain": [
              "<Figure size 1008x720 with 4 Axes>"
            ]
          },
          "metadata": {},
          "output_type": "display_data"
        }
      ]
    },
    {
      "cell_type": "code",
      "metadata": {
        "colab": {
          "base_uri": "https://localhost:8080/",
          "height": 278
        },
        "id": "LUclmaQGCxMt",
        "outputId": "9c5ce014-2742-4042-a425-3ae2abdad8fb"
      },
      "source": [
        "sns.countplot(x=df['Automático']);"
      ],
      "execution_count": null,
      "outputs": [
        {
          "data": {
            "image/png": "[encoded data removed]",
            "text/plain": [
              "<Figure size 432x288 with 1 Axes>"
            ]
          },
          "metadata": {},
          "output_type": "display_data"
        }
      ]
    },
    {
      "cell_type": "code",
      "metadata": {
        "colab": {
          "base_uri": "https://localhost:8080/"
        },
        "id": "D_nKthBSENAd",
        "outputId": "dba7ae3c-3996-4210-fb98-14921cc71647"
      },
      "source": [
        "df['Automático'].mean()\n",
        "# Only 30% of car models are automatic."
      ],
      "execution_count": null,
      "outputs": [
        {
          "data": {
            "text/plain": [
              "0.31894182117408126"
            ]
          },
          "execution_count": 17,
          "metadata": {},
          "output_type": "execute_result"
        }
      ]
    },
    {
      "cell_type": "code",
      "metadata": {
        "colab": {
          "base_uri": "https://localhost:8080/",
          "height": 278
        },
        "id": "ihHFdaVUEix9",
        "outputId": "67d88ad1-2f24-4727-b9fc-2a72ac41681c"
      },
      "source": [
        "sns.countplot(x=df['Combustível']);\n",
        "# The majority of the models are Gasoline fuel type. \n",
        "#That can harm the learning of the algorithms and there for the predction prices on alcohool and diasel cars."
      ],
      "execution_count": null,
      "outputs": [
        {
          "data": {
            "image/png": "[encoded data removed]",
            "text/plain": [
              "<Figure size 432x288 with 1 Axes>"
            ]
          },
          "metadata": {},
          "output_type": "display_data"
        }
      ]
    },
    {
      "cell_type": "code",
      "metadata": {
        "colab": {
          "base_uri": "https://localhost:8080/",
          "height": 278
        },
        "id": "2dGnT_Z-E5hk",
        "outputId": "d4db8e9d-4cf0-46f0-e5ee-ec80d2b5bc0f"
      },
      "source": [
        "sns.barplot(x='Combustível', y='Valor', data=df)\n",
        "plt.show()\n",
        "# Gas tend to be the fuel type of the more expensive cars."
      ],
      "execution_count": null,
      "outputs": [
        {
          "data": {
            "image/png": "[encoded data removed]",
            "text/plain": [
              "<Figure size 432x288 with 1 Axes>"
            ]
          },
          "metadata": {},
          "output_type": "display_data"
        }
      ]
    },
    {
      "cell_type": "code",
      "metadata": {
        "colab": {
          "base_uri": "https://localhost:8080/",
          "height": 202
        },
        "id": "htojEe_tFY3U",
        "outputId": "2785191b-3e8c-40ab-af82-73fbfc6bbcb6"
      },
      "source": [
        "df[df['Valor'] == df['Valor'].max()].head()\n",
        "# lamborghini Aventador is the more expensive car, and its fuel type is gasoline."
      ],
      "execution_count": null,
      "outputs": [
        {
          "data": {
            "text/html": [
              "<div>\n",
              "<style scoped>\n",
              "    .dataframe tbody tr th:only-of-type {\n",
              "        vertical-align: middle;\n",
              "    }\n",
              "\n",
              "    .dataframe tbody tr th {\n",
              "        vertical-align: top;\n",
              "    }\n",
              "\n",
              "    .dataframe thead th {\n",
              "        text-align: right;\n",
              "    }\n",
              "</style>\n",
              "<table border=\"1\" class=\"dataframe\">\n",
              "  <thead>\n",
              "    <tr style=\"text-align: right;\">\n",
              "      <th></th>\n",
              "      <th>Marca</th>\n",
              "      <th>Modelo</th>\n",
              "      <th>Valor</th>\n",
              "      <th>Ano</th>\n",
              "      <th>Combustível</th>\n",
              "      <th>Automático</th>\n",
              "    </tr>\n",
              "  </thead>\n",
              "  <tbody>\n",
              "    <tr>\n",
              "      <th>61996</th>\n",
              "      <td>LAMBORGHINI</td>\n",
              "      <td>AVENTADOR 770-4 SVJ ROADSTER V12</td>\n",
              "      <td>7900000.0</td>\n",
              "      <td>2022</td>\n",
              "      <td>Gasolina</td>\n",
              "      <td>0</td>\n",
              "    </tr>\n",
              "    <tr>\n",
              "      <th>62545</th>\n",
              "      <td>LAMBORGHINI</td>\n",
              "      <td>AVENTADOR 770-4 SVJ ROADSTER V12</td>\n",
              "      <td>7900000.0</td>\n",
              "      <td>2022</td>\n",
              "      <td>Gasolina</td>\n",
              "      <td>0</td>\n",
              "    </tr>\n",
              "    <tr>\n",
              "      <th>63728</th>\n",
              "      <td>LAMBORGHINI</td>\n",
              "      <td>AVENTADOR 770-4 SVJ ROADSTER V12</td>\n",
              "      <td>7900000.0</td>\n",
              "      <td>2022</td>\n",
              "      <td>Gasolina</td>\n",
              "      <td>0</td>\n",
              "    </tr>\n",
              "    <tr>\n",
              "      <th>65050</th>\n",
              "      <td>LAMBORGHINI</td>\n",
              "      <td>AVENTADOR 770-4 SVJ ROADSTER V12</td>\n",
              "      <td>7900000.0</td>\n",
              "      <td>2022</td>\n",
              "      <td>Gasolina</td>\n",
              "      <td>0</td>\n",
              "    </tr>\n",
              "    <tr>\n",
              "      <th>66402</th>\n",
              "      <td>LAMBORGHINI</td>\n",
              "      <td>AVENTADOR 770-4 SVJ ROADSTER V12</td>\n",
              "      <td>7900000.0</td>\n",
              "      <td>2022</td>\n",
              "      <td>Gasolina</td>\n",
              "      <td>0</td>\n",
              "    </tr>\n",
              "  </tbody>\n",
              "</table>\n",
              "</div>"
            ],
            "text/plain": [
              "             Marca                            Modelo  ...  Combustível  Automático\n",
              "61996  LAMBORGHINI  AVENTADOR 770-4 SVJ ROADSTER V12  ...     Gasolina           0\n",
              "62545  LAMBORGHINI  AVENTADOR 770-4 SVJ ROADSTER V12  ...     Gasolina           0\n",
              "63728  LAMBORGHINI  AVENTADOR 770-4 SVJ ROADSTER V12  ...     Gasolina           0\n",
              "65050  LAMBORGHINI  AVENTADOR 770-4 SVJ ROADSTER V12  ...     Gasolina           0\n",
              "66402  LAMBORGHINI  AVENTADOR 770-4 SVJ ROADSTER V12  ...     Gasolina           0\n",
              "\n",
              "[5 rows x 6 columns]"
            ]
          },
          "execution_count": 20,
          "metadata": {},
          "output_type": "execute_result"
        }
      ]
    },
    {
      "cell_type": "code",
      "metadata": {
        "colab": {
          "base_uri": "https://localhost:8080/",
          "height": 211
        },
        "id": "D2gbOgvLHcS0",
        "outputId": "cdfc4bc9-ccb0-4c57-bc91-524f6367d85e"
      },
      "source": [
        "sns.catplot(y=\"Combustível\", x=\"Valor\", hue=\"Automático\", data=df, aspect = 5)\n",
        "plt.xlabel(\"Valor\",fontsize=20)\n",
        "plt.ylabel(\"Tipo Combustível\",fontsize=20)\n",
        "plt.show()\n",
        "\n",
        "# The super cars so to speak, which are the most expensive, are not automatic for performance reasons. The chart makes sense.\n",
        "# At the same time there are few automatic cars among the cheapest, which also makes a lot of sense."
      ],
      "execution_count": null,
      "outputs": [
        {
          "data": {
            "image/png": "[encoded data removed]",
            "text/plain": [
              "<Figure size 1865.12x360 with 1 Axes>"
            ]
          },
          "metadata": {},
          "output_type": "display_data"
        }
      ]
    },
    {
      "cell_type": "code",
      "metadata": {
        "colab": {
          "base_uri": "https://localhost:8080/",
          "height": 615
        },
        "id": "7i7jBBrKI24T",
        "outputId": "5c69ae8e-790d-463f-926a-0d2cb8a1af42"
      },
      "source": [
        "# Let's get an overview in the car models and brands.\n",
        "for feature in ('Marca', 'Modelo'):\n",
        "    print('-' * 40)\n",
        "    print(f'{feature}: {df[feature].nunique()} unique values')\n",
        "    groups = df[feature].value_counts(normalize=True)[:10]\n",
        "    plt.barh(groups.index, groups.values)\n",
        "    plt.title(f'Largest groups in {feature}')\n",
        "    plt.show()"
      ],
      "execution_count": null,
      "outputs": [
        {
          "name": "stdout",
          "output_type": "stream",
          "text": [
            "----------------------------------------\n",
            "Marca: 90 unique values\n"
          ]
        },
        {
          "data": {
            "image/png": "[encoded data removed]",
            "text/plain": [
              "<Figure size 432x288 with 1 Axes>"
            ]
          },
          "metadata": {},
          "output_type": "display_data"
        },
        {
          "name": "stdout",
          "output_type": "stream",
          "text": [
            "----------------------------------------\n",
            "Modelo: 6198 unique values\n"
          ]
        },
        {
          "data": {
            "image/png": "[encoded data removed]",
            "text/plain": [
              "<Figure size 432x288 with 1 Axes>"
            ]
          },
          "metadata": {},
          "output_type": "display_data"
        }
      ]
    },
    {
      "cell_type": "code",
      "metadata": {
        "colab": {
          "base_uri": "https://localhost:8080/",
          "height": 287
        },
        "id": "dk6yOQE_KKrD",
        "outputId": "51ac3c05-642a-4971-e8b6-426e3c8c728c"
      },
      "source": [
        "# Finally, let's se the correlation between the car price and the car year.\n",
        "sns.lineplot(y=\"Valor\", x=\"Ano\", data=df)\n",
        "plt.xlabel(\"Year\",fontsize=20)\n",
        "plt.ylabel(\"Price\",fontsize=20)\n",
        "plt.show()\n"
      ],
      "execution_count": null,
      "outputs": [
        {
          "data": {
            "image/png": "[encoded data removed]",
            "text/plain": [
              "<Figure size 432x288 with 1 Axes>"
            ]
          },
          "metadata": {},
          "output_type": "display_data"
        }
      ]
    },
    {
      "cell_type": "code",
      "metadata": {
        "colab": {
          "base_uri": "https://localhost:8080/",
          "height": 290
        },
        "id": "Ol7s6QidLIGc",
        "outputId": "2f0a879b-dd40-475b-e5d5-ad51bd8651a0"
      },
      "source": [
        "# Let's see the automatic price \n",
        "sns.lineplot(y=\"Valor\", x=\"Ano\", hue='Automático', data=df)\n",
        "plt.xlabel(\"Year\",fontsize=20)\n",
        "plt.ylabel(\"Price\",fontsize=20)\n",
        "plt.show()"
      ],
      "execution_count": null,
      "outputs": [
        {
          "data": {
            "image/png": "[encoded data removed]",
            "text/plain": [
              "<Figure size 432x288 with 1 Axes>"
            ]
          },
          "metadata": {},
          "output_type": "display_data"
        }
      ]
    },
    {
      "cell_type": "code",
      "metadata": {
        "colab": {
          "base_uri": "https://localhost:8080/",
          "height": 287
        },
        "id": "CAoNmU3VL4XD",
        "outputId": "8c420492-1238-4802-dc97-0dfe8a76fbb5"
      },
      "source": [
        "# The top 5 brands with the most expensive models.\n",
        "brands = df.groupby('Marca')['Valor'].mean().reset_index()\n",
        "sns.barplot(y=\"Valor\", x=\"Marca\", data=brands.head())      #  head() function to get the top 5\n",
        "plt.xlabel(\"Brand\",fontsize=20)\n",
        "plt.ylabel(\"Price\",fontsize=20)\n",
        "plt.show()\n"
      ],
      "execution_count": null,
      "outputs": [
        {
          "data": {
            "image/png": "[encoded data removed]",
            "text/plain": [
              "<Figure size 432x288 with 1 Axes>"
            ]
          },
          "metadata": {},
          "output_type": "display_data"
        }
      ]
    },
    {
      "cell_type": "code",
      "metadata": {
        "colab": {
          "base_uri": "https://localhost:8080/",
          "height": 288
        },
        "id": "IhbpLpN1MPCK",
        "outputId": "894513f1-5cae-4708-a52d-4562f1077e60"
      },
      "source": [
        "# The top 5 brands with the cheapest models.\n",
        "brands = df.groupby('Marca')['Valor'].mean().reset_index()\n",
        "sns.barplot(y=\"Valor\", x=\"Marca\", data=brands.tail())        # tail() function the last 5 \n",
        "plt.xlabel(\"Brand\",fontsize=20)\n",
        "plt.ylabel(\"Price\",fontsize=20)\n",
        "plt.show()\n"
      ],
      "execution_count": null,
      "outputs": [
        {
          "data": {
            "image/png": "[encoded data removed]",
            "text/plain": [
              "<Figure size 432x288 with 1 Axes>"
            ]
          },
          "metadata": {},
          "output_type": "display_data"
        }
      ]
    },
    {
      "cell_type": "code",
      "metadata": {
        "colab": {
          "base_uri": "https://localhost:8080/",
          "height": 281
        },
        "id": "JpW1FeYxNqVy",
        "outputId": "827165fd-a5c3-42cc-bfef-0cafdb4b4122"
      },
      "source": [
        "# The top 5 expensive models.\n",
        "models = df.groupby('Modelo')['Valor'].mean().reset_index()\n",
        "plt.barh(models.Modelo.head(), models.Valor.head()) # head() function to get the top 5\n",
        "plt.title('Most expensive models')\n",
        "plt.show()\n"
      ],
      "execution_count": null,
      "outputs": [
        {
          "data": {
            "image/png": "[encoded data removed]",
            "text/plain": [
              "<Figure size 432x288 with 1 Axes>"
            ]
          },
          "metadata": {},
          "output_type": "display_data"
        }
      ]
    },
    {
      "cell_type": "code",
      "metadata": {
        "colab": {
          "base_uri": "https://localhost:8080/",
          "height": 281
        },
        "id": "0LPfCml6QWiS",
        "outputId": "05f7fe2a-85f3-4212-f7b8-d8e8a086c9e4"
      },
      "source": [
        "# The top 5 cheapest models.\n",
        "models = df.groupby('Modelo')['Valor'].mean().reset_index()\n",
        "plt.barh(models.Modelo.tail(), models.Valor.tail()) # tail() function the last 5 \n",
        "plt.title('Cheapest models')\n",
        "plt.show()\n"
      ],
      "execution_count": null,
      "outputs": [
        {
          "data": {
            "image/png": "[encoded data removed]",
            "text/plain": [
              "<Figure size 432x288 with 1 Axes>"
            ]
          },
          "metadata": {},
          "output_type": "display_data"
        }
      ]
    },
    {
      "cell_type": "code",
      "metadata": {
        "colab": {
          "base_uri": "https://localhost:8080/",
          "height": 281
        },
        "id": "J7M2EEAZQ3CC",
        "outputId": "4063874c-0321-4442-e3f5-c7f1e88bfafc"
      },
      "source": [
        "# Finally, let's see the correlation between the variables.\n",
        "\n",
        "correlation = df.corr()\n",
        "ax = sns.heatmap(correlation, annot=True, cmap=plt.cm.Blues)\n",
        "l, r = ax.get_ylim()\n",
        "ax.set_ylim(l + 0.5, r - 0.5)\n",
        "plt.yticks(rotation=0)\n",
        "plt.title('Correlation Matrix')\n",
        "\n",
        "plt.show()\n",
        "\n",
        "# There is a small correlation between the Year and the Automatic models, wicth make sense. There is a very few old cars that were automatic."
      ],
      "execution_count": null,
      "outputs": [
        {
          "data": {
            "image/png": "[encoded data removed]",
            "text/plain": [
              "<Figure size 432x288 with 2 Axes>"
            ]
          },
          "metadata": {},
          "output_type": "display_data"
        }
      ]
    },
    {
      "cell_type": "markdown",
      "metadata": {
        "id": "XFmFeC7QTweP"
      },
      "source": [
        "After we do some features engineering, we will se this correlation matrix again. "
      ]
    },
    {
      "cell_type": "markdown",
      "metadata": {
        "id": "5XbElI76UH-9"
      },
      "source": [
        "# Data Preparation"
      ]
    },
    {
      "cell_type": "code",
      "metadata": {
        "colab": {
          "base_uri": "https://localhost:8080/",
          "height": 202
        },
        "id": "55QitlbRUN2Q",
        "outputId": "56486229-c525-4fd4-bca3-b26c5af369cd"
      },
      "source": [
        "df.head()"
      ],
      "execution_count": null,
      "outputs": [
        {
          "data": {
            "text/html": [
              "<div>\n",
              "<style scoped>\n",
              "    .dataframe tbody tr th:only-of-type {\n",
              "        vertical-align: middle;\n",
              "    }\n",
              "\n",
              "    .dataframe tbody tr th {\n",
              "        vertical-align: top;\n",
              "    }\n",
              "\n",
              "    .dataframe thead th {\n",
              "        text-align: right;\n",
              "    }\n",
              "</style>\n",
              "<table border=\"1\" class=\"dataframe\">\n",
              "  <thead>\n",
              "    <tr style=\"text-align: right;\">\n",
              "      <th></th>\n",
              "      <th>Marca</th>\n",
              "      <th>Modelo</th>\n",
              "      <th>Valor</th>\n",
              "      <th>Ano</th>\n",
              "      <th>Combustível</th>\n",
              "      <th>Automático</th>\n",
              "    </tr>\n",
              "  </thead>\n",
              "  <tbody>\n",
              "    <tr>\n",
              "      <th>0</th>\n",
              "      <td>Acura</td>\n",
              "      <td>Integra GS 1.8</td>\n",
              "      <td>11165.0</td>\n",
              "      <td>1992</td>\n",
              "      <td>Gasolina</td>\n",
              "      <td>0</td>\n",
              "    </tr>\n",
              "    <tr>\n",
              "      <th>1</th>\n",
              "      <td>Acura</td>\n",
              "      <td>Integra GS 1.8</td>\n",
              "      <td>10167.0</td>\n",
              "      <td>1991</td>\n",
              "      <td>Gasolina</td>\n",
              "      <td>0</td>\n",
              "    </tr>\n",
              "    <tr>\n",
              "      <th>2</th>\n",
              "      <td>Acura</td>\n",
              "      <td>Legend 3.2/3.5</td>\n",
              "      <td>25574.0</td>\n",
              "      <td>1998</td>\n",
              "      <td>Gasolina</td>\n",
              "      <td>0</td>\n",
              "    </tr>\n",
              "    <tr>\n",
              "      <th>3</th>\n",
              "      <td>Acura</td>\n",
              "      <td>Legend 3.2/3.5</td>\n",
              "      <td>22561.0</td>\n",
              "      <td>1997</td>\n",
              "      <td>Gasolina</td>\n",
              "      <td>0</td>\n",
              "    </tr>\n",
              "    <tr>\n",
              "      <th>4</th>\n",
              "      <td>Acura</td>\n",
              "      <td>Legend 3.2/3.5</td>\n",
              "      <td>21388.0</td>\n",
              "      <td>1996</td>\n",
              "      <td>Gasolina</td>\n",
              "      <td>0</td>\n",
              "    </tr>\n",
              "  </tbody>\n",
              "</table>\n",
              "</div>"
            ],
            "text/plain": [
              "   Marca          Modelo    Valor   Ano Combustível  Automático\n",
              "0  Acura  Integra GS 1.8  11165.0  1992    Gasolina           0\n",
              "1  Acura  Integra GS 1.8  10167.0  1991    Gasolina           0\n",
              "2  Acura  Legend 3.2/3.5  25574.0  1998    Gasolina           0\n",
              "3  Acura  Legend 3.2/3.5  22561.0  1997    Gasolina           0\n",
              "4  Acura  Legend 3.2/3.5  21388.0  1996    Gasolina           0"
            ]
          },
          "execution_count": 30,
          "metadata": {},
          "output_type": "execute_result"
        }
      ]
    },
    {
      "cell_type": "code",
      "metadata": {
        "id": "YkBZGq5deV9f"
      },
      "source": [
        "# I will take only 50% of the data for the model.\n",
        "df_int = df.copy()\n",
        "df = df.sample(frac=0.5)"
      ],
      "execution_count": null,
      "outputs": []
    },
    {
      "cell_type": "code",
      "metadata": {
        "colab": {
          "base_uri": "https://localhost:8080/",
          "height": 414
        },
        "id": "zgqx-6afAjIS",
        "outputId": "74cca91a-514d-464c-e519-cd21e69bc7cd"
      },
      "source": [
        "# I need to find a way to replace this very large amount of car models.\n",
        "# This will not be good for algorithm performance as well.\n",
        "brands = df.groupby('Marca')['Modelo'].count().reset_index()\n",
        "brands = brands.sort_values(by='Modelo', ascending=False)\n",
        "brands"
      ],
      "execution_count": null,
      "outputs": [
        {
          "data": {
            "text/html": [
              "<div>\n",
              "<style scoped>\n",
              "    .dataframe tbody tr th:only-of-type {\n",
              "        vertical-align: middle;\n",
              "    }\n",
              "\n",
              "    .dataframe tbody tr th {\n",
              "        vertical-align: top;\n",
              "    }\n",
              "\n",
              "    .dataframe thead th {\n",
              "        text-align: right;\n",
              "    }\n",
              "</style>\n",
              "<table border=\"1\" class=\"dataframe\">\n",
              "  <thead>\n",
              "    <tr style=\"text-align: right;\">\n",
              "      <th></th>\n",
              "      <th>Marca</th>\n",
              "      <th>Modelo</th>\n",
              "    </tr>\n",
              "  </thead>\n",
              "  <tbody>\n",
              "    <tr>\n",
              "      <th>31</th>\n",
              "      <td>GM - Chevrolet</td>\n",
              "      <td>16553</td>\n",
              "    </tr>\n",
              "    <tr>\n",
              "      <th>60</th>\n",
              "      <td>Mercedes-Benz</td>\n",
              "      <td>12244</td>\n",
              "    </tr>\n",
              "    <tr>\n",
              "      <th>50</th>\n",
              "      <td>Land Rover</td>\n",
              "      <td>7367</td>\n",
              "    </tr>\n",
              "    <tr>\n",
              "      <th>45</th>\n",
              "      <td>Kia Motors</td>\n",
              "      <td>5909</td>\n",
              "    </tr>\n",
              "    <tr>\n",
              "      <th>71</th>\n",
              "      <td>Renault</td>\n",
              "      <td>5724</td>\n",
              "    </tr>\n",
              "    <tr>\n",
              "      <th>...</th>\n",
              "      <td>...</td>\n",
              "      <td>...</td>\n",
              "    </tr>\n",
              "    <tr>\n",
              "      <th>0</th>\n",
              "      <td>AM Gen</td>\n",
              "      <td>5</td>\n",
              "    </tr>\n",
              "    <tr>\n",
              "      <th>11</th>\n",
              "      <td>CBT Jipe</td>\n",
              "      <td>5</td>\n",
              "    </tr>\n",
              "    <tr>\n",
              "      <th>14</th>\n",
              "      <td>Cadillac</td>\n",
              "      <td>5</td>\n",
              "    </tr>\n",
              "    <tr>\n",
              "      <th>18</th>\n",
              "      <td>Cross Lander</td>\n",
              "      <td>3</td>\n",
              "    </tr>\n",
              "    <tr>\n",
              "      <th>70</th>\n",
              "      <td>RELY</td>\n",
              "      <td>2</td>\n",
              "    </tr>\n",
              "  </tbody>\n",
              "</table>\n",
              "<p>89 rows × 2 columns</p>\n",
              "</div>"
            ],
            "text/plain": [
              "             Marca  Modelo\n",
              "31  GM - Chevrolet   16553\n",
              "60   Mercedes-Benz   12244\n",
              "50      Land Rover    7367\n",
              "45      Kia Motors    5909\n",
              "71         Renault    5724\n",
              "..             ...     ...\n",
              "0           AM Gen       5\n",
              "11        CBT Jipe       5\n",
              "14        Cadillac       5\n",
              "18    Cross Lander       3\n",
              "70            RELY       2\n",
              "\n",
              "[89 rows x 2 columns]"
            ]
          },
          "execution_count": 32,
          "metadata": {},
          "output_type": "execute_result"
        }
      ]
    },
    {
      "cell_type": "markdown",
      "metadata": {
        "id": "Ok_mOC79FfZA"
      },
      "source": [
        "**I have an idea.**\n",
        "**I'm going to separate cars into 4 categories. Class 1 for entry cars, class 2 for popular cars, class 3 for more expensive cars and class 4 for super cars.**\n",
        "**I'll separate them by quartile values.**\n",
        "\n",
        "\n"
      ]
    },
    {
      "cell_type": "code",
      "metadata": {
        "colab": {
          "base_uri": "https://localhost:8080/"
        },
        "id": "yFEGpI65E5w_",
        "outputId": "88427873-065e-4f0f-abd3-043ebf9bc8ff"
      },
      "source": [
        "df['Valor'].describe().astype(int)"
      ],
      "execution_count": null,
      "outputs": [
        {
          "data": {
            "text/plain": [
              "count      85676\n",
              "mean      131314\n",
              "std       382360\n",
              "min         1674\n",
              "25%        19868\n",
              "50%        43666\n",
              "75%       102587\n",
              "max      7900000\n",
              "Name: Valor, dtype: int64"
            ]
          },
          "execution_count": 33,
          "metadata": {},
          "output_type": "execute_result"
        }
      ]
    },
    {
      "cell_type": "code",
      "metadata": {
        "id": "m2ueXS9dDr6X"
      },
      "source": [
        "car_class = []\n",
        "for i, row in df.iterrows():\n",
        "  if row['Valor'] <= 19782:\n",
        "    car_class.append(1)\n",
        "  elif row['Valor'] <= 43519:\n",
        "    car_class.append(2)\n",
        "  elif row['Valor'] <= 102918:\n",
        "    car_class.append(3)\n",
        "  elif row['Valor'] <= 7900000:\n",
        "    car_class.append(4)\n"
      ],
      "execution_count": null,
      "outputs": []
    },
    {
      "cell_type": "code",
      "metadata": {
        "colab": {
          "base_uri": "https://localhost:8080/"
        },
        "id": "eUv96KXKJmCD",
        "outputId": "83f042f0-58a1-4ed0-ae89-8cbcb4d8407a"
      },
      "source": [
        "len(car_class), len(df)\n",
        "# Same lenght, witch is good."
      ],
      "execution_count": null,
      "outputs": [
        {
          "data": {
            "text/plain": [
              "(85676, 85676)"
            ]
          },
          "execution_count": 35,
          "metadata": {},
          "output_type": "execute_result"
        }
      ]
    },
    {
      "cell_type": "code",
      "metadata": {
        "id": "AaXRy9rLJ0Lt"
      },
      "source": [
        "df['Car_class'] = car_class"
      ],
      "execution_count": null,
      "outputs": []
    },
    {
      "cell_type": "code",
      "metadata": {
        "colab": {
          "base_uri": "https://localhost:8080/",
          "height": 202
        },
        "id": "Tlr0278cKdyp",
        "outputId": "4d3dae56-cda5-4fd6-dfb9-9ec10a1d202b"
      },
      "source": [
        "df.loc[df['Valor'] == 7900000].head()\n",
        "# Class 4 (super_car).\n",
        "# Success!"
      ],
      "execution_count": null,
      "outputs": [
        {
          "data": {
            "text/html": [
              "<div>\n",
              "<style scoped>\n",
              "    .dataframe tbody tr th:only-of-type {\n",
              "        vertical-align: middle;\n",
              "    }\n",
              "\n",
              "    .dataframe tbody tr th {\n",
              "        vertical-align: top;\n",
              "    }\n",
              "\n",
              "    .dataframe thead th {\n",
              "        text-align: right;\n",
              "    }\n",
              "</style>\n",
              "<table border=\"1\" class=\"dataframe\">\n",
              "  <thead>\n",
              "    <tr style=\"text-align: right;\">\n",
              "      <th></th>\n",
              "      <th>Marca</th>\n",
              "      <th>Modelo</th>\n",
              "      <th>Valor</th>\n",
              "      <th>Ano</th>\n",
              "      <th>Combustível</th>\n",
              "      <th>Automático</th>\n",
              "      <th>Car_class</th>\n",
              "    </tr>\n",
              "  </thead>\n",
              "  <tbody>\n",
              "    <tr>\n",
              "      <th>87347</th>\n",
              "      <td>LAMBORGHINI</td>\n",
              "      <td>AVENTADOR 770-4 SVJ ROADSTER V12</td>\n",
              "      <td>7900000.0</td>\n",
              "      <td>2022</td>\n",
              "      <td>Gasolina</td>\n",
              "      <td>0</td>\n",
              "      <td>4</td>\n",
              "    </tr>\n",
              "    <tr>\n",
              "      <th>111729</th>\n",
              "      <td>LAMBORGHINI</td>\n",
              "      <td>AVENTADOR 770-4 SVJ ROADSTER V12</td>\n",
              "      <td>7900000.0</td>\n",
              "      <td>2022</td>\n",
              "      <td>Gasolina</td>\n",
              "      <td>0</td>\n",
              "      <td>4</td>\n",
              "    </tr>\n",
              "    <tr>\n",
              "      <th>67758</th>\n",
              "      <td>LAMBORGHINI</td>\n",
              "      <td>AVENTADOR 770-4 SVJ ROADSTER V12</td>\n",
              "      <td>7900000.0</td>\n",
              "      <td>2022</td>\n",
              "      <td>Gasolina</td>\n",
              "      <td>0</td>\n",
              "      <td>4</td>\n",
              "    </tr>\n",
              "    <tr>\n",
              "      <th>100317</th>\n",
              "      <td>LAMBORGHINI</td>\n",
              "      <td>AVENTADOR 770-4 SVJ ROADSTER V12</td>\n",
              "      <td>7900000.0</td>\n",
              "      <td>2022</td>\n",
              "      <td>Gasolina</td>\n",
              "      <td>0</td>\n",
              "      <td>4</td>\n",
              "    </tr>\n",
              "    <tr>\n",
              "      <th>69116</th>\n",
              "      <td>LAMBORGHINI</td>\n",
              "      <td>AVENTADOR 770-4 SVJ ROADSTER V12</td>\n",
              "      <td>7900000.0</td>\n",
              "      <td>2022</td>\n",
              "      <td>Gasolina</td>\n",
              "      <td>0</td>\n",
              "      <td>4</td>\n",
              "    </tr>\n",
              "  </tbody>\n",
              "</table>\n",
              "</div>"
            ],
            "text/plain": [
              "              Marca                            Modelo  ...  Automático  Car_class\n",
              "87347   LAMBORGHINI  AVENTADOR 770-4 SVJ ROADSTER V12  ...           0          4\n",
              "111729  LAMBORGHINI  AVENTADOR 770-4 SVJ ROADSTER V12  ...           0          4\n",
              "67758   LAMBORGHINI  AVENTADOR 770-4 SVJ ROADSTER V12  ...           0          4\n",
              "100317  LAMBORGHINI  AVENTADOR 770-4 SVJ ROADSTER V12  ...           0          4\n",
              "69116   LAMBORGHINI  AVENTADOR 770-4 SVJ ROADSTER V12  ...           0          4\n",
              "\n",
              "[5 rows x 7 columns]"
            ]
          },
          "execution_count": 37,
          "metadata": {},
          "output_type": "execute_result"
        }
      ]
    },
    {
      "cell_type": "code",
      "metadata": {
        "id": "kNI1MSbBLodF"
      },
      "source": [
        "# Now I will create a column with a code for each brand, to identify the brands after the onehotencoder that will be applied.\n",
        "df_brand = df.copy()"
      ],
      "execution_count": null,
      "outputs": []
    },
    {
      "cell_type": "code",
      "metadata": {
        "id": "yEPzR2eGhT5w"
      },
      "source": [
        "from sklearn.preprocessing import LabelEncoder\n",
        "label = LabelEncoder()\n",
        "df_brand['Marca'] = label.fit_transform(df_brand['Marca'])"
      ],
      "execution_count": null,
      "outputs": []
    },
    {
      "cell_type": "code",
      "metadata": {
        "id": "YhPv97kPZh36"
      },
      "source": [
        "brand_column = df_brand['Marca']"
      ],
      "execution_count": null,
      "outputs": []
    },
    {
      "cell_type": "code",
      "metadata": {
        "id": "Uv0ZaUo2fD_d"
      },
      "source": [
        "df['Brand_code'] = brand_column"
      ],
      "execution_count": null,
      "outputs": []
    },
    {
      "cell_type": "code",
      "metadata": {
        "colab": {
          "base_uri": "https://localhost:8080/",
          "height": 202
        },
        "id": "8Gc02U_9fRlM",
        "outputId": "25419d59-4c5b-4655-fd7c-7ae251f5001e"
      },
      "source": [
        "df.head()\n",
        "# Done!"
      ],
      "execution_count": null,
      "outputs": [
        {
          "data": {
            "text/html": [
              "<div>\n",
              "<style scoped>\n",
              "    .dataframe tbody tr th:only-of-type {\n",
              "        vertical-align: middle;\n",
              "    }\n",
              "\n",
              "    .dataframe tbody tr th {\n",
              "        vertical-align: top;\n",
              "    }\n",
              "\n",
              "    .dataframe thead th {\n",
              "        text-align: right;\n",
              "    }\n",
              "</style>\n",
              "<table border=\"1\" class=\"dataframe\">\n",
              "  <thead>\n",
              "    <tr style=\"text-align: right;\">\n",
              "      <th></th>\n",
              "      <th>Marca</th>\n",
              "      <th>Modelo</th>\n",
              "      <th>Valor</th>\n",
              "      <th>Ano</th>\n",
              "      <th>Combustível</th>\n",
              "      <th>Automático</th>\n",
              "      <th>Car_class</th>\n",
              "      <th>Brand_code</th>\n",
              "    </tr>\n",
              "  </thead>\n",
              "  <tbody>\n",
              "    <tr>\n",
              "      <th>164208</th>\n",
              "      <td>VW - VolksWagen</td>\n",
              "      <td>Polo Comfort. 200 TSI 1.0 Flex 12V Aut.</td>\n",
              "      <td>71643.0</td>\n",
              "      <td>2019</td>\n",
              "      <td>Gasolina</td>\n",
              "      <td>1</td>\n",
              "      <td>3</td>\n",
              "      <td>84</td>\n",
              "    </tr>\n",
              "    <tr>\n",
              "      <th>119748</th>\n",
              "      <td>Mercedes-Benz</td>\n",
              "      <td>E-250 Coupe 2.0 TB 211cv Aut.</td>\n",
              "      <td>162187.0</td>\n",
              "      <td>2015</td>\n",
              "      <td>Gasolina</td>\n",
              "      <td>1</td>\n",
              "      <td>4</td>\n",
              "      <td>60</td>\n",
              "    </tr>\n",
              "    <tr>\n",
              "      <th>68799</th>\n",
              "      <td>Kia Motors</td>\n",
              "      <td>Cerato 1.6 16V Mec.</td>\n",
              "      <td>18900.0</td>\n",
              "      <td>2006</td>\n",
              "      <td>Gasolina</td>\n",
              "      <td>0</td>\n",
              "      <td>1</td>\n",
              "      <td>45</td>\n",
              "    </tr>\n",
              "    <tr>\n",
              "      <th>120444</th>\n",
              "      <td>Mercedes-Benz</td>\n",
              "      <td>SLK-55 AMG V8 24V</td>\n",
              "      <td>419936.0</td>\n",
              "      <td>2016</td>\n",
              "      <td>Gasolina</td>\n",
              "      <td>0</td>\n",
              "      <td>4</td>\n",
              "      <td>60</td>\n",
              "    </tr>\n",
              "    <tr>\n",
              "      <th>26353</th>\n",
              "      <td>GM - Chevrolet</td>\n",
              "      <td>ONIX HATCH LTZ 1.4 8V FlexPower 5p Aut.</td>\n",
              "      <td>47353.0</td>\n",
              "      <td>2015</td>\n",
              "      <td>Gasolina</td>\n",
              "      <td>1</td>\n",
              "      <td>3</td>\n",
              "      <td>31</td>\n",
              "    </tr>\n",
              "  </tbody>\n",
              "</table>\n",
              "</div>"
            ],
            "text/plain": [
              "                  Marca  ... Brand_code\n",
              "164208  VW - VolksWagen  ...         84\n",
              "119748    Mercedes-Benz  ...         60\n",
              "68799        Kia Motors  ...         45\n",
              "120444    Mercedes-Benz  ...         60\n",
              "26353    GM - Chevrolet  ...         31\n",
              "\n",
              "[5 rows x 8 columns]"
            ]
          },
          "execution_count": 42,
          "metadata": {},
          "output_type": "execute_result"
        }
      ]
    },
    {
      "cell_type": "code",
      "metadata": {
        "id": "r2zVLQ601XW4"
      },
      "source": [
        "# Saving the data with the new coloumns.\n",
        "df.to_csv('Car_prices_brazil_clean.csv', index=False)"
      ],
      "execution_count": null,
      "outputs": []
    },
    {
      "cell_type": "code",
      "metadata": {
        "colab": {
          "base_uri": "https://localhost:8080/"
        },
        "id": "n2dxaScFpB8l",
        "outputId": "10f92f72-dff3-4611-b1bb-463139b65aa8"
      },
      "source": [
        "df.dtypes"
      ],
      "execution_count": null,
      "outputs": [
        {
          "data": {
            "text/plain": [
              "Marca           object\n",
              "Modelo          object\n",
              "Valor          float64\n",
              "Ano              int64\n",
              "Combustível     object\n",
              "Automático       int64\n",
              "Car_class        int64\n",
              "Brand_code       int64\n",
              "dtype: object"
            ]
          },
          "execution_count": 44,
          "metadata": {},
          "output_type": "execute_result"
        }
      ]
    },
    {
      "cell_type": "code",
      "metadata": {
        "colab": {
          "base_uri": "https://localhost:8080/",
          "height": 202
        },
        "id": "1ryPIFxRzmOU",
        "outputId": "4d235b70-20ef-407d-f188-0a69838382df"
      },
      "source": [
        "# Let's see the correlation now with the new columns.\n",
        "df.corr()"
      ],
      "execution_count": null,
      "outputs": [
        {
          "data": {
            "text/html": [
              "<div>\n",
              "<style scoped>\n",
              "    .dataframe tbody tr th:only-of-type {\n",
              "        vertical-align: middle;\n",
              "    }\n",
              "\n",
              "    .dataframe tbody tr th {\n",
              "        vertical-align: top;\n",
              "    }\n",
              "\n",
              "    .dataframe thead th {\n",
              "        text-align: right;\n",
              "    }\n",
              "</style>\n",
              "<table border=\"1\" class=\"dataframe\">\n",
              "  <thead>\n",
              "    <tr style=\"text-align: right;\">\n",
              "      <th></th>\n",
              "      <th>Valor</th>\n",
              "      <th>Ano</th>\n",
              "      <th>Automático</th>\n",
              "      <th>Car_class</th>\n",
              "      <th>Brand_code</th>\n",
              "    </tr>\n",
              "  </thead>\n",
              "  <tbody>\n",
              "    <tr>\n",
              "      <th>Valor</th>\n",
              "      <td>1.000000</td>\n",
              "      <td>0.293854</td>\n",
              "      <td>0.062169</td>\n",
              "      <td>0.364940</td>\n",
              "      <td>0.040229</td>\n",
              "    </tr>\n",
              "    <tr>\n",
              "      <th>Ano</th>\n",
              "      <td>0.293854</td>\n",
              "      <td>1.000000</td>\n",
              "      <td>0.409497</td>\n",
              "      <td>0.754522</td>\n",
              "      <td>0.080551</td>\n",
              "    </tr>\n",
              "    <tr>\n",
              "      <th>Automático</th>\n",
              "      <td>0.062169</td>\n",
              "      <td>0.409497</td>\n",
              "      <td>1.000000</td>\n",
              "      <td>0.368518</td>\n",
              "      <td>0.047262</td>\n",
              "    </tr>\n",
              "    <tr>\n",
              "      <th>Car_class</th>\n",
              "      <td>0.364940</td>\n",
              "      <td>0.754522</td>\n",
              "      <td>0.368518</td>\n",
              "      <td>1.000000</td>\n",
              "      <td>0.085499</td>\n",
              "    </tr>\n",
              "    <tr>\n",
              "      <th>Brand_code</th>\n",
              "      <td>0.040229</td>\n",
              "      <td>0.080551</td>\n",
              "      <td>0.047262</td>\n",
              "      <td>0.085499</td>\n",
              "      <td>1.000000</td>\n",
              "    </tr>\n",
              "  </tbody>\n",
              "</table>\n",
              "</div>"
            ],
            "text/plain": [
              "               Valor       Ano  Automático  Car_class  Brand_code\n",
              "Valor       1.000000  0.293854    0.062169   0.364940    0.040229\n",
              "Ano         0.293854  1.000000    0.409497   0.754522    0.080551\n",
              "Automático  0.062169  0.409497    1.000000   0.368518    0.047262\n",
              "Car_class   0.364940  0.754522    0.368518   1.000000    0.085499\n",
              "Brand_code  0.040229  0.080551    0.047262   0.085499    1.000000"
            ]
          },
          "execution_count": 45,
          "metadata": {},
          "output_type": "execute_result"
        }
      ]
    },
    {
      "cell_type": "code",
      "metadata": {
        "colab": {
          "base_uri": "https://localhost:8080/",
          "height": 282
        },
        "id": "0GnuaWYQ1Grm",
        "outputId": "b1050a8c-420a-4b2f-b4fd-574746caa7c5"
      },
      "source": [
        "correlation = df.corr()\n",
        "ax = sns.heatmap(correlation, annot=True, cmap=plt.cm.Blues)\n",
        "l, r = ax.get_ylim()\n",
        "ax.set_ylim(l + 0.5, r - 0.5)\n",
        "plt.yticks(rotation=0)\n",
        "plt.title('Correlation Matrix')\n",
        "\n",
        "plt.show()\n"
      ],
      "execution_count": null,
      "outputs": [
        {
          "data": {
            "image/png": "[encoded data removed]",
            "text/plain": [
              "<Figure size 432x288 with 2 Axes>"
            ]
          },
          "metadata": {},
          "output_type": "display_data"
        }
      ]
    },
    {
      "cell_type": "markdown",
      "metadata": {
        "id": "mRSgOyOUiQoi"
      },
      "source": [
        "Perfect! Now I can use only numerical for the algorthmns."
      ]
    },
    {
      "cell_type": "markdown",
      "metadata": {
        "id": "e-EpBTXVLrTj"
      },
      "source": [
        "###Preparing the features"
      ]
    },
    {
      "cell_type": "markdown",
      "metadata": {
        "id": "18YQcDEv5s3m"
      },
      "source": [
        "####Separating the features"
      ]
    },
    {
      "cell_type": "code",
      "metadata": {
        "id": "zO737aAmUlcZ"
      },
      "source": [
        "# Getting the predictive features in the numpy array format, wicht is necessary for the Machine learning models.\n",
        "X = df.iloc[:, 3:].values\n"
      ],
      "execution_count": null,
      "outputs": []
    },
    {
      "cell_type": "code",
      "metadata": {
        "colab": {
          "base_uri": "https://localhost:8080/"
        },
        "id": "KarE23ZcUwyK",
        "outputId": "8838b78c-a47e-4250-eaea-d52a16888a02"
      },
      "source": [
        "# Getting the target feature.\n",
        "y = df['Valor'].values\n",
        "y"
      ],
      "execution_count": null,
      "outputs": [
        {
          "data": {
            "text/plain": [
              "array([ 71643., 162187.,  18900., ...,  26850., 404652.,  35438.])"
            ]
          },
          "execution_count": 48,
          "metadata": {},
          "output_type": "execute_result"
        }
      ]
    },
    {
      "cell_type": "markdown",
      "metadata": {
        "id": "QmKcu1R76ACQ"
      },
      "source": [
        "####Using the Label Encoder"
      ]
    },
    {
      "cell_type": "code",
      "metadata": {
        "colab": {
          "base_uri": "https://localhost:8080/"
        },
        "id": "x9qXi-2eWCPd",
        "outputId": "7734ea5f-6480-493b-be0e-563a974eca3e"
      },
      "source": [
        "from sklearn.preprocessing import LabelEncoder\n",
        "# Using the LabelEncoder to the \"Combustível\" column.\n",
        "\n",
        "label_encoder_combustivel = LabelEncoder()\n",
        "X[:,1] = label_encoder_combustivel.fit_transform(X[:,1])\n",
        "\n",
        "X\n"
      ],
      "execution_count": null,
      "outputs": [
        {
          "data": {
            "text/plain": [
              "array([[2019, 1, 1, 3, 84],\n",
              "       [2015, 1, 1, 4, 60],\n",
              "       [2006, 1, 0, 1, 45],\n",
              "       ...,\n",
              "       [2007, 1, 0, 2, 27],\n",
              "       [2018, 1, 1, 4, 50],\n",
              "       [2014, 1, 0, 2, 64]], dtype=object)"
            ]
          },
          "execution_count": 49,
          "metadata": {},
          "output_type": "execute_result"
        }
      ]
    },
    {
      "cell_type": "markdown",
      "metadata": {
        "id": "rWNnIxqK6KvR"
      },
      "source": [
        "####Using the Standard Scaler"
      ]
    },
    {
      "cell_type": "code",
      "metadata": {
        "id": "KDrGSAe-XoJh"
      },
      "source": [
        "# Standard Scaler will be used with some algorithmns.\n",
        "from sklearn.preprocessing import StandardScaler\n",
        "\n",
        "scaler = StandardScaler()\n",
        "X_scaler = scaler.fit_transform(X)\n",
        "scaler_y = StandardScaler()\n",
        "y_scaler = scaler_y.fit_transform(y.reshape(-1, 1))"
      ],
      "execution_count": null,
      "outputs": []
    },
    {
      "cell_type": "code",
      "metadata": {
        "colab": {
          "base_uri": "https://localhost:8080/"
        },
        "id": "9sWN1Zefaj2o",
        "outputId": "19d3044a-1f59-4b37-a0e5-cf4aed5906bb"
      },
      "source": [
        "X_scaler.shape, y_scaler.shape\n",
        "# Ok!"
      ],
      "execution_count": null,
      "outputs": [
        {
          "data": {
            "text/plain": [
              "((85676, 5), (85676, 1))"
            ]
          },
          "execution_count": 51,
          "metadata": {},
          "output_type": "execute_result"
        }
      ]
    },
    {
      "cell_type": "code",
      "metadata": {
        "colab": {
          "base_uri": "https://localhost:8080/"
        },
        "id": "d1oxBzoZqDM7",
        "outputId": "90bbeba8-a993-49d7-f80b-3ed0b04cc4b5"
      },
      "source": [
        "X.shape, y.shape\n",
        "# Ok!"
      ],
      "execution_count": null,
      "outputs": [
        {
          "data": {
            "text/plain": [
              "((85676, 5), (85676,))"
            ]
          },
          "execution_count": 52,
          "metadata": {},
          "output_type": "execute_result"
        }
      ]
    },
    {
      "cell_type": "markdown",
      "metadata": {
        "id": "TuH5AwvH6V5G"
      },
      "source": [
        "####Using the Normalizer"
      ]
    },
    {
      "cell_type": "code",
      "metadata": {
        "id": "TZc739DV6aGI"
      },
      "source": [
        "from sklearn.preprocessing import Normalizer\n",
        "\n",
        "X_normalize = X.copy()\n",
        "X_normalize = Normalizer().fit_transform(X)"
      ],
      "execution_count": null,
      "outputs": []
    },
    {
      "cell_type": "code",
      "metadata": {
        "colab": {
          "base_uri": "https://localhost:8080/"
        },
        "id": "uCUNbOT-6uy3",
        "outputId": "fd92c1fb-8981-4306-cd35-e8ec94623f8d"
      },
      "source": [
        "X_normalize"
      ],
      "execution_count": null,
      "outputs": [
        {
          "data": {
            "text/plain": [
              "array([[9.99134298e-01, 4.94865923e-04, 4.94865923e-04, 1.48459777e-03,\n",
              "        4.15687375e-02],\n",
              "       [9.99554756e-01, 4.96056951e-04, 4.96056951e-04, 1.98422780e-03,\n",
              "        2.97634170e-02],\n",
              "       [9.99748234e-01, 4.98378980e-04, 0.00000000e+00, 4.98378980e-04,\n",
              "        2.24270541e-02],\n",
              "       ...,\n",
              "       [9.99908901e-01, 4.98210713e-04, 0.00000000e+00, 9.96421426e-04,\n",
              "        1.34516893e-02],\n",
              "       [9.99690983e-01, 4.95387009e-04, 4.95387009e-04, 1.98154803e-03,\n",
              "        2.47693504e-02],\n",
              "       [9.99494860e-01, 4.96273515e-04, 0.00000000e+00, 9.92547031e-04,\n",
              "        3.17615050e-02]])"
            ]
          },
          "execution_count": 54,
          "metadata": {},
          "output_type": "execute_result"
        }
      ]
    },
    {
      "cell_type": "code",
      "metadata": {
        "colab": {
          "base_uri": "https://localhost:8080/"
        },
        "id": "gOYEFhmH6xk5",
        "outputId": "d4aa93cc-7d20-4991-a8a6-880c94a0dec7"
      },
      "source": [
        "X_normalize.shape, y.shape\n",
        "# ok"
      ],
      "execution_count": null,
      "outputs": [
        {
          "data": {
            "text/plain": [
              "((85676, 5), (85676,))"
            ]
          },
          "execution_count": 55,
          "metadata": {},
          "output_type": "execute_result"
        }
      ]
    },
    {
      "cell_type": "markdown",
      "metadata": {
        "id": "cYbd-jW-o0hk"
      },
      "source": [
        "####Created Variables\n",
        "\n",
        "* The variables \"X\" and \"y\" will be used with the Linear Regression, Decision tree and Random forest models.\n",
        "* The variables X_scale and y_scale will be used with Neural Network and XGBoost models.\n",
        "* The variables X_normalize, and y will be use to test if its better for the Neural Network and XGB than the standard scale.\n",
        "They work diferentily to performe the normalization of the data.\n"
      ]
    },
    {
      "cell_type": "markdown",
      "metadata": {
        "id": "KVqUTCCHqdFD"
      },
      "source": [
        "# Modelling"
      ]
    },
    {
      "cell_type": "code",
      "metadata": {
        "id": "m_-SZmgaqj6E"
      },
      "source": [
        "# Importing GridSearch and Cross Val to find out the best parameters and train the models.\n",
        "from sklearn.model_selection import GridSearchCV\n",
        "from sklearn.model_selection import cross_val_score, KFold\n",
        "\n",
        "# Importing the algorithmns\n",
        "from sklearn.linear_model import LinearRegression\n",
        "from sklearn.preprocessing import PolynomialFeatures\n",
        "from sklearn.tree import DecisionTreeRegressor\n",
        "from sklearn.ensemble import RandomForestRegressor\n",
        "from xgboost import XGBRegressor\n",
        "from sklearn.neural_network import MLPRegressor\n",
        "\n",
        "# Importing the metric tu evaluate\n",
        "from sklearn.metrics import mean_absolute_error"
      ],
      "execution_count": null,
      "outputs": []
    },
    {
      "cell_type": "markdown",
      "metadata": {
        "id": "dXclBf-6sFYt"
      },
      "source": [
        "####Grid Search\n",
        "OBS: We will not use the Grid on the Linear Regression and Polynomial models.\n",
        "Just go with the default parameters."
      ]
    },
    {
      "cell_type": "code",
      "metadata": {
        "colab": {
          "base_uri": "https://localhost:8080/"
        },
        "id": "_TpGBh2oyH0N",
        "outputId": "251ccc3b-408b-4a6e-e43b-09d5c69b5e8b"
      },
      "source": [
        "# Multi Linear Regression\n",
        "lr = LinearRegression()\n",
        "lr.fit(X_scaler,y_scaler.ravel())\n",
        "pre = lr.predict(X_scaler)\n",
        "lr.score(X_scaler, y_scaler.ravel())"
      ],
      "execution_count": null,
      "outputs": [
        {
          "data": {
            "text/plain": [
              "0.15364733448103585"
            ]
          },
          "execution_count": 57,
          "metadata": {},
          "output_type": "execute_result"
        }
      ]
    },
    {
      "cell_type": "code",
      "metadata": {
        "colab": {
          "base_uri": "https://localhost:8080/"
        },
        "id": "pfUIsVsA15Hn",
        "outputId": "2081fc7c-aebe-4052-e485-5c49f5243915"
      },
      "source": [
        "# Linear Regression Polynomial\n",
        "poly_x = PolynomialFeatures(degree = 6)   # The best degree I found\n",
        "X_poly = poly_x.fit_transform(X)\n",
        "scaler_x = StandardScaler()\n",
        "X_poly_scaler = scaler_x.fit_transform(X_poly)\n",
        "\n",
        "\n",
        "lr_poly = LinearRegression()\n",
        "lr_poly.fit(X_poly_scaler, y_scaler.ravel())\n",
        "lr_poly.score(X_poly_scaler, y_scaler.ravel())"
      ],
      "execution_count": null,
      "outputs": [
        {
          "name": "stderr",
          "output_type": "stream",
          "text": [
            "/usr/local/lib/python3.7/dist-packages/sklearn/base.py:434: FutureWarning: The default value of multioutput (not exposed in score method) will change from 'variance_weighted' to 'uniform_average' in 0.23 to keep consistent with 'metrics.r2_score'. To specify the default value manually and avoid the warning, please either call 'metrics.r2_score' directly or make a custom scorer with 'metrics.make_scorer' (the built-in scorer 'r2' uses multioutput='uniform_average').\n",
            "  \"multioutput='uniform_average').\", FutureWarning)\n"
          ]
        },
        {
          "data": {
            "text/plain": [
              "-0.0009360712088919475"
            ]
          },
          "execution_count": 60,
          "metadata": {},
          "output_type": "execute_result"
        }
      ]
    },
    {
      "cell_type": "code",
      "metadata": {
        "colab": {
          "base_uri": "https://localhost:8080/"
        },
        "id": "i3j-XAm-sH8D",
        "outputId": "80b5fc9f-dacb-44ac-9ea0-c07221feecf7"
      },
      "source": [
        "# Decision Tree Regressor\n",
        "parameters = {'criterion': ['mse'],\n",
        "              'splitter': ['best', 'random'],\n",
        "              'min_samples_split': [2, 20, 60, 100],\n",
        "              'min_samples_leaf': [1, 5, 20, 60]}\n",
        "\n",
        "tree_grid = GridSearchCV(estimator=DecisionTreeRegressor(), param_grid=parameters)\n",
        "tree_grid.fit(X, y)\n",
        "best_parameters = tree_grid.best_params_\n",
        "best_result = tree_grid.best_score_\n",
        "print(best_parameters)\n",
        "print(best_result)\n",
        "\n"
      ],
      "execution_count": null,
      "outputs": [
        {
          "name": "stdout",
          "output_type": "stream",
          "text": [
            "{'criterion': 'mse', 'min_samples_leaf': 5, 'min_samples_split': 2, 'splitter': 'best'}\n",
            "0.8779697796806216\n"
          ]
        }
      ]
    },
    {
      "cell_type": "code",
      "metadata": {
        "colab": {
          "base_uri": "https://localhost:8080/"
        },
        "id": "tXty8T8c7_dY",
        "outputId": "db661f37-ab81-4142-a534-8059b0957a90"
      },
      "source": [
        "tree = DecisionTreeRegressor(criterion='mse', min_samples_leaf=1, min_samples_split=20, splitter='best')\n",
        "tree.fit(X, y)"
      ],
      "execution_count": null,
      "outputs": [
        {
          "data": {
            "text/plain": [
              "DecisionTreeRegressor(ccp_alpha=0.0, criterion='mse', max_depth=None,\n",
              "                      max_features=None, max_leaf_nodes=None,\n",
              "                      min_impurity_decrease=0.0, min_impurity_split=None,\n",
              "                      min_samples_leaf=1, min_samples_split=20,\n",
              "                      min_weight_fraction_leaf=0.0, presort='deprecated',\n",
              "                      random_state=None, splitter='best')"
            ]
          },
          "execution_count": 64,
          "metadata": {},
          "output_type": "execute_result"
        }
      ]
    },
    {
      "cell_type": "code",
      "metadata": {
        "colab": {
          "base_uri": "https://localhost:8080/"
        },
        "id": "JmSgepXRuG5O",
        "outputId": "a82d845b-d536-4308-867a-e9ea1da2f193"
      },
      "source": [
        "# Random Forest Regressor\n",
        "parameters = {'criterion': ['mse'],\n",
        "              'n_estimators': [100, 150],\n",
        "              'min_samples_split':[2, 10],\n",
        "              'min_samples_leaf':[1, 10]}\n",
        "\n",
        "Rforest_grid = GridSearchCV(estimator=RandomForestRegressor(), param_grid=parameters)\n",
        "Rforest_grid.fit(X, y)\n",
        "best_parameters = Rforest_grid.best_params_\n",
        "best_result = Rforest_grid.best_score_\n",
        "print(best_parameters)\n",
        "print(best_result)"
      ],
      "execution_count": null,
      "outputs": [
        {
          "name": "stdout",
          "output_type": "stream",
          "text": [
            "{'criterion': 'mse', 'min_samples_leaf': 1, 'min_samples_split': 10, 'n_estimators': 150}\n",
            "0.8777852540162996\n"
          ]
        }
      ]
    },
    {
      "cell_type": "code",
      "metadata": {
        "colab": {
          "base_uri": "https://localhost:8080/"
        },
        "id": "53dk1i967zNJ",
        "outputId": "fab17124-5bb3-4d42-fae5-073a2a5732b0"
      },
      "source": [
        "Rforest = RandomForestRegressor(criterion='mse', min_samples_leaf=1, min_samples_split=10, n_estimators=150)\n",
        "Rforest.fit(X,y)"
      ],
      "execution_count": null,
      "outputs": [
        {
          "data": {
            "text/plain": [
              "RandomForestRegressor(bootstrap=True, ccp_alpha=0.0, criterion='mse',\n",
              "                      max_depth=None, max_features='auto', max_leaf_nodes=None,\n",
              "                      max_samples=None, min_impurity_decrease=0.0,\n",
              "                      min_impurity_split=None, min_samples_leaf=1,\n",
              "                      min_samples_split=10, min_weight_fraction_leaf=0.0,\n",
              "                      n_estimators=150, n_jobs=None, oob_score=False,\n",
              "                      random_state=None, verbose=0, warm_start=False)"
            ]
          },
          "execution_count": 66,
          "metadata": {},
          "output_type": "execute_result"
        }
      ]
    },
    {
      "cell_type": "code",
      "metadata": {
        "colab": {
          "base_uri": "https://localhost:8080/"
        },
        "id": "heFdcDVDp8HM",
        "outputId": "cfdabed3-3149-4ad9-a56f-60da629fbdb4"
      },
      "source": [
        "# XGBRegressor\n",
        "from sklearn.model_selection import train_test_split\n",
        "from xgboost import XGBRegressor\n",
        "\n",
        "X_train_xgb, X_test_xgb, y_train_xgb, y_test_xgb = train_test_split(X_scaler, y_scaler.ravel(), test_size=0.15, random_state=1)\n",
        "\n",
        "parameters = {'n_estimators': [1000, 1500], 'learning_rate': [0.01, 0.05, 0.10],\n",
        "              'n_jobs': [8], 'early_stopping_rounds':[5, 6, 7]}\n",
        "\n",
        "xgb_grid = GridSearchCV(estimator=XGBRegressor(), param_grid=parameters)\n",
        "xgb_grid.fit(X_scaler, y_scaler.ravel())\n",
        "best_parameters = xgb_grid.best_params_\n",
        "best_result = xgb_grid.best_score_\n",
        "print(best_parameters)\n",
        "print(best_result)\n",
        "\n",
        "\n",
        "# A experiment that a did.\n",
        "\"\"\"xgb = XGBRegressor(n_estimators=500, learning_rate=0.05, n_jobs=6)\n",
        "xgb.fit(X_train_xgb, y_train_xgb, \n",
        "             early_stopping_rounds=5, \n",
        "             eval_set=[(X_test_xgb, y_test_xgb)], \n",
        "             verbose=False)\n",
        "xgb.score(X_scaler, y_scaler.ravel())\"\"\""
      ],
      "execution_count": null,
      "outputs": [
        {
          "name": "stdout",
          "output_type": "stream",
          "text": [
            "[02:10:20] WARNING: /workspace/src/objective/regression_obj.cu:152: reg:linear is now deprecated in favor of reg:squarederror.\n",
            "[02:10:41] WARNING: /workspace/src/objective/regression_obj.cu:152: reg:linear is now deprecated in favor of reg:squarederror.\n",
            "[02:11:02] WARNING: /workspace/src/objective/regression_obj.cu:152: reg:linear is now deprecated in favor of reg:squarederror.\n",
            "[02:11:23] WARNING: /workspace/src/objective/regression_obj.cu:152: reg:linear is now deprecated in favor of reg:squarederror.\n",
            "[02:11:44] WARNING: /workspace/src/objective/regression_obj.cu:152: reg:linear is now deprecated in favor of reg:squarederror.\n",
            "[02:12:05] WARNING: /workspace/src/objective/regression_obj.cu:152: reg:linear is now deprecated in favor of reg:squarederror.\n",
            "[02:12:36] WARNING: /workspace/src/objective/regression_obj.cu:152: reg:linear is now deprecated in favor of reg:squarederror.\n",
            "[02:13:07] WARNING: /workspace/src/objective/regression_obj.cu:152: reg:linear is now deprecated in favor of reg:squarederror.\n",
            "[02:13:38] WARNING: /workspace/src/objective/regression_obj.cu:152: reg:linear is now deprecated in favor of reg:squarederror.\n",
            "[02:14:08] WARNING: /workspace/src/objective/regression_obj.cu:152: reg:linear is now deprecated in favor of reg:squarederror.\n",
            "[02:14:40] WARNING: /workspace/src/objective/regression_obj.cu:152: reg:linear is now deprecated in favor of reg:squarederror.\n",
            "[02:15:00] WARNING: /workspace/src/objective/regression_obj.cu:152: reg:linear is now deprecated in favor of reg:squarederror.\n",
            "[02:15:21] WARNING: /workspace/src/objective/regression_obj.cu:152: reg:linear is now deprecated in favor of reg:squarederror.\n",
            "[02:15:42] WARNING: /workspace/src/objective/regression_obj.cu:152: reg:linear is now deprecated in favor of reg:squarederror.\n",
            "[02:16:02] WARNING: /workspace/src/objective/regression_obj.cu:152: reg:linear is now deprecated in favor of reg:squarederror.\n",
            "[02:16:23] WARNING: /workspace/src/objective/regression_obj.cu:152: reg:linear is now deprecated in favor of reg:squarederror.\n",
            "[02:16:53] WARNING: /workspace/src/objective/regression_obj.cu:152: reg:linear is now deprecated in favor of reg:squarederror.\n",
            "[02:17:24] WARNING: /workspace/src/objective/regression_obj.cu:152: reg:linear is now deprecated in favor of reg:squarederror.\n",
            "[02:17:55] WARNING: /workspace/src/objective/regression_obj.cu:152: reg:linear is now deprecated in favor of reg:squarederror.\n",
            "[02:18:26] WARNING: /workspace/src/objective/regression_obj.cu:152: reg:linear is now deprecated in favor of reg:squarederror.\n",
            "[02:18:57] WARNING: /workspace/src/objective/regression_obj.cu:152: reg:linear is now deprecated in favor of reg:squarederror.\n",
            "[02:19:18] WARNING: /workspace/src/objective/regression_obj.cu:152: reg:linear is now deprecated in favor of reg:squarederror.\n",
            "[02:19:38] WARNING: /workspace/src/objective/regression_obj.cu:152: reg:linear is now deprecated in favor of reg:squarederror.\n",
            "[02:19:59] WARNING: /workspace/src/objective/regression_obj.cu:152: reg:linear is now deprecated in favor of reg:squarederror.\n",
            "[02:20:19] WARNING: /workspace/src/objective/regression_obj.cu:152: reg:linear is now deprecated in favor of reg:squarederror.\n",
            "[02:20:40] WARNING: /workspace/src/objective/regression_obj.cu:152: reg:linear is now deprecated in favor of reg:squarederror.\n",
            "[02:21:11] WARNING: /workspace/src/objective/regression_obj.cu:152: reg:linear is now deprecated in favor of reg:squarederror.\n",
            "[02:21:41] WARNING: /workspace/src/objective/regression_obj.cu:152: reg:linear is now deprecated in favor of reg:squarederror.\n",
            "[02:22:12] WARNING: /workspace/src/objective/regression_obj.cu:152: reg:linear is now deprecated in favor of reg:squarederror.\n",
            "[02:22:43] WARNING: /workspace/src/objective/regression_obj.cu:152: reg:linear is now deprecated in favor of reg:squarederror.\n",
            "[02:23:14] WARNING: /workspace/src/objective/regression_obj.cu:152: reg:linear is now deprecated in favor of reg:squarederror.\n",
            "[02:23:35] WARNING: /workspace/src/objective/regression_obj.cu:152: reg:linear is now deprecated in favor of reg:squarederror.\n",
            "[02:23:56] WARNING: /workspace/src/objective/regression_obj.cu:152: reg:linear is now deprecated in favor of reg:squarederror.\n",
            "[02:24:16] WARNING: /workspace/src/objective/regression_obj.cu:152: reg:linear is now deprecated in favor of reg:squarederror.\n",
            "[02:24:37] WARNING: /workspace/src/objective/regression_obj.cu:152: reg:linear is now deprecated in favor of reg:squarederror.\n",
            "[02:24:58] WARNING: /workspace/src/objective/regression_obj.cu:152: reg:linear is now deprecated in favor of reg:squarederror.\n",
            "[02:25:29] WARNING: /workspace/src/objective/regression_obj.cu:152: reg:linear is now deprecated in favor of reg:squarederror.\n",
            "[02:26:00] WARNING: /workspace/src/objective/regression_obj.cu:152: reg:linear is now deprecated in favor of reg:squarederror.\n",
            "[02:26:31] WARNING: /workspace/src/objective/regression_obj.cu:152: reg:linear is now deprecated in favor of reg:squarederror.\n",
            "[02:27:02] WARNING: /workspace/src/objective/regression_obj.cu:152: reg:linear is now deprecated in favor of reg:squarederror.\n",
            "[02:27:33] WARNING: /workspace/src/objective/regression_obj.cu:152: reg:linear is now deprecated in favor of reg:squarederror.\n",
            "[02:27:54] WARNING: /workspace/src/objective/regression_obj.cu:152: reg:linear is now deprecated in favor of reg:squarederror.\n",
            "[02:28:14] WARNING: /workspace/src/objective/regression_obj.cu:152: reg:linear is now deprecated in favor of reg:squarederror.\n",
            "[02:28:35] WARNING: /workspace/src/objective/regression_obj.cu:152: reg:linear is now deprecated in favor of reg:squarederror.\n",
            "[02:28:55] WARNING: /workspace/src/objective/regression_obj.cu:152: reg:linear is now deprecated in favor of reg:squarederror.\n",
            "[02:29:16] WARNING: /workspace/src/objective/regression_obj.cu:152: reg:linear is now deprecated in favor of reg:squarederror.\n",
            "[02:29:47] WARNING: /workspace/src/objective/regression_obj.cu:152: reg:linear is now deprecated in favor of reg:squarederror.\n",
            "[02:30:18] WARNING: /workspace/src/objective/regression_obj.cu:152: reg:linear is now deprecated in favor of reg:squarederror.\n",
            "[02:30:49] WARNING: /workspace/src/objective/regression_obj.cu:152: reg:linear is now deprecated in favor of reg:squarederror.\n",
            "[02:31:20] WARNING: /workspace/src/objective/regression_obj.cu:152: reg:linear is now deprecated in favor of reg:squarederror.\n",
            "[02:31:50] WARNING: /workspace/src/objective/regression_obj.cu:152: reg:linear is now deprecated in favor of reg:squarederror.\n",
            "[02:32:11] WARNING: /workspace/src/objective/regression_obj.cu:152: reg:linear is now deprecated in favor of reg:squarederror.\n",
            "[02:32:32] WARNING: /workspace/src/objective/regression_obj.cu:152: reg:linear is now deprecated in favor of reg:squarederror.\n",
            "[02:32:52] WARNING: /workspace/src/objective/regression_obj.cu:152: reg:linear is now deprecated in favor of reg:squarederror.\n",
            "[02:33:13] WARNING: /workspace/src/objective/regression_obj.cu:152: reg:linear is now deprecated in favor of reg:squarederror.\n",
            "[02:33:33] WARNING: /workspace/src/objective/regression_obj.cu:152: reg:linear is now deprecated in favor of reg:squarederror.\n",
            "[02:34:04] WARNING: /workspace/src/objective/regression_obj.cu:152: reg:linear is now deprecated in favor of reg:squarederror.\n",
            "[02:34:35] WARNING: /workspace/src/objective/regression_obj.cu:152: reg:linear is now deprecated in favor of reg:squarederror.\n",
            "[02:35:06] WARNING: /workspace/src/objective/regression_obj.cu:152: reg:linear is now deprecated in favor of reg:squarederror.\n",
            "[02:35:37] WARNING: /workspace/src/objective/regression_obj.cu:152: reg:linear is now deprecated in favor of reg:squarederror.\n",
            "[02:36:07] WARNING: /workspace/src/objective/regression_obj.cu:152: reg:linear is now deprecated in favor of reg:squarederror.\n",
            "[02:36:28] WARNING: /workspace/src/objective/regression_obj.cu:152: reg:linear is now deprecated in favor of reg:squarederror.\n",
            "[02:36:49] WARNING: /workspace/src/objective/regression_obj.cu:152: reg:linear is now deprecated in favor of reg:squarederror.\n",
            "[02:37:10] WARNING: /workspace/src/objective/regression_obj.cu:152: reg:linear is now deprecated in favor of reg:squarederror.\n",
            "[02:37:31] WARNING: /workspace/src/objective/regression_obj.cu:152: reg:linear is now deprecated in favor of reg:squarederror.\n",
            "[02:37:52] WARNING: /workspace/src/objective/regression_obj.cu:152: reg:linear is now deprecated in favor of reg:squarederror.\n",
            "[02:38:23] WARNING: /workspace/src/objective/regression_obj.cu:152: reg:linear is now deprecated in favor of reg:squarederror.\n",
            "[02:38:53] WARNING: /workspace/src/objective/regression_obj.cu:152: reg:linear is now deprecated in favor of reg:squarederror.\n",
            "[02:39:24] WARNING: /workspace/src/objective/regression_obj.cu:152: reg:linear is now deprecated in favor of reg:squarederror.\n",
            "[02:39:55] WARNING: /workspace/src/objective/regression_obj.cu:152: reg:linear is now deprecated in favor of reg:squarederror.\n",
            "[02:40:26] WARNING: /workspace/src/objective/regression_obj.cu:152: reg:linear is now deprecated in favor of reg:squarederror.\n",
            "[02:40:47] WARNING: /workspace/src/objective/regression_obj.cu:152: reg:linear is now deprecated in favor of reg:squarederror.\n",
            "[02:41:08] WARNING: /workspace/src/objective/regression_obj.cu:152: reg:linear is now deprecated in favor of reg:squarederror.\n",
            "[02:41:28] WARNING: /workspace/src/objective/regression_obj.cu:152: reg:linear is now deprecated in favor of reg:squarederror.\n",
            "[02:41:49] WARNING: /workspace/src/objective/regression_obj.cu:152: reg:linear is now deprecated in favor of reg:squarederror.\n",
            "[02:42:09] WARNING: /workspace/src/objective/regression_obj.cu:152: reg:linear is now deprecated in favor of reg:squarederror.\n",
            "[02:42:40] WARNING: /workspace/src/objective/regression_obj.cu:152: reg:linear is now deprecated in favor of reg:squarederror.\n",
            "[02:43:11] WARNING: /workspace/src/objective/regression_obj.cu:152: reg:linear is now deprecated in favor of reg:squarederror.\n",
            "[02:43:42] WARNING: /workspace/src/objective/regression_obj.cu:152: reg:linear is now deprecated in favor of reg:squarederror.\n",
            "[02:44:13] WARNING: /workspace/src/objective/regression_obj.cu:152: reg:linear is now deprecated in favor of reg:squarederror.\n",
            "[02:44:44] WARNING: /workspace/src/objective/regression_obj.cu:152: reg:linear is now deprecated in favor of reg:squarederror.\n",
            "[02:45:04] WARNING: /workspace/src/objective/regression_obj.cu:152: reg:linear is now deprecated in favor of reg:squarederror.\n",
            "[02:45:25] WARNING: /workspace/src/objective/regression_obj.cu:152: reg:linear is now deprecated in favor of reg:squarederror.\n",
            "[02:45:46] WARNING: /workspace/src/objective/regression_obj.cu:152: reg:linear is now deprecated in favor of reg:squarederror.\n",
            "[02:46:06] WARNING: /workspace/src/objective/regression_obj.cu:152: reg:linear is now deprecated in favor of reg:squarederror.\n",
            "[02:46:27] WARNING: /workspace/src/objective/regression_obj.cu:152: reg:linear is now deprecated in favor of reg:squarederror.\n",
            "[02:46:57] WARNING: /workspace/src/objective/regression_obj.cu:152: reg:linear is now deprecated in favor of reg:squarederror.\n",
            "[02:47:28] WARNING: /workspace/src/objective/regression_obj.cu:152: reg:linear is now deprecated in favor of reg:squarederror.\n",
            "[02:47:59] WARNING: /workspace/src/objective/regression_obj.cu:152: reg:linear is now deprecated in favor of reg:squarederror.\n",
            "[02:48:30] WARNING: /workspace/src/objective/regression_obj.cu:152: reg:linear is now deprecated in favor of reg:squarederror.\n",
            "[02:49:01] WARNING: /workspace/src/objective/regression_obj.cu:152: reg:linear is now deprecated in favor of reg:squarederror.\n",
            "{'early_stopping_rounds': 5, 'learning_rate': 0.1, 'n_estimators': 1500, 'n_jobs': 8}\n",
            "0.8735924481903037\n"
          ]
        },
        {
          "data": {
            "application/vnd.google.colaboratory.intrinsic+json": {
              "type": "string"
            },
            "text/plain": [
              "'xgb = XGBRegressor(n_estimators=500, learning_rate=0.05, n_jobs=6)\\nxgb.fit(X_train_xgb, y_train_xgb, \\n             early_stopping_rounds=5, \\n             eval_set=[(X_test_xgb, y_test_xgb)], \\n             verbose=False)\\nxgb.score(X_scaler, y_scaler.ravel())'"
            ]
          },
          "execution_count": 68,
          "metadata": {},
          "output_type": "execute_result"
        }
      ]
    },
    {
      "cell_type": "code",
      "metadata": {
        "colab": {
          "base_uri": "https://localhost:8080/"
        },
        "id": "8ws9JIm3lcjO",
        "outputId": "defe4419-394a-4b59-fbd7-7a3ce998b4a3"
      },
      "source": [
        "xgb = XGBRegressor(n_estimators=1000, learning_rate=0.01, n_jobs=8, early_stopping_rounds=5)\n",
        "xgb.fit(X_scaler, y_scaler.ravel())"
      ],
      "execution_count": null,
      "outputs": [
        {
          "name": "stdout",
          "output_type": "stream",
          "text": [
            "[02:49:38] WARNING: /workspace/src/objective/regression_obj.cu:152: reg:linear is now deprecated in favor of reg:squarederror.\n"
          ]
        },
        {
          "data": {
            "text/plain": [
              "XGBRegressor(base_score=0.5, booster='gbtree', colsample_bylevel=1,\n",
              "             colsample_bynode=1, colsample_bytree=1, early_stopping_rounds=5,\n",
              "             gamma=0, importance_type='gain', learning_rate=0.01,\n",
              "             max_delta_step=0, max_depth=3, min_child_weight=1, missing=None,\n",
              "             n_estimators=1000, n_jobs=8, nthread=None, objective='reg:linear',\n",
              "             random_state=0, reg_alpha=0, reg_lambda=1, scale_pos_weight=1,\n",
              "             seed=None, silent=None, subsample=1, verbosity=1)"
            ]
          },
          "execution_count": 69,
          "metadata": {},
          "output_type": "execute_result"
        }
      ]
    },
    {
      "cell_type": "code",
      "metadata": {
        "colab": {
          "base_uri": "https://localhost:8080/"
        },
        "id": "emhG-3MaECbW",
        "outputId": "f1822525-7fd6-4101-fdf8-76878b243995"
      },
      "source": [
        "# Neural Network\n",
        "\n",
        "\n",
        "nn = MLPRegressor(max_iter=1500, hidden_layer_sizes=(80,80), tol=0.0001, batch_size=56)\n",
        "nn.fit(X_scaler, y_scaler.ravel())"
      ],
      "execution_count": null,
      "outputs": [
        {
          "data": {
            "text/plain": [
              "MLPRegressor(activation='relu', alpha=0.0001, batch_size=56, beta_1=0.9,\n",
              "             beta_2=0.999, early_stopping=False, epsilon=1e-08,\n",
              "             hidden_layer_sizes=(80, 80), learning_rate='constant',\n",
              "             learning_rate_init=0.001, max_fun=15000, max_iter=1500,\n",
              "             momentum=0.9, n_iter_no_change=10, nesterovs_momentum=True,\n",
              "             power_t=0.5, random_state=None, shuffle=True, solver='adam',\n",
              "             tol=0.0001, validation_fraction=0.1, verbose=False,\n",
              "             warm_start=False)"
            ]
          },
          "execution_count": 70,
          "metadata": {},
          "output_type": "execute_result"
        }
      ]
    },
    {
      "cell_type": "code",
      "metadata": {
        "id": "f4FCnlN6zSJZ"
      },
      "source": [
        "import pickle\n",
        "with open('Car_prices_models_before_cross.pkl', mode = 'wb') as f:\n",
        "  pickle.dump([tree, Rforest, nn, xgb], f)"
      ],
      "execution_count": null,
      "outputs": []
    },
    {
      "cell_type": "markdown",
      "metadata": {
        "id": "FAbOgxm8nKAF"
      },
      "source": [
        "#Evaluation"
      ]
    },
    {
      "cell_type": "markdown",
      "metadata": {
        "id": "R0a2sLpwSM9R"
      },
      "source": [
        "###Cross Validation"
      ]
    },
    {
      "cell_type": "code",
      "metadata": {
        "colab": {
          "base_uri": "https://localhost:8080/"
        },
        "id": "UavGGq_RZRgm",
        "outputId": "20000ca7-73e0-450b-bfa5-e94243c167ca"
      },
      "source": [
        "# loading the models\n",
        "import pickle\n",
        "with open('Car_prices_models_before_cross.pkl', 'rb') as f:\n",
        "  tree, Rforest, nn, xgb = pickle.load(f)"
      ],
      "execution_count": null,
      "outputs": [
        {
          "name": "stdout",
          "output_type": "stream",
          "text": [
            "[20:35:03] WARNING: /workspace/src/objective/regression_obj.cu:152: reg:linear is now deprecated in favor of reg:squarederror.\n"
          ]
        }
      ]
    },
    {
      "cell_type": "code",
      "metadata": {
        "colab": {
          "background_save": true,
          "base_uri": "https://localhost:8080/"
        },
        "id": "9OrieP3dR4lo",
        "outputId": "7394a70e-6f13-4dc0-e192-fec690854764"
      },
      "source": [
        "results_tree = []\n",
        "results_random_forest = []\n",
        "results_nn = []\n",
        "results_xgb = []\n",
        "\n",
        "\n",
        "for i in range(30):\n",
        "  print(i)\n",
        "  kfold = KFold(n_splits=10, shuffle=True, random_state=i)\n",
        "\n",
        "  # Tree\n",
        "  scores = cross_val_score(tree, X, y, cv = kfold)\n",
        "  results_tree.append(scores.mean())\n",
        "\n",
        "  # Random Forest\n",
        "  scores = cross_val_score(Rforest, X, y, cv = kfold)\n",
        "  results_random_forest.append(scores.mean())\n",
        "\n",
        "  # Neural Network Regressor\n",
        "  scores = cross_val_score(nn, X_scaler, y_scaler.ravel(), cv = kfold)\n",
        "  results_nn.append(scores.mean())\n",
        "\n",
        "  # XGBRegressor\n",
        "  scores = cross_val_score(xgb, X_scaler, y_scaler.ravel(), cv = kfold)\n",
        "  results_xgb.append(scores.mean())"
      ],
      "execution_count": null,
      "outputs": [
        {
          "name": "stdout",
          "output_type": "stream",
          "text": [
            "0\n",
            "[21:32:32] WARNING: /workspace/src/objective/regression_obj.cu:152: reg:linear is now deprecated in favor of reg:squarederror.\n",
            "[21:32:56] WARNING: /workspace/src/objective/regression_obj.cu:152: reg:linear is now deprecated in favor of reg:squarederror.\n",
            "[21:33:20] WARNING: /workspace/src/objective/regression_obj.cu:152: reg:linear is now deprecated in favor of reg:squarederror.\n",
            "[21:33:44] WARNING: /workspace/src/objective/regression_obj.cu:152: reg:linear is now deprecated in favor of reg:squarederror.\n",
            "[21:34:08] WARNING: /workspace/src/objective/regression_obj.cu:152: reg:linear is now deprecated in favor of reg:squarederror.\n",
            "[21:34:32] WARNING: /workspace/src/objective/regression_obj.cu:152: reg:linear is now deprecated in favor of reg:squarederror.\n",
            "[21:34:56] WARNING: /workspace/src/objective/regression_obj.cu:152: reg:linear is now deprecated in favor of reg:squarederror.\n",
            "[21:35:20] WARNING: /workspace/src/objective/regression_obj.cu:152: reg:linear is now deprecated in favor of reg:squarederror.\n",
            "[21:35:44] WARNING: /workspace/src/objective/regression_obj.cu:152: reg:linear is now deprecated in favor of reg:squarederror.\n",
            "[21:36:08] WARNING: /workspace/src/objective/regression_obj.cu:152: reg:linear is now deprecated in favor of reg:squarederror.\n",
            "1\n",
            "[22:43:34] WARNING: /workspace/src/objective/regression_obj.cu:152: reg:linear is now deprecated in favor of reg:squarederror.\n",
            "[22:43:58] WARNING: /workspace/src/objective/regression_obj.cu:152: reg:linear is now deprecated in favor of reg:squarederror.\n",
            "[22:44:22] WARNING: /workspace/src/objective/regression_obj.cu:152: reg:linear is now deprecated in favor of reg:squarederror.\n",
            "[22:44:46] WARNING: /workspace/src/objective/regression_obj.cu:152: reg:linear is now deprecated in favor of reg:squarederror.\n",
            "[22:45:10] WARNING: /workspace/src/objective/regression_obj.cu:152: reg:linear is now deprecated in favor of reg:squarederror.\n",
            "[22:45:34] WARNING: /workspace/src/objective/regression_obj.cu:152: reg:linear is now deprecated in favor of reg:squarederror.\n",
            "[22:45:58] WARNING: /workspace/src/objective/regression_obj.cu:152: reg:linear is now deprecated in favor of reg:squarederror.\n",
            "[22:46:22] WARNING: /workspace/src/objective/regression_obj.cu:152: reg:linear is now deprecated in favor of reg:squarederror.\n",
            "[22:46:46] WARNING: /workspace/src/objective/regression_obj.cu:152: reg:linear is now deprecated in favor of reg:squarederror.\n",
            "[22:47:10] WARNING: /workspace/src/objective/regression_obj.cu:152: reg:linear is now deprecated in favor of reg:squarederror.\n",
            "2\n",
            "[23:48:01] WARNING: /workspace/src/objective/regression_obj.cu:152: reg:linear is now deprecated in favor of reg:squarederror.\n",
            "[23:48:25] WARNING: /workspace/src/objective/regression_obj.cu:152: reg:linear is now deprecated in favor of reg:squarederror.\n",
            "[23:48:49] WARNING: /workspace/src/objective/regression_obj.cu:152: reg:linear is now deprecated in favor of reg:squarederror.\n",
            "[23:49:13] WARNING: /workspace/src/objective/regression_obj.cu:152: reg:linear is now deprecated in favor of reg:squarederror.\n",
            "[23:49:37] WARNING: /workspace/src/objective/regression_obj.cu:152: reg:linear is now deprecated in favor of reg:squarederror.\n",
            "[23:50:01] WARNING: /workspace/src/objective/regression_obj.cu:152: reg:linear is now deprecated in favor of reg:squarederror.\n",
            "[23:50:25] WARNING: /workspace/src/objective/regression_obj.cu:152: reg:linear is now deprecated in favor of reg:squarederror.\n",
            "[23:50:49] WARNING: /workspace/src/objective/regression_obj.cu:152: reg:linear is now deprecated in favor of reg:squarederror.\n",
            "[23:51:13] WARNING: /workspace/src/objective/regression_obj.cu:152: reg:linear is now deprecated in favor of reg:squarederror.\n",
            "[23:51:37] WARNING: /workspace/src/objective/regression_obj.cu:152: reg:linear is now deprecated in favor of reg:squarederror.\n",
            "3\n",
            "[00:55:51] WARNING: /workspace/src/objective/regression_obj.cu:152: reg:linear is now deprecated in favor of reg:squarederror.\n",
            "[00:56:15] WARNING: /workspace/src/objective/regression_obj.cu:152: reg:linear is now deprecated in favor of reg:squarederror.\n",
            "[00:56:39] WARNING: /workspace/src/objective/regression_obj.cu:152: reg:linear is now deprecated in favor of reg:squarederror.\n",
            "[00:57:03] WARNING: /workspace/src/objective/regression_obj.cu:152: reg:linear is now deprecated in favor of reg:squarederror.\n",
            "[00:57:27] WARNING: /workspace/src/objective/regression_obj.cu:152: reg:linear is now deprecated in favor of reg:squarederror.\n",
            "[00:57:51] WARNING: /workspace/src/objective/regression_obj.cu:152: reg:linear is now deprecated in favor of reg:squarederror.\n",
            "[00:58:15] WARNING: /workspace/src/objective/regression_obj.cu:152: reg:linear is now deprecated in favor of reg:squarederror.\n",
            "[00:58:39] WARNING: /workspace/src/objective/regression_obj.cu:152: reg:linear is now deprecated in favor of reg:squarederror.\n",
            "[00:59:03] WARNING: /workspace/src/objective/regression_obj.cu:152: reg:linear is now deprecated in favor of reg:squarederror.\n",
            "[00:59:27] WARNING: /workspace/src/objective/regression_obj.cu:152: reg:linear is now deprecated in favor of reg:squarederror.\n",
            "4\n",
            "[02:00:28] WARNING: /workspace/src/objective/regression_obj.cu:152: reg:linear is now deprecated in favor of reg:squarederror.\n",
            "[02:00:52] WARNING: /workspace/src/objective/regression_obj.cu:152: reg:linear is now deprecated in favor of reg:squarederror.\n",
            "[02:01:16] WARNING: /workspace/src/objective/regression_obj.cu:152: reg:linear is now deprecated in favor of reg:squarederror.\n",
            "[02:01:40] WARNING: /workspace/src/objective/regression_obj.cu:152: reg:linear is now deprecated in favor of reg:squarederror.\n",
            "[02:02:04] WARNING: /workspace/src/objective/regression_obj.cu:152: reg:linear is now deprecated in favor of reg:squarederror.\n",
            "[02:02:28] WARNING: /workspace/src/objective/regression_obj.cu:152: reg:linear is now deprecated in favor of reg:squarederror.\n",
            "[02:02:52] WARNING: /workspace/src/objective/regression_obj.cu:152: reg:linear is now deprecated in favor of reg:squarederror.\n",
            "[02:03:16] WARNING: /workspace/src/objective/regression_obj.cu:152: reg:linear is now deprecated in favor of reg:squarederror.\n",
            "[02:03:40] WARNING: /workspace/src/objective/regression_obj.cu:152: reg:linear is now deprecated in favor of reg:squarederror.\n",
            "[02:04:05] WARNING: /workspace/src/objective/regression_obj.cu:152: reg:linear is now deprecated in favor of reg:squarederror.\n",
            "5\n"
          ]
        }
      ]
    },
    {
      "cell_type": "code",
      "metadata": {
        "id": "LZRQrMekSqvE"
      },
      "source": [
        "model_results = pd.DataFrame({'Decision Tree Regressor': results_tree, 'Random Forest Regressor': results_random_forest,'Neural Network Regressor': results_nn,\n",
        "                              'XGBRegressor':results_xgb})\n",
        "model_results"
      ],
      "execution_count": null,
      "outputs": []
    },
    {
      "cell_type": "code",
      "metadata": {
        "id": "g_lXy-Vm2y8W"
      },
      "source": [
        "model_results.to_csv(\" Model_Results.csv\", index=False)"
      ],
      "execution_count": null,
      "outputs": []
    },
    {
      "cell_type": "code",
      "metadata": {
        "id": "1JR1Qmt03AxB"
      },
      "source": [
        "import pickle\n",
        "with open('Car_prices_models.pkl', mode = 'wb') as f:\n",
        "  pickle.dump([tree, Rforest, nn, xgb], f)"
      ],
      "execution_count": null,
      "outputs": []
    },
    {
      "cell_type": "markdown",
      "metadata": {
        "id": "blbexOZ-Vjk2"
      },
      "source": [
        "#Evaluation"
      ]
    },
    {
      "cell_type": "code",
      "metadata": {
        "id": "jA_6BDrSVkzx"
      },
      "source": [
        "model_results.describe()"
      ],
      "execution_count": null,
      "outputs": []
    },
    {
      "cell_type": "code",
      "metadata": {
        "id": "tty4udUfdA2A"
      },
      "source": [
        "model_results.var()"
      ],
      "execution_count": null,
      "outputs": []
    },
    {
      "cell_type": "code",
      "metadata": {
        "id": "ZbQwK1fYdORQ"
      },
      "source": [
        "(model_results.std() / model_results.mean()) * 100"
      ],
      "execution_count": null,
      "outputs": []
    },
    {
      "cell_type": "code",
      "metadata": {
        "id": "QyW6wEXOefZ2"
      },
      "source": [
        "from sklearn.metrics import mean_absolute_error, mean_squared_error"
      ],
      "execution_count": null,
      "outputs": []
    },
    {
      "cell_type": "code",
      "metadata": {
        "id": "lEnvwvrTfHq9"
      },
      "source": [
        "tree_prediction = tree.predict(X)\n",
        "mean_absolute_error(tree_prediction,y)\n"
      ],
      "execution_count": null,
      "outputs": []
    },
    {
      "cell_type": "code",
      "metadata": {
        "id": "bWYbDXOyh3lR"
      },
      "source": [
        "Rforest_prediction = Rforest.predict(X)\n",
        "mean_absolute_error(Rforest_prediction, y)"
      ],
      "execution_count": null,
      "outputs": []
    }
  ]
}